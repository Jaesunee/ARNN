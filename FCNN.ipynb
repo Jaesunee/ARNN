{
 "cells": [
  {
   "cell_type": "markdown",
   "metadata": {},
   "source": [
    "# AR HW 1: Predicting Rainfall in Australia Using Neural Networks\n",
    "\n",
    "## Table of Contents\n",
    "1. [The Problem Statement](#1)\n",
    "2. [Importing Libraries](#2)\n",
    "3. [Loading the Dataset](#3)\n",
    "4. [Exporatory Data Analysis](#4)\n",
    "    - [Initial Overview](#4.1) \n",
    "5. [Target Variable Exploration (Univariate Analysis)](#5)\n",
    "   - [Target Variable Summary](#5.1) \n",
    "6. [Feature Exploration, Cleaning, and Preprocessing (Bivariate Analysis)](#6)\n",
    "    - [Categorical Features](#6.1) \n",
    "        - [Feature Engineering of Date Variable](#6.1.1) \n",
    "        - [Handling Missing Values](#6.1.2) \n",
    "        - [Encoding Variables](#6.1.3) \n",
    "    - [Numerical Features](#6.2) \n",
    "        - [Numerical Feature Summary](#6.2.1)\n",
    "        - [Handling Missing Values](#6.2.2)\n",
    "        - [Scaling Features](#6.2.3) \n",
    "        - [Handling Outliers](#6.2.4) \n",
    "    - [Splitting the Dataset](#6.3)\n",
    "7. [Feature Analysis (Multivariate Analysis)](#7)\n",
    "    - [Heatmap](#7.1)\n",
    "        - [Heatmap Summary](#7.1.1) \n",
    "    - [Feature Engineering and Selection](#7.2)\n",
    "        - [Feature Engineering and Selection Interpretation](#7.2.1) \n",
    "8. [Model Building](#8)\n",
    "9. [Model Training and Validation](#9)\n",
    "    - [Initial Model](#9.1)\n",
    "    - [Hyperparameter Tuning](#9.2)\n",
    "10. [Hypermodel Evaluation](#10)\n",
    "11. [Report and Interpretation](#11)"
   ]
  },
  {
   "cell_type": "markdown",
   "metadata": {},
   "source": [
    "## 1. The problem statement <a class=\"anchor\" id=\"1\"></a>\n",
    "\n",
    "In this notebook we will try to determine whether or not it will rain in Australia tomorrow. We will implement an artificial neural network to accomplish this.\n"
   ]
  },
  {
   "cell_type": "markdown",
   "metadata": {},
   "source": [
    "## 2. Importing Libraries <a class=\"anchor\" id=\"2\"></a>\n",
    "\n",
    "Before building the model, we must import the necessary libraries."
   ]
  },
  {
   "cell_type": "code",
   "execution_count": 1,
   "metadata": {
    "_cell_guid": "b1076dfc-b9ad-4769-8c92-a6c4dae69d19",
    "_uuid": "8f2839f25d086af736a60e9eeb907d3b93b6e0e5",
    "execution": {
     "iopub.execute_input": "2023-12-05T06:15:46.046357Z",
     "iopub.status.busy": "2023-12-05T06:15:46.046008Z",
     "iopub.status.idle": "2023-12-05T06:15:59.269227Z",
     "shell.execute_reply": "2023-12-05T06:15:59.268155Z",
     "shell.execute_reply.started": "2023-12-05T06:15:46.046325Z"
    }
   },
   "outputs": [
    {
     "name": "stdout",
     "output_type": "stream",
     "text": [
      "/kaggle/input/weather-dataset-rattle-package/weatherAUS.csv\n"
     ]
    }
   ],
   "source": [
    "# This Python 3 environment comes with many helpful analytics libraries installed\n",
    "# It is defined by the kaggle/python Docker image: https://github.com/kaggle/docker-python\n",
    "# For example, here's several helpful packages to load \n",
    "\n",
    "import numpy as np # linear algebra\n",
    "import pandas as pd # data processing, CSV file I/O (e.g. pd.read_csv)\n",
    "\n",
    "# import libraries for preprocessing, scaling, etc.\n",
    "from sklearn import preprocessing\n",
    "from sklearn.preprocessing import StandardScaler\n",
    "from sklearn.preprocessing import LabelEncoder\n",
    "from sklearn.model_selection import train_test_split, GridSearchCV, KFold\n",
    "from sklearn.metrics import precision_score, recall_score, confusion_matrix, classification_report, accuracy_score, f1_score\n",
    "\n",
    "# import model\n",
    "import tensorflow as tf\n",
    "from tensorflow import keras\n",
    "from tensorflow.keras.layers import Dense,Dropout\n",
    "from tensorflow.keras.models import Sequential\n",
    "from tensorflow.keras.callbacks import EarlyStopping\n",
    "from tensorflow.keras.optimizers import Adam\n",
    "import keras_tuner as kt\n",
    "\n",
    "# import libraries for plotting\n",
    "import matplotlib.pyplot as plt\n",
    "import seaborn as sns\n",
    "%matplotlib inline\n",
    "\n",
    "# Input data files are available in the read-only \"../input/\" directory\n",
    "# For example, running this (by clicking run or pressing Shift+Enter) will list all files under the input directory\n",
    "\n",
    "import os\n",
    "for dirname, _, filenames in os.walk('/kaggle/input'):\n",
    "    for filename in filenames:\n",
    "        print(os.path.join(dirname, filename))\n",
    "\n",
    "# You can write up to 20GB to the current directory (/kaggle/working/) that gets preserved as output when you create a version using \"Save & Run All\" \n",
    "# You can also write temporary files to /kaggle/temp/, but they won't be saved outside of the current session"
   ]
  },
  {
   "cell_type": "code",
   "execution_count": 2,
   "metadata": {
    "execution": {
     "iopub.execute_input": "2023-12-05T06:15:59.271162Z",
     "iopub.status.busy": "2023-12-05T06:15:59.270701Z",
     "iopub.status.idle": "2023-12-05T06:15:59.275049Z",
     "shell.execute_reply": "2023-12-05T06:15:59.274257Z",
     "shell.execute_reply.started": "2023-12-05T06:15:59.271140Z"
    }
   },
   "outputs": [],
   "source": [
    "# mute warnings\n",
    "import warnings\n",
    "\n",
    "warnings.filterwarnings('ignore')"
   ]
  },
  {
   "cell_type": "markdown",
   "metadata": {},
   "source": [
    "## 3. Loading the Dataset <a class=\"anchor\" id=\"4\"></a>\n",
    "\n",
    "Now loading the Rain in Australia dataset using Pandas (dataframe)."
   ]
  },
  {
   "cell_type": "code",
   "execution_count": 3,
   "metadata": {
    "execution": {
     "iopub.execute_input": "2023-12-05T06:15:59.276605Z",
     "iopub.status.busy": "2023-12-05T06:15:59.276309Z",
     "iopub.status.idle": "2023-12-05T06:15:59.682529Z",
     "shell.execute_reply": "2023-12-05T06:15:59.681484Z",
     "shell.execute_reply.started": "2023-12-05T06:15:59.276567Z"
    }
   },
   "outputs": [],
   "source": [
    "data = '/kaggle/input/weather-dataset-rattle-package/weatherAUS.csv'\n",
    "\n",
    "df = pd.read_csv(data)"
   ]
  },
  {
   "cell_type": "markdown",
   "metadata": {},
   "source": [
    "## 4. Exploratory Data Analysis <a class=\"anchor\" id=\"4\"></a>\n",
    "\n",
    "Let us take a look at the imported data. First we can view the dimensions of the data and preview the first 5 observations of the data."
   ]
  },
  {
   "cell_type": "code",
   "execution_count": 4,
   "metadata": {
    "execution": {
     "iopub.execute_input": "2023-12-05T06:15:59.685276Z",
     "iopub.status.busy": "2023-12-05T06:15:59.685024Z",
     "iopub.status.idle": "2023-12-05T06:15:59.724486Z",
     "shell.execute_reply": "2023-12-05T06:15:59.723259Z",
     "shell.execute_reply.started": "2023-12-05T06:15:59.685255Z"
    }
   },
   "outputs": [
    {
     "name": "stdout",
     "output_type": "stream",
     "text": [
      "(145460, 23)\n"
     ]
    },
    {
     "data": {
      "text/html": [
       "<div>\n",
       "<style scoped>\n",
       "    .dataframe tbody tr th:only-of-type {\n",
       "        vertical-align: middle;\n",
       "    }\n",
       "\n",
       "    .dataframe tbody tr th {\n",
       "        vertical-align: top;\n",
       "    }\n",
       "\n",
       "    .dataframe thead th {\n",
       "        text-align: right;\n",
       "    }\n",
       "</style>\n",
       "<table border=\"1\" class=\"dataframe\">\n",
       "  <thead>\n",
       "    <tr style=\"text-align: right;\">\n",
       "      <th></th>\n",
       "      <th>Date</th>\n",
       "      <th>Location</th>\n",
       "      <th>MinTemp</th>\n",
       "      <th>MaxTemp</th>\n",
       "      <th>Rainfall</th>\n",
       "      <th>Evaporation</th>\n",
       "      <th>Sunshine</th>\n",
       "      <th>WindGustDir</th>\n",
       "      <th>WindGustSpeed</th>\n",
       "      <th>WindDir9am</th>\n",
       "      <th>...</th>\n",
       "      <th>Humidity9am</th>\n",
       "      <th>Humidity3pm</th>\n",
       "      <th>Pressure9am</th>\n",
       "      <th>Pressure3pm</th>\n",
       "      <th>Cloud9am</th>\n",
       "      <th>Cloud3pm</th>\n",
       "      <th>Temp9am</th>\n",
       "      <th>Temp3pm</th>\n",
       "      <th>RainToday</th>\n",
       "      <th>RainTomorrow</th>\n",
       "    </tr>\n",
       "  </thead>\n",
       "  <tbody>\n",
       "    <tr>\n",
       "      <th>0</th>\n",
       "      <td>2008-12-01</td>\n",
       "      <td>Albury</td>\n",
       "      <td>13.4</td>\n",
       "      <td>22.9</td>\n",
       "      <td>0.6</td>\n",
       "      <td>NaN</td>\n",
       "      <td>NaN</td>\n",
       "      <td>W</td>\n",
       "      <td>44.0</td>\n",
       "      <td>W</td>\n",
       "      <td>...</td>\n",
       "      <td>71.0</td>\n",
       "      <td>22.0</td>\n",
       "      <td>1007.7</td>\n",
       "      <td>1007.1</td>\n",
       "      <td>8.0</td>\n",
       "      <td>NaN</td>\n",
       "      <td>16.9</td>\n",
       "      <td>21.8</td>\n",
       "      <td>No</td>\n",
       "      <td>No</td>\n",
       "    </tr>\n",
       "    <tr>\n",
       "      <th>1</th>\n",
       "      <td>2008-12-02</td>\n",
       "      <td>Albury</td>\n",
       "      <td>7.4</td>\n",
       "      <td>25.1</td>\n",
       "      <td>0.0</td>\n",
       "      <td>NaN</td>\n",
       "      <td>NaN</td>\n",
       "      <td>WNW</td>\n",
       "      <td>44.0</td>\n",
       "      <td>NNW</td>\n",
       "      <td>...</td>\n",
       "      <td>44.0</td>\n",
       "      <td>25.0</td>\n",
       "      <td>1010.6</td>\n",
       "      <td>1007.8</td>\n",
       "      <td>NaN</td>\n",
       "      <td>NaN</td>\n",
       "      <td>17.2</td>\n",
       "      <td>24.3</td>\n",
       "      <td>No</td>\n",
       "      <td>No</td>\n",
       "    </tr>\n",
       "    <tr>\n",
       "      <th>2</th>\n",
       "      <td>2008-12-03</td>\n",
       "      <td>Albury</td>\n",
       "      <td>12.9</td>\n",
       "      <td>25.7</td>\n",
       "      <td>0.0</td>\n",
       "      <td>NaN</td>\n",
       "      <td>NaN</td>\n",
       "      <td>WSW</td>\n",
       "      <td>46.0</td>\n",
       "      <td>W</td>\n",
       "      <td>...</td>\n",
       "      <td>38.0</td>\n",
       "      <td>30.0</td>\n",
       "      <td>1007.6</td>\n",
       "      <td>1008.7</td>\n",
       "      <td>NaN</td>\n",
       "      <td>2.0</td>\n",
       "      <td>21.0</td>\n",
       "      <td>23.2</td>\n",
       "      <td>No</td>\n",
       "      <td>No</td>\n",
       "    </tr>\n",
       "    <tr>\n",
       "      <th>3</th>\n",
       "      <td>2008-12-04</td>\n",
       "      <td>Albury</td>\n",
       "      <td>9.2</td>\n",
       "      <td>28.0</td>\n",
       "      <td>0.0</td>\n",
       "      <td>NaN</td>\n",
       "      <td>NaN</td>\n",
       "      <td>NE</td>\n",
       "      <td>24.0</td>\n",
       "      <td>SE</td>\n",
       "      <td>...</td>\n",
       "      <td>45.0</td>\n",
       "      <td>16.0</td>\n",
       "      <td>1017.6</td>\n",
       "      <td>1012.8</td>\n",
       "      <td>NaN</td>\n",
       "      <td>NaN</td>\n",
       "      <td>18.1</td>\n",
       "      <td>26.5</td>\n",
       "      <td>No</td>\n",
       "      <td>No</td>\n",
       "    </tr>\n",
       "    <tr>\n",
       "      <th>4</th>\n",
       "      <td>2008-12-05</td>\n",
       "      <td>Albury</td>\n",
       "      <td>17.5</td>\n",
       "      <td>32.3</td>\n",
       "      <td>1.0</td>\n",
       "      <td>NaN</td>\n",
       "      <td>NaN</td>\n",
       "      <td>W</td>\n",
       "      <td>41.0</td>\n",
       "      <td>ENE</td>\n",
       "      <td>...</td>\n",
       "      <td>82.0</td>\n",
       "      <td>33.0</td>\n",
       "      <td>1010.8</td>\n",
       "      <td>1006.0</td>\n",
       "      <td>7.0</td>\n",
       "      <td>8.0</td>\n",
       "      <td>17.8</td>\n",
       "      <td>29.7</td>\n",
       "      <td>No</td>\n",
       "      <td>No</td>\n",
       "    </tr>\n",
       "  </tbody>\n",
       "</table>\n",
       "<p>5 rows × 23 columns</p>\n",
       "</div>"
      ],
      "text/plain": [
       "         Date Location  MinTemp  MaxTemp  Rainfall  Evaporation  Sunshine  \\\n",
       "0  2008-12-01   Albury     13.4     22.9       0.6          NaN       NaN   \n",
       "1  2008-12-02   Albury      7.4     25.1       0.0          NaN       NaN   \n",
       "2  2008-12-03   Albury     12.9     25.7       0.0          NaN       NaN   \n",
       "3  2008-12-04   Albury      9.2     28.0       0.0          NaN       NaN   \n",
       "4  2008-12-05   Albury     17.5     32.3       1.0          NaN       NaN   \n",
       "\n",
       "  WindGustDir  WindGustSpeed WindDir9am  ... Humidity9am  Humidity3pm  \\\n",
       "0           W           44.0          W  ...        71.0         22.0   \n",
       "1         WNW           44.0        NNW  ...        44.0         25.0   \n",
       "2         WSW           46.0          W  ...        38.0         30.0   \n",
       "3          NE           24.0         SE  ...        45.0         16.0   \n",
       "4           W           41.0        ENE  ...        82.0         33.0   \n",
       "\n",
       "   Pressure9am  Pressure3pm  Cloud9am  Cloud3pm  Temp9am  Temp3pm  RainToday  \\\n",
       "0       1007.7       1007.1       8.0       NaN     16.9     21.8         No   \n",
       "1       1010.6       1007.8       NaN       NaN     17.2     24.3         No   \n",
       "2       1007.6       1008.7       NaN       2.0     21.0     23.2         No   \n",
       "3       1017.6       1012.8       NaN       NaN     18.1     26.5         No   \n",
       "4       1010.8       1006.0       7.0       8.0     17.8     29.7         No   \n",
       "\n",
       "   RainTomorrow  \n",
       "0            No  \n",
       "1            No  \n",
       "2            No  \n",
       "3            No  \n",
       "4            No  \n",
       "\n",
       "[5 rows x 23 columns]"
      ]
     },
     "execution_count": 4,
     "metadata": {},
     "output_type": "execute_result"
    }
   ],
   "source": [
    "print(df.shape)\n",
    "df.head()"
   ]
  },
  {
   "cell_type": "markdown",
   "metadata": {},
   "source": [
    "Looks like we have $145,460$ (rows) and $23$ features (columns). Let us take a look at the list of features. "
   ]
  },
  {
   "cell_type": "code",
   "execution_count": 5,
   "metadata": {
    "execution": {
     "iopub.execute_input": "2023-12-05T06:15:59.725933Z",
     "iopub.status.busy": "2023-12-05T06:15:59.725658Z",
     "iopub.status.idle": "2023-12-05T06:15:59.733445Z",
     "shell.execute_reply": "2023-12-05T06:15:59.732244Z",
     "shell.execute_reply.started": "2023-12-05T06:15:59.725911Z"
    }
   },
   "outputs": [
    {
     "data": {
      "text/plain": [
       "Index(['Date', 'Location', 'MinTemp', 'MaxTemp', 'Rainfall', 'Evaporation',\n",
       "       'Sunshine', 'WindGustDir', 'WindGustSpeed', 'WindDir9am', 'WindDir3pm',\n",
       "       'WindSpeed9am', 'WindSpeed3pm', 'Humidity9am', 'Humidity3pm',\n",
       "       'Pressure9am', 'Pressure3pm', 'Cloud9am', 'Cloud3pm', 'Temp9am',\n",
       "       'Temp3pm', 'RainToday', 'RainTomorrow'],\n",
       "      dtype='object')"
      ]
     },
     "execution_count": 5,
     "metadata": {},
     "output_type": "execute_result"
    }
   ],
   "source": [
    "column_names = df.columns\n",
    "column_names"
   ]
  },
  {
   "cell_type": "markdown",
   "metadata": {},
   "source": [
    "Viewing a summary of the data:"
   ]
  },
  {
   "cell_type": "code",
   "execution_count": 6,
   "metadata": {
    "execution": {
     "iopub.execute_input": "2023-12-05T06:15:59.735828Z",
     "iopub.status.busy": "2023-12-05T06:15:59.735457Z",
     "iopub.status.idle": "2023-12-05T06:15:59.778614Z",
     "shell.execute_reply": "2023-12-05T06:15:59.777904Z",
     "shell.execute_reply.started": "2023-12-05T06:15:59.735804Z"
    }
   },
   "outputs": [
    {
     "data": {
      "text/plain": [
       "<bound method DataFrame.info of               Date Location  MinTemp  MaxTemp  Rainfall  Evaporation  \\\n",
       "0       2008-12-01   Albury     13.4     22.9       0.6          NaN   \n",
       "1       2008-12-02   Albury      7.4     25.1       0.0          NaN   \n",
       "2       2008-12-03   Albury     12.9     25.7       0.0          NaN   \n",
       "3       2008-12-04   Albury      9.2     28.0       0.0          NaN   \n",
       "4       2008-12-05   Albury     17.5     32.3       1.0          NaN   \n",
       "...            ...      ...      ...      ...       ...          ...   \n",
       "145455  2017-06-21    Uluru      2.8     23.4       0.0          NaN   \n",
       "145456  2017-06-22    Uluru      3.6     25.3       0.0          NaN   \n",
       "145457  2017-06-23    Uluru      5.4     26.9       0.0          NaN   \n",
       "145458  2017-06-24    Uluru      7.8     27.0       0.0          NaN   \n",
       "145459  2017-06-25    Uluru     14.9      NaN       0.0          NaN   \n",
       "\n",
       "        Sunshine WindGustDir  WindGustSpeed WindDir9am  ... Humidity9am  \\\n",
       "0            NaN           W           44.0          W  ...        71.0   \n",
       "1            NaN         WNW           44.0        NNW  ...        44.0   \n",
       "2            NaN         WSW           46.0          W  ...        38.0   \n",
       "3            NaN          NE           24.0         SE  ...        45.0   \n",
       "4            NaN           W           41.0        ENE  ...        82.0   \n",
       "...          ...         ...            ...        ...  ...         ...   \n",
       "145455       NaN           E           31.0         SE  ...        51.0   \n",
       "145456       NaN         NNW           22.0         SE  ...        56.0   \n",
       "145457       NaN           N           37.0         SE  ...        53.0   \n",
       "145458       NaN          SE           28.0        SSE  ...        51.0   \n",
       "145459       NaN         NaN            NaN        ESE  ...        62.0   \n",
       "\n",
       "        Humidity3pm  Pressure9am  Pressure3pm  Cloud9am  Cloud3pm  Temp9am  \\\n",
       "0              22.0       1007.7       1007.1       8.0       NaN     16.9   \n",
       "1              25.0       1010.6       1007.8       NaN       NaN     17.2   \n",
       "2              30.0       1007.6       1008.7       NaN       2.0     21.0   \n",
       "3              16.0       1017.6       1012.8       NaN       NaN     18.1   \n",
       "4              33.0       1010.8       1006.0       7.0       8.0     17.8   \n",
       "...             ...          ...          ...       ...       ...      ...   \n",
       "145455         24.0       1024.6       1020.3       NaN       NaN     10.1   \n",
       "145456         21.0       1023.5       1019.1       NaN       NaN     10.9   \n",
       "145457         24.0       1021.0       1016.8       NaN       NaN     12.5   \n",
       "145458         24.0       1019.4       1016.5       3.0       2.0     15.1   \n",
       "145459         36.0       1020.2       1017.9       8.0       8.0     15.0   \n",
       "\n",
       "        Temp3pm  RainToday  RainTomorrow  \n",
       "0          21.8         No            No  \n",
       "1          24.3         No            No  \n",
       "2          23.2         No            No  \n",
       "3          26.5         No            No  \n",
       "4          29.7         No            No  \n",
       "...         ...        ...           ...  \n",
       "145455     22.4         No            No  \n",
       "145456     24.5         No            No  \n",
       "145457     26.1         No            No  \n",
       "145458     26.0         No            No  \n",
       "145459     20.9         No           NaN  \n",
       "\n",
       "[145460 rows x 23 columns]>"
      ]
     },
     "execution_count": 6,
     "metadata": {},
     "output_type": "execute_result"
    }
   ],
   "source": [
    "df.info"
   ]
  },
  {
   "cell_type": "markdown",
   "metadata": {},
   "source": [
    "Viewing statistical properties of the dataset:"
   ]
  },
  {
   "cell_type": "code",
   "execution_count": 7,
   "metadata": {
    "execution": {
     "iopub.execute_input": "2023-12-05T06:15:59.780653Z",
     "iopub.status.busy": "2023-12-05T06:15:59.779788Z",
     "iopub.status.idle": "2023-12-05T06:15:59.911509Z",
     "shell.execute_reply": "2023-12-05T06:15:59.910408Z",
     "shell.execute_reply.started": "2023-12-05T06:15:59.780623Z"
    }
   },
   "outputs": [
    {
     "data": {
      "text/html": [
       "<div>\n",
       "<style scoped>\n",
       "    .dataframe tbody tr th:only-of-type {\n",
       "        vertical-align: middle;\n",
       "    }\n",
       "\n",
       "    .dataframe tbody tr th {\n",
       "        vertical-align: top;\n",
       "    }\n",
       "\n",
       "    .dataframe thead th {\n",
       "        text-align: right;\n",
       "    }\n",
       "</style>\n",
       "<table border=\"1\" class=\"dataframe\">\n",
       "  <thead>\n",
       "    <tr style=\"text-align: right;\">\n",
       "      <th></th>\n",
       "      <th>MinTemp</th>\n",
       "      <th>MaxTemp</th>\n",
       "      <th>Rainfall</th>\n",
       "      <th>Evaporation</th>\n",
       "      <th>Sunshine</th>\n",
       "      <th>WindGustSpeed</th>\n",
       "      <th>WindSpeed9am</th>\n",
       "      <th>WindSpeed3pm</th>\n",
       "      <th>Humidity9am</th>\n",
       "      <th>Humidity3pm</th>\n",
       "      <th>Pressure9am</th>\n",
       "      <th>Pressure3pm</th>\n",
       "      <th>Cloud9am</th>\n",
       "      <th>Cloud3pm</th>\n",
       "      <th>Temp9am</th>\n",
       "      <th>Temp3pm</th>\n",
       "    </tr>\n",
       "  </thead>\n",
       "  <tbody>\n",
       "    <tr>\n",
       "      <th>count</th>\n",
       "      <td>143975.000000</td>\n",
       "      <td>144199.000000</td>\n",
       "      <td>142199.000000</td>\n",
       "      <td>82670.000000</td>\n",
       "      <td>75625.000000</td>\n",
       "      <td>135197.000000</td>\n",
       "      <td>143693.000000</td>\n",
       "      <td>142398.000000</td>\n",
       "      <td>142806.000000</td>\n",
       "      <td>140953.000000</td>\n",
       "      <td>130395.00000</td>\n",
       "      <td>130432.000000</td>\n",
       "      <td>89572.000000</td>\n",
       "      <td>86102.000000</td>\n",
       "      <td>143693.000000</td>\n",
       "      <td>141851.00000</td>\n",
       "    </tr>\n",
       "    <tr>\n",
       "      <th>mean</th>\n",
       "      <td>12.194034</td>\n",
       "      <td>23.221348</td>\n",
       "      <td>2.360918</td>\n",
       "      <td>5.468232</td>\n",
       "      <td>7.611178</td>\n",
       "      <td>40.035230</td>\n",
       "      <td>14.043426</td>\n",
       "      <td>18.662657</td>\n",
       "      <td>68.880831</td>\n",
       "      <td>51.539116</td>\n",
       "      <td>1017.64994</td>\n",
       "      <td>1015.255889</td>\n",
       "      <td>4.447461</td>\n",
       "      <td>4.509930</td>\n",
       "      <td>16.990631</td>\n",
       "      <td>21.68339</td>\n",
       "    </tr>\n",
       "    <tr>\n",
       "      <th>std</th>\n",
       "      <td>6.398495</td>\n",
       "      <td>7.119049</td>\n",
       "      <td>8.478060</td>\n",
       "      <td>4.193704</td>\n",
       "      <td>3.785483</td>\n",
       "      <td>13.607062</td>\n",
       "      <td>8.915375</td>\n",
       "      <td>8.809800</td>\n",
       "      <td>19.029164</td>\n",
       "      <td>20.795902</td>\n",
       "      <td>7.10653</td>\n",
       "      <td>7.037414</td>\n",
       "      <td>2.887159</td>\n",
       "      <td>2.720357</td>\n",
       "      <td>6.488753</td>\n",
       "      <td>6.93665</td>\n",
       "    </tr>\n",
       "    <tr>\n",
       "      <th>min</th>\n",
       "      <td>-8.500000</td>\n",
       "      <td>-4.800000</td>\n",
       "      <td>0.000000</td>\n",
       "      <td>0.000000</td>\n",
       "      <td>0.000000</td>\n",
       "      <td>6.000000</td>\n",
       "      <td>0.000000</td>\n",
       "      <td>0.000000</td>\n",
       "      <td>0.000000</td>\n",
       "      <td>0.000000</td>\n",
       "      <td>980.50000</td>\n",
       "      <td>977.100000</td>\n",
       "      <td>0.000000</td>\n",
       "      <td>0.000000</td>\n",
       "      <td>-7.200000</td>\n",
       "      <td>-5.40000</td>\n",
       "    </tr>\n",
       "    <tr>\n",
       "      <th>25%</th>\n",
       "      <td>7.600000</td>\n",
       "      <td>17.900000</td>\n",
       "      <td>0.000000</td>\n",
       "      <td>2.600000</td>\n",
       "      <td>4.800000</td>\n",
       "      <td>31.000000</td>\n",
       "      <td>7.000000</td>\n",
       "      <td>13.000000</td>\n",
       "      <td>57.000000</td>\n",
       "      <td>37.000000</td>\n",
       "      <td>1012.90000</td>\n",
       "      <td>1010.400000</td>\n",
       "      <td>1.000000</td>\n",
       "      <td>2.000000</td>\n",
       "      <td>12.300000</td>\n",
       "      <td>16.60000</td>\n",
       "    </tr>\n",
       "    <tr>\n",
       "      <th>50%</th>\n",
       "      <td>12.000000</td>\n",
       "      <td>22.600000</td>\n",
       "      <td>0.000000</td>\n",
       "      <td>4.800000</td>\n",
       "      <td>8.400000</td>\n",
       "      <td>39.000000</td>\n",
       "      <td>13.000000</td>\n",
       "      <td>19.000000</td>\n",
       "      <td>70.000000</td>\n",
       "      <td>52.000000</td>\n",
       "      <td>1017.60000</td>\n",
       "      <td>1015.200000</td>\n",
       "      <td>5.000000</td>\n",
       "      <td>5.000000</td>\n",
       "      <td>16.700000</td>\n",
       "      <td>21.10000</td>\n",
       "    </tr>\n",
       "    <tr>\n",
       "      <th>75%</th>\n",
       "      <td>16.900000</td>\n",
       "      <td>28.200000</td>\n",
       "      <td>0.800000</td>\n",
       "      <td>7.400000</td>\n",
       "      <td>10.600000</td>\n",
       "      <td>48.000000</td>\n",
       "      <td>19.000000</td>\n",
       "      <td>24.000000</td>\n",
       "      <td>83.000000</td>\n",
       "      <td>66.000000</td>\n",
       "      <td>1022.40000</td>\n",
       "      <td>1020.000000</td>\n",
       "      <td>7.000000</td>\n",
       "      <td>7.000000</td>\n",
       "      <td>21.600000</td>\n",
       "      <td>26.40000</td>\n",
       "    </tr>\n",
       "    <tr>\n",
       "      <th>max</th>\n",
       "      <td>33.900000</td>\n",
       "      <td>48.100000</td>\n",
       "      <td>371.000000</td>\n",
       "      <td>145.000000</td>\n",
       "      <td>14.500000</td>\n",
       "      <td>135.000000</td>\n",
       "      <td>130.000000</td>\n",
       "      <td>87.000000</td>\n",
       "      <td>100.000000</td>\n",
       "      <td>100.000000</td>\n",
       "      <td>1041.00000</td>\n",
       "      <td>1039.600000</td>\n",
       "      <td>9.000000</td>\n",
       "      <td>9.000000</td>\n",
       "      <td>40.200000</td>\n",
       "      <td>46.70000</td>\n",
       "    </tr>\n",
       "  </tbody>\n",
       "</table>\n",
       "</div>"
      ],
      "text/plain": [
       "             MinTemp        MaxTemp       Rainfall   Evaporation  \\\n",
       "count  143975.000000  144199.000000  142199.000000  82670.000000   \n",
       "mean       12.194034      23.221348       2.360918      5.468232   \n",
       "std         6.398495       7.119049       8.478060      4.193704   \n",
       "min        -8.500000      -4.800000       0.000000      0.000000   \n",
       "25%         7.600000      17.900000       0.000000      2.600000   \n",
       "50%        12.000000      22.600000       0.000000      4.800000   \n",
       "75%        16.900000      28.200000       0.800000      7.400000   \n",
       "max        33.900000      48.100000     371.000000    145.000000   \n",
       "\n",
       "           Sunshine  WindGustSpeed   WindSpeed9am   WindSpeed3pm  \\\n",
       "count  75625.000000  135197.000000  143693.000000  142398.000000   \n",
       "mean       7.611178      40.035230      14.043426      18.662657   \n",
       "std        3.785483      13.607062       8.915375       8.809800   \n",
       "min        0.000000       6.000000       0.000000       0.000000   \n",
       "25%        4.800000      31.000000       7.000000      13.000000   \n",
       "50%        8.400000      39.000000      13.000000      19.000000   \n",
       "75%       10.600000      48.000000      19.000000      24.000000   \n",
       "max       14.500000     135.000000     130.000000      87.000000   \n",
       "\n",
       "         Humidity9am    Humidity3pm   Pressure9am    Pressure3pm  \\\n",
       "count  142806.000000  140953.000000  130395.00000  130432.000000   \n",
       "mean       68.880831      51.539116    1017.64994    1015.255889   \n",
       "std        19.029164      20.795902       7.10653       7.037414   \n",
       "min         0.000000       0.000000     980.50000     977.100000   \n",
       "25%        57.000000      37.000000    1012.90000    1010.400000   \n",
       "50%        70.000000      52.000000    1017.60000    1015.200000   \n",
       "75%        83.000000      66.000000    1022.40000    1020.000000   \n",
       "max       100.000000     100.000000    1041.00000    1039.600000   \n",
       "\n",
       "           Cloud9am      Cloud3pm        Temp9am       Temp3pm  \n",
       "count  89572.000000  86102.000000  143693.000000  141851.00000  \n",
       "mean       4.447461      4.509930      16.990631      21.68339  \n",
       "std        2.887159      2.720357       6.488753       6.93665  \n",
       "min        0.000000      0.000000      -7.200000      -5.40000  \n",
       "25%        1.000000      2.000000      12.300000      16.60000  \n",
       "50%        5.000000      5.000000      16.700000      21.10000  \n",
       "75%        7.000000      7.000000      21.600000      26.40000  \n",
       "max        9.000000      9.000000      40.200000      46.70000  "
      ]
     },
     "execution_count": 7,
     "metadata": {},
     "output_type": "execute_result"
    }
   ],
   "source": [
    "df.describe()"
   ]
  },
  {
   "cell_type": "markdown",
   "metadata": {},
   "source": [
    "### Initial Overview <a class=\"anchor\" id=\"4.1\"></a>\n",
    "\n",
    "- The dataset's features have a mix of categorical and numerical variables.\n",
    "\n",
    "- Categorical variables have data type `object`.\n",
    "\n",
    "- Numerical variables have data type `float64`.\n",
    "\n",
    "- The data has some NaN values scattered throughout. Also, for some numerical features the maximum values that are far from the average, hinting toward the presence of outliers. Thus, we will have to do some data cleaning later. \n",
    "\n",
    "- The target variable is `RainTomorrow`, for whether it will rain tomorrow in Australia or not. Thus it should be binary, taking the values `Yes` or `No`. "
   ]
  },
  {
   "cell_type": "markdown",
   "metadata": {},
   "source": [
    "## 5. Target Variable Exploration (Univariate Analysis) <a class=\"anchor\" id=\"5\"></a>\n",
    "Let's take a closer look at the target variable. Checking for missing values:"
   ]
  },
  {
   "cell_type": "code",
   "execution_count": 8,
   "metadata": {
    "execution": {
     "iopub.execute_input": "2023-12-05T06:15:59.912638Z",
     "iopub.status.busy": "2023-12-05T06:15:59.912341Z",
     "iopub.status.idle": "2023-12-05T06:15:59.924433Z",
     "shell.execute_reply": "2023-12-05T06:15:59.923408Z",
     "shell.execute_reply.started": "2023-12-05T06:15:59.912614Z"
    }
   },
   "outputs": [
    {
     "data": {
      "text/plain": [
       "3267"
      ]
     },
     "execution_count": 8,
     "metadata": {},
     "output_type": "execute_result"
    }
   ],
   "source": [
    "df['RainTomorrow'].isnull().sum()"
   ]
  },
  {
   "cell_type": "markdown",
   "metadata": {},
   "source": [
    "Looks like out of the total $145460$ observations, $3267$ have a missing target variable. Since the percentage of these observations is low, let us delete them:"
   ]
  },
  {
   "cell_type": "code",
   "execution_count": 9,
   "metadata": {
    "execution": {
     "iopub.execute_input": "2023-12-05T06:15:59.926051Z",
     "iopub.status.busy": "2023-12-05T06:15:59.925776Z",
     "iopub.status.idle": "2023-12-05T06:15:59.996081Z",
     "shell.execute_reply": "2023-12-05T06:15:59.994815Z",
     "shell.execute_reply.started": "2023-12-05T06:15:59.926025Z"
    }
   },
   "outputs": [
    {
     "data": {
      "text/plain": [
       "Date                 0\n",
       "Location             0\n",
       "MinTemp            637\n",
       "MaxTemp            322\n",
       "Rainfall          1406\n",
       "Evaporation      60843\n",
       "Sunshine         67816\n",
       "WindGustDir       9330\n",
       "WindGustSpeed     9270\n",
       "WindDir9am       10013\n",
       "WindDir3pm        3778\n",
       "WindSpeed9am      1348\n",
       "WindSpeed3pm      2630\n",
       "Humidity9am       1774\n",
       "Humidity3pm       3610\n",
       "Pressure9am      14014\n",
       "Pressure3pm      13981\n",
       "Cloud9am         53657\n",
       "Cloud3pm         57094\n",
       "Temp9am            904\n",
       "Temp3pm           2726\n",
       "RainToday         1406\n",
       "RainTomorrow         0\n",
       "dtype: int64"
      ]
     },
     "execution_count": 9,
     "metadata": {},
     "output_type": "execute_result"
    }
   ],
   "source": [
    "df = df.dropna(subset=['RainTomorrow'])\n",
    "df.isnull().sum()"
   ]
  },
  {
   "cell_type": "markdown",
   "metadata": {},
   "source": [
    "Now ensuring that the target is a binary outcome:"
   ]
  },
  {
   "cell_type": "code",
   "execution_count": 10,
   "metadata": {
    "execution": {
     "iopub.execute_input": "2023-12-05T06:16:00.000409Z",
     "iopub.status.busy": "2023-12-05T06:16:00.000095Z",
     "iopub.status.idle": "2023-12-05T06:16:00.018375Z",
     "shell.execute_reply": "2023-12-05T06:16:00.017703Z",
     "shell.execute_reply.started": "2023-12-05T06:16:00.000381Z"
    }
   },
   "outputs": [
    {
     "data": {
      "text/plain": [
       "array(['No', 'Yes'], dtype=object)"
      ]
     },
     "execution_count": 10,
     "metadata": {},
     "output_type": "execute_result"
    }
   ],
   "source": [
    "df['RainTomorrow'].unique()"
   ]
  },
  {
   "cell_type": "markdown",
   "metadata": {},
   "source": [
    "What is the frequency distribution?"
   ]
  },
  {
   "cell_type": "code",
   "execution_count": 11,
   "metadata": {
    "execution": {
     "iopub.execute_input": "2023-12-05T06:16:00.019778Z",
     "iopub.status.busy": "2023-12-05T06:16:00.019435Z",
     "iopub.status.idle": "2023-12-05T06:16:00.038355Z",
     "shell.execute_reply": "2023-12-05T06:16:00.037026Z",
     "shell.execute_reply.started": "2023-12-05T06:16:00.019755Z"
    }
   },
   "outputs": [
    {
     "data": {
      "text/plain": [
       "RainTomorrow\n",
       "No     110316\n",
       "Yes     31877\n",
       "Name: count, dtype: int64"
      ]
     },
     "execution_count": 11,
     "metadata": {},
     "output_type": "execute_result"
    }
   ],
   "source": [
    "df['RainTomorrow'].value_counts()"
   ]
  },
  {
   "cell_type": "markdown",
   "metadata": {},
   "source": [
    "How about the percentage of this distribution?"
   ]
  },
  {
   "cell_type": "code",
   "execution_count": 12,
   "metadata": {
    "execution": {
     "iopub.execute_input": "2023-12-05T06:16:00.039874Z",
     "iopub.status.busy": "2023-12-05T06:16:00.039561Z",
     "iopub.status.idle": "2023-12-05T06:16:00.057676Z",
     "shell.execute_reply": "2023-12-05T06:16:00.056570Z",
     "shell.execute_reply.started": "2023-12-05T06:16:00.039849Z"
    }
   },
   "outputs": [
    {
     "data": {
      "text/plain": [
       "RainTomorrow\n",
       "No     0.775819\n",
       "Yes    0.224181\n",
       "Name: count, dtype: float64"
      ]
     },
     "execution_count": 12,
     "metadata": {},
     "output_type": "execute_result"
    }
   ],
   "source": [
    "df['RainTomorrow'].value_counts()/len(df)"
   ]
  },
  {
   "cell_type": "markdown",
   "metadata": {},
   "source": [
    "Let's plot the distribution to visualize it:"
   ]
  },
  {
   "cell_type": "code",
   "execution_count": 13,
   "metadata": {
    "execution": {
     "iopub.execute_input": "2023-12-05T06:16:00.059337Z",
     "iopub.status.busy": "2023-12-05T06:16:00.059039Z",
     "iopub.status.idle": "2023-12-05T06:16:00.300130Z",
     "shell.execute_reply": "2023-12-05T06:16:00.299505Z",
     "shell.execute_reply.started": "2023-12-05T06:16:00.059311Z"
    }
   },
   "outputs": [
    {
     "data": {
      "text/plain": [
       "<Axes: xlabel='RainTomorrow', ylabel='count'>"
      ]
     },
     "execution_count": 13,
     "metadata": {},
     "output_type": "execute_result"
    },
    {
     "data": {
      "image/png": "[encoded data removed]",
      "text/plain": [
       "<Figure size 640x480 with 1 Axes>"
      ]
     },
     "metadata": {},
     "output_type": "display_data"
    }
   ],
   "source": [
    "cols= [\"#ffcbb8\",\"#c0fcce\"]\n",
    "sns.countplot(x= df[\"RainTomorrow\"], palette= cols)"
   ]
  },
  {
   "cell_type": "markdown",
   "metadata": {},
   "source": [
    "Also doing text preprocessing for the target variable:"
   ]
  },
  {
   "cell_type": "code",
   "execution_count": 14,
   "metadata": {
    "execution": {
     "iopub.execute_input": "2023-12-05T06:16:00.301547Z",
     "iopub.status.busy": "2023-12-05T06:16:00.301185Z",
     "iopub.status.idle": "2023-12-05T06:16:00.339678Z",
     "shell.execute_reply": "2023-12-05T06:16:00.338868Z",
     "shell.execute_reply.started": "2023-12-05T06:16:00.301526Z"
    }
   },
   "outputs": [],
   "source": [
    "df[\"RainTomorrow\"].replace({\"No\":0,\"Yes\":1},inplace=True)"
   ]
  },
  {
   "cell_type": "markdown",
   "metadata": {},
   "source": [
    "### Target Variable Summary <a class=\"anchor\" id=\"5.1\"></a>\n",
    "- `RainTomorrow` is a binary variable with the two unique values `No` and `Yes`. \n",
    "- `No` appears $110316$ times, which is $77.58\\%$ of the time.\n",
    "- `Yes` appears $31877$ times, which is $22.42\\%$ of the time.\n",
    "- The plot confirms the above information."
   ]
  },
  {
   "cell_type": "markdown",
   "metadata": {},
   "source": [
    "## 6. Feature Exploration, Cleaning, and Preprocessing (Bivariate Analysis)<a class=\"anchor\" id=\"6\">\n",
    "Through EDA we found our features can be either categorical variables or numerical ones. Let us examine the categorical variables first.\n",
    "    \n",
    "### Categorical Features <a class=\"anchor\" id=\"6.1\">\n",
    "Finding the categorical variables:"
   ]
  },
  {
   "cell_type": "code",
   "execution_count": 15,
   "metadata": {
    "execution": {
     "iopub.execute_input": "2023-12-05T06:16:00.341197Z",
     "iopub.status.busy": "2023-12-05T06:16:00.340794Z",
     "iopub.status.idle": "2023-12-05T06:16:00.347711Z",
     "shell.execute_reply": "2023-12-05T06:16:00.346304Z",
     "shell.execute_reply.started": "2023-12-05T06:16:00.341174Z"
    }
   },
   "outputs": [
    {
     "name": "stdout",
     "output_type": "stream",
     "text": [
      "The 6 categorical variables are:\n",
      " ['Date', 'Location', 'WindGustDir', 'WindDir9am', 'WindDir3pm', 'RainToday']\n"
     ]
    }
   ],
   "source": [
    "# Categorical variables have data type object\n",
    "categorical = [var for var in df.columns if df[var].dtype=='O']\n",
    "\n",
    "print('The {} categorical variables are:\\n'.format(len(categorical)), categorical)"
   ]
  },
  {
   "cell_type": "markdown",
   "metadata": {},
   "source": [
    "Strangely Date is a categorical variable. Let's preview the data to investigate:"
   ]
  },
  {
   "cell_type": "code",
   "execution_count": 16,
   "metadata": {
    "execution": {
     "iopub.execute_input": "2023-12-05T06:16:00.350655Z",
     "iopub.status.busy": "2023-12-05T06:16:00.350154Z",
     "iopub.status.idle": "2023-12-05T06:16:00.370472Z",
     "shell.execute_reply": "2023-12-05T06:16:00.369907Z",
     "shell.execute_reply.started": "2023-12-05T06:16:00.350628Z"
    }
   },
   "outputs": [
    {
     "data": {
      "text/html": [
       "<div>\n",
       "<style scoped>\n",
       "    .dataframe tbody tr th:only-of-type {\n",
       "        vertical-align: middle;\n",
       "    }\n",
       "\n",
       "    .dataframe tbody tr th {\n",
       "        vertical-align: top;\n",
       "    }\n",
       "\n",
       "    .dataframe thead th {\n",
       "        text-align: right;\n",
       "    }\n",
       "</style>\n",
       "<table border=\"1\" class=\"dataframe\">\n",
       "  <thead>\n",
       "    <tr style=\"text-align: right;\">\n",
       "      <th></th>\n",
       "      <th>Date</th>\n",
       "      <th>Location</th>\n",
       "      <th>WindGustDir</th>\n",
       "      <th>WindDir9am</th>\n",
       "      <th>WindDir3pm</th>\n",
       "      <th>RainToday</th>\n",
       "    </tr>\n",
       "  </thead>\n",
       "  <tbody>\n",
       "    <tr>\n",
       "      <th>0</th>\n",
       "      <td>2008-12-01</td>\n",
       "      <td>Albury</td>\n",
       "      <td>W</td>\n",
       "      <td>W</td>\n",
       "      <td>WNW</td>\n",
       "      <td>No</td>\n",
       "    </tr>\n",
       "    <tr>\n",
       "      <th>1</th>\n",
       "      <td>2008-12-02</td>\n",
       "      <td>Albury</td>\n",
       "      <td>WNW</td>\n",
       "      <td>NNW</td>\n",
       "      <td>WSW</td>\n",
       "      <td>No</td>\n",
       "    </tr>\n",
       "    <tr>\n",
       "      <th>2</th>\n",
       "      <td>2008-12-03</td>\n",
       "      <td>Albury</td>\n",
       "      <td>WSW</td>\n",
       "      <td>W</td>\n",
       "      <td>WSW</td>\n",
       "      <td>No</td>\n",
       "    </tr>\n",
       "    <tr>\n",
       "      <th>3</th>\n",
       "      <td>2008-12-04</td>\n",
       "      <td>Albury</td>\n",
       "      <td>NE</td>\n",
       "      <td>SE</td>\n",
       "      <td>E</td>\n",
       "      <td>No</td>\n",
       "    </tr>\n",
       "    <tr>\n",
       "      <th>4</th>\n",
       "      <td>2008-12-05</td>\n",
       "      <td>Albury</td>\n",
       "      <td>W</td>\n",
       "      <td>ENE</td>\n",
       "      <td>NW</td>\n",
       "      <td>No</td>\n",
       "    </tr>\n",
       "  </tbody>\n",
       "</table>\n",
       "</div>"
      ],
      "text/plain": [
       "         Date Location WindGustDir WindDir9am WindDir3pm RainToday\n",
       "0  2008-12-01   Albury           W          W        WNW        No\n",
       "1  2008-12-02   Albury         WNW        NNW        WSW        No\n",
       "2  2008-12-03   Albury         WSW          W        WSW        No\n",
       "3  2008-12-04   Albury          NE         SE          E        No\n",
       "4  2008-12-05   Albury           W        ENE         NW        No"
      ]
     },
     "execution_count": 16,
     "metadata": {},
     "output_type": "execute_result"
    }
   ],
   "source": [
    "# Preview categorical variables\n",
    "df[categorical].head()"
   ]
  },
  {
   "cell_type": "markdown",
   "metadata": {},
   "source": [
    "Also looking at the cardinality of cateogorical variables:"
   ]
  },
  {
   "cell_type": "code",
   "execution_count": 17,
   "metadata": {
    "execution": {
     "iopub.execute_input": "2023-12-05T06:16:00.372020Z",
     "iopub.status.busy": "2023-12-05T06:16:00.371624Z",
     "iopub.status.idle": "2023-12-05T06:16:00.412804Z",
     "shell.execute_reply": "2023-12-05T06:16:00.411330Z",
     "shell.execute_reply.started": "2023-12-05T06:16:00.372000Z"
    }
   },
   "outputs": [
    {
     "name": "stdout",
     "output_type": "stream",
     "text": [
      "Date: 3436\n",
      "Location: 49\n",
      "WindGustDir: 16\n",
      "WindDir9am: 16\n",
      "WindDir3pm: 16\n",
      "RainToday: 2\n"
     ]
    }
   ],
   "source": [
    "for col in categorical:\n",
    "    print(f\"{col}: {df[col].nunique()}\")"
   ]
  },
  {
   "cell_type": "markdown",
   "metadata": {},
   "source": [
    "Looks like the Dates (of type object and has high cardinality) should be parsed into datetime. So we really have 6 categorical variables, and 5 categorical features excluding the target variable. \n",
    "\n"
   ]
  },
  {
   "cell_type": "markdown",
   "metadata": {},
   "source": [
    "#### Feature Engineering of Date Variable <a class=\"anchor\" id=\"6.1.1\">"
   ]
  },
  {
   "cell_type": "code",
   "execution_count": 18,
   "metadata": {
    "execution": {
     "iopub.execute_input": "2023-12-05T06:16:00.414264Z",
     "iopub.status.busy": "2023-12-05T06:16:00.413960Z",
     "iopub.status.idle": "2023-12-05T06:16:00.427025Z",
     "shell.execute_reply": "2023-12-05T06:16:00.426063Z",
     "shell.execute_reply.started": "2023-12-05T06:16:00.414237Z"
    }
   },
   "outputs": [
    {
     "data": {
      "text/plain": [
       "0"
      ]
     },
     "execution_count": 18,
     "metadata": {},
     "output_type": "execute_result"
    }
   ],
   "source": [
    "# Checking for null Dates\n",
    "df['Date'].isnull().sum()"
   ]
  },
  {
   "cell_type": "code",
   "execution_count": 19,
   "metadata": {
    "execution": {
     "iopub.execute_input": "2023-12-05T06:16:00.428793Z",
     "iopub.status.busy": "2023-12-05T06:16:00.428005Z",
     "iopub.status.idle": "2023-12-05T06:16:00.477692Z",
     "shell.execute_reply": "2023-12-05T06:16:00.476361Z",
     "shell.execute_reply.started": "2023-12-05T06:16:00.428770Z"
    }
   },
   "outputs": [
    {
     "data": {
      "text/plain": [
       "0    2008\n",
       "1    2008\n",
       "2    2008\n",
       "3    2008\n",
       "4    2008\n",
       "Name: Year, dtype: int32"
      ]
     },
     "execution_count": 19,
     "metadata": {},
     "output_type": "execute_result"
    }
   ],
   "source": [
    "# parse the dates, currently coded as strings, into datetime format\n",
    "df['Date'] = pd.to_datetime(df['Date'])\n",
    "\n",
    "# extract year from date\n",
    "df['Year'] = df['Date'].dt.year\n",
    "df['Year'].head()"
   ]
  },
  {
   "cell_type": "code",
   "execution_count": 20,
   "metadata": {
    "execution": {
     "iopub.execute_input": "2023-12-05T06:16:00.479639Z",
     "iopub.status.busy": "2023-12-05T06:16:00.479197Z",
     "iopub.status.idle": "2023-12-05T06:16:00.493405Z",
     "shell.execute_reply": "2023-12-05T06:16:00.492407Z",
     "shell.execute_reply.started": "2023-12-05T06:16:00.479606Z"
    }
   },
   "outputs": [
    {
     "data": {
      "text/plain": [
       "0    12\n",
       "1    12\n",
       "2    12\n",
       "3    12\n",
       "4    12\n",
       "Name: Month, dtype: int32"
      ]
     },
     "execution_count": 20,
     "metadata": {},
     "output_type": "execute_result"
    }
   ],
   "source": [
    "# extract month from date\n",
    "df['Month'] = df['Date'].dt.month\n",
    "df['Month'].head()"
   ]
  },
  {
   "cell_type": "code",
   "execution_count": 21,
   "metadata": {
    "execution": {
     "iopub.execute_input": "2023-12-05T06:16:00.496639Z",
     "iopub.status.busy": "2023-12-05T06:16:00.496324Z",
     "iopub.status.idle": "2023-12-05T06:16:00.510305Z",
     "shell.execute_reply": "2023-12-05T06:16:00.509094Z",
     "shell.execute_reply.started": "2023-12-05T06:16:00.496615Z"
    }
   },
   "outputs": [
    {
     "data": {
      "text/plain": [
       "0    1\n",
       "1    2\n",
       "2    3\n",
       "3    4\n",
       "4    5\n",
       "Name: Day, dtype: int32"
      ]
     },
     "execution_count": 21,
     "metadata": {},
     "output_type": "execute_result"
    }
   ],
   "source": [
    "# extract day from date\n",
    "df['Day'] = df['Date'].dt.day\n",
    "df['Day'].head()"
   ]
  },
  {
   "cell_type": "code",
   "execution_count": 22,
   "metadata": {
    "execution": {
     "iopub.execute_input": "2023-12-05T06:16:00.511851Z",
     "iopub.status.busy": "2023-12-05T06:16:00.511553Z",
     "iopub.status.idle": "2023-12-05T06:16:00.532487Z",
     "shell.execute_reply": "2023-12-05T06:16:00.531664Z",
     "shell.execute_reply.started": "2023-12-05T06:16:00.511828Z"
    }
   },
   "outputs": [],
   "source": [
    "# drop the original Date variable\n",
    "df.drop('Date', axis=1, inplace = True)"
   ]
  },
  {
   "cell_type": "code",
   "execution_count": 23,
   "metadata": {
    "execution": {
     "iopub.execute_input": "2023-12-05T06:16:00.534042Z",
     "iopub.status.busy": "2023-12-05T06:16:00.533721Z",
     "iopub.status.idle": "2023-12-05T06:16:00.578954Z",
     "shell.execute_reply": "2023-12-05T06:16:00.577643Z",
     "shell.execute_reply.started": "2023-12-05T06:16:00.534020Z"
    }
   },
   "outputs": [
    {
     "name": "stdout",
     "output_type": "stream",
     "text": [
      "<class 'pandas.core.frame.DataFrame'>\n",
      "Index: 142193 entries, 0 to 145458\n",
      "Data columns (total 25 columns):\n",
      " #   Column         Non-Null Count   Dtype  \n",
      "---  ------         --------------   -----  \n",
      " 0   Location       142193 non-null  object \n",
      " 1   MinTemp        141556 non-null  float64\n",
      " 2   MaxTemp        141871 non-null  float64\n",
      " 3   Rainfall       140787 non-null  float64\n",
      " 4   Evaporation    81350 non-null   float64\n",
      " 5   Sunshine       74377 non-null   float64\n",
      " 6   WindGustDir    132863 non-null  object \n",
      " 7   WindGustSpeed  132923 non-null  float64\n",
      " 8   WindDir9am     132180 non-null  object \n",
      " 9   WindDir3pm     138415 non-null  object \n",
      " 10  WindSpeed9am   140845 non-null  float64\n",
      " 11  WindSpeed3pm   139563 non-null  float64\n",
      " 12  Humidity9am    140419 non-null  float64\n",
      " 13  Humidity3pm    138583 non-null  float64\n",
      " 14  Pressure9am    128179 non-null  float64\n",
      " 15  Pressure3pm    128212 non-null  float64\n",
      " 16  Cloud9am       88536 non-null   float64\n",
      " 17  Cloud3pm       85099 non-null   float64\n",
      " 18  Temp9am        141289 non-null  float64\n",
      " 19  Temp3pm        139467 non-null  float64\n",
      " 20  RainToday      140787 non-null  object \n",
      " 21  RainTomorrow   142193 non-null  int64  \n",
      " 22  Year           142193 non-null  int32  \n",
      " 23  Month          142193 non-null  int32  \n",
      " 24  Day            142193 non-null  int32  \n",
      "dtypes: float64(16), int32(3), int64(1), object(5)\n",
      "memory usage: 26.6+ MB\n"
     ]
    }
   ],
   "source": [
    "# view updated dataset\n",
    "df.info()"
   ]
  },
  {
   "cell_type": "markdown",
   "metadata": {},
   "source": [
    "#### Handling Missing Values <a class=\"anchor\" id=\"6.1.2\">\n",
    "\n",
    "Let us handle any missing values for our categorical variables by replacing them with the most common value or mode. Viewing how many missing values we're dealing with:"
   ]
  },
  {
   "cell_type": "code",
   "execution_count": 24,
   "metadata": {
    "execution": {
     "iopub.execute_input": "2023-12-05T06:16:00.580591Z",
     "iopub.status.busy": "2023-12-05T06:16:00.580242Z",
     "iopub.status.idle": "2023-12-05T06:16:00.613002Z",
     "shell.execute_reply": "2023-12-05T06:16:00.611545Z",
     "shell.execute_reply.started": "2023-12-05T06:16:00.580557Z"
    }
   },
   "outputs": [
    {
     "name": "stdout",
     "output_type": "stream",
     "text": [
      "Missing Value Count for categorical variables - \n",
      "Location : 0\n",
      "WindGustDir : 9330\n",
      "WindDir9am : 10013\n",
      "WindDir3pm : 3778\n",
      "RainToday : 1406\n"
     ]
    }
   ],
   "source": [
    "# Get a new list of categorical variables (\n",
    "s = (df.dtypes == \"object\")\n",
    "categorical = list(s[s].index)\n",
    "categorical_features = [feature for feature in categorical if feature != 'RainTomorrow']\n",
    "# Display missing values for categorical features\n",
    "print(\"Missing Value Count for categorical variables - \")\n",
    "for feature in categorical_features:\n",
    "    print(feature,\":\", df[feature].isnull().sum())"
   ]
  },
  {
   "cell_type": "code",
   "execution_count": 25,
   "metadata": {
    "execution": {
     "iopub.execute_input": "2023-12-05T06:16:00.615252Z",
     "iopub.status.busy": "2023-12-05T06:16:00.614354Z",
     "iopub.status.idle": "2023-12-05T06:16:00.681758Z",
     "shell.execute_reply": "2023-12-05T06:16:00.680878Z",
     "shell.execute_reply.started": "2023-12-05T06:16:00.615222Z"
    }
   },
   "outputs": [],
   "source": [
    "# Filling missing values with mode of each column\n",
    "for feature in categorical_features:\n",
    "    df[feature].fillna(df[feature].mode()[0], inplace=True)"
   ]
  },
  {
   "cell_type": "markdown",
   "metadata": {},
   "source": [
    "Note that we did not modify `Location` or the target `RainTomorrow` because there are no missing values for those variables."
   ]
  },
  {
   "cell_type": "code",
   "execution_count": 26,
   "metadata": {
    "execution": {
     "iopub.execute_input": "2023-12-05T06:16:00.683085Z",
     "iopub.status.busy": "2023-12-05T06:16:00.682822Z",
     "iopub.status.idle": "2023-12-05T06:16:00.712247Z",
     "shell.execute_reply": "2023-12-05T06:16:00.711417Z",
     "shell.execute_reply.started": "2023-12-05T06:16:00.683064Z"
    }
   },
   "outputs": [
    {
     "name": "stdout",
     "output_type": "stream",
     "text": [
      "Missing Value Count for categorical variables - \n",
      "Location : 0\n",
      "WindGustDir : 0\n",
      "WindDir9am : 0\n",
      "WindDir3pm : 0\n",
      "RainToday : 0\n"
     ]
    }
   ],
   "source": [
    "# Display missing values for categorical variables\n",
    "print(\"Missing Value Count for categorical variables - \")\n",
    "for feature in categorical_features:\n",
    "    print(feature,\":\", df[feature].isnull().sum())"
   ]
  },
  {
   "cell_type": "markdown",
   "metadata": {},
   "source": [
    "#### Encoding Variables <a class=\"anchor\" id=\"6.1.3\">\n",
    "Now we must do a label encoding of the categorical variables, so that the neural network can work with them:"
   ]
  },
  {
   "cell_type": "code",
   "execution_count": 27,
   "metadata": {
    "execution": {
     "iopub.execute_input": "2023-12-05T06:16:00.714089Z",
     "iopub.status.busy": "2023-12-05T06:16:00.713601Z",
     "iopub.status.idle": "2023-12-05T06:16:00.855004Z",
     "shell.execute_reply": "2023-12-05T06:16:00.853886Z",
     "shell.execute_reply.started": "2023-12-05T06:16:00.714060Z"
    }
   },
   "outputs": [
    {
     "name": "stdout",
     "output_type": "stream",
     "text": [
      "<class 'pandas.core.frame.DataFrame'>\n",
      "Index: 142193 entries, 0 to 145458\n",
      "Data columns (total 25 columns):\n",
      " #   Column         Non-Null Count   Dtype  \n",
      "---  ------         --------------   -----  \n",
      " 0   Location       142193 non-null  int64  \n",
      " 1   MinTemp        141556 non-null  float64\n",
      " 2   MaxTemp        141871 non-null  float64\n",
      " 3   Rainfall       140787 non-null  float64\n",
      " 4   Evaporation    81350 non-null   float64\n",
      " 5   Sunshine       74377 non-null   float64\n",
      " 6   WindGustDir    142193 non-null  int64  \n",
      " 7   WindGustSpeed  132923 non-null  float64\n",
      " 8   WindDir9am     142193 non-null  int64  \n",
      " 9   WindDir3pm     142193 non-null  int64  \n",
      " 10  WindSpeed9am   140845 non-null  float64\n",
      " 11  WindSpeed3pm   139563 non-null  float64\n",
      " 12  Humidity9am    140419 non-null  float64\n",
      " 13  Humidity3pm    138583 non-null  float64\n",
      " 14  Pressure9am    128179 non-null  float64\n",
      " 15  Pressure3pm    128212 non-null  float64\n",
      " 16  Cloud9am       88536 non-null   float64\n",
      " 17  Cloud3pm       85099 non-null   float64\n",
      " 18  Temp9am        141289 non-null  float64\n",
      " 19  Temp3pm        139467 non-null  float64\n",
      " 20  RainToday      142193 non-null  int64  \n",
      " 21  RainTomorrow   142193 non-null  int64  \n",
      " 22  Year           142193 non-null  int32  \n",
      " 23  Month          142193 non-null  int32  \n",
      " 24  Day            142193 non-null  int32  \n",
      "dtypes: float64(16), int32(3), int64(6)\n",
      "memory usage: 26.6 MB\n"
     ]
    }
   ],
   "source": [
    "# Apply label encoder to each column with categorical data\n",
    "label_encoder = LabelEncoder()\n",
    "for feature in categorical_features:\n",
    "    df[feature] = label_encoder.fit_transform(df[feature])\n",
    "    \n",
    "df.info()"
   ]
  },
  {
   "cell_type": "markdown",
   "metadata": {},
   "source": [
    "Looks like the categorical features have been encoded properly."
   ]
  },
  {
   "cell_type": "markdown",
   "metadata": {},
   "source": [
    "### Numerical Features <a class=\"anchor\" id=\"6.2\">\n",
    "Now let's explore the numerical features:"
   ]
  },
  {
   "cell_type": "code",
   "execution_count": 28,
   "metadata": {
    "execution": {
     "iopub.execute_input": "2023-12-05T06:16:00.860627Z",
     "iopub.status.busy": "2023-12-05T06:16:00.860288Z",
     "iopub.status.idle": "2023-12-05T06:16:00.887881Z",
     "shell.execute_reply": "2023-12-05T06:16:00.886899Z",
     "shell.execute_reply.started": "2023-12-05T06:16:00.860601Z"
    }
   },
   "outputs": [
    {
     "name": "stdout",
     "output_type": "stream",
     "text": [
      "The 16 numerical variables are:\n",
      " ['MinTemp', 'MaxTemp', 'Rainfall', 'Evaporation', 'Sunshine', 'WindGustSpeed', 'WindSpeed9am', 'WindSpeed3pm', 'Humidity9am', 'Humidity3pm', 'Pressure9am', 'Pressure3pm', 'Cloud9am', 'Cloud3pm', 'Temp9am', 'Temp3pm']\n"
     ]
    },
    {
     "data": {
      "text/html": [
       "<div>\n",
       "<style scoped>\n",
       "    .dataframe tbody tr th:only-of-type {\n",
       "        vertical-align: middle;\n",
       "    }\n",
       "\n",
       "    .dataframe tbody tr th {\n",
       "        vertical-align: top;\n",
       "    }\n",
       "\n",
       "    .dataframe thead th {\n",
       "        text-align: right;\n",
       "    }\n",
       "</style>\n",
       "<table border=\"1\" class=\"dataframe\">\n",
       "  <thead>\n",
       "    <tr style=\"text-align: right;\">\n",
       "      <th></th>\n",
       "      <th>MinTemp</th>\n",
       "      <th>MaxTemp</th>\n",
       "      <th>Rainfall</th>\n",
       "      <th>Evaporation</th>\n",
       "      <th>Sunshine</th>\n",
       "      <th>WindGustSpeed</th>\n",
       "      <th>WindSpeed9am</th>\n",
       "      <th>WindSpeed3pm</th>\n",
       "      <th>Humidity9am</th>\n",
       "      <th>Humidity3pm</th>\n",
       "      <th>Pressure9am</th>\n",
       "      <th>Pressure3pm</th>\n",
       "      <th>Cloud9am</th>\n",
       "      <th>Cloud3pm</th>\n",
       "      <th>Temp9am</th>\n",
       "      <th>Temp3pm</th>\n",
       "    </tr>\n",
       "  </thead>\n",
       "  <tbody>\n",
       "    <tr>\n",
       "      <th>0</th>\n",
       "      <td>13.4</td>\n",
       "      <td>22.9</td>\n",
       "      <td>0.6</td>\n",
       "      <td>NaN</td>\n",
       "      <td>NaN</td>\n",
       "      <td>44.0</td>\n",
       "      <td>20.0</td>\n",
       "      <td>24.0</td>\n",
       "      <td>71.0</td>\n",
       "      <td>22.0</td>\n",
       "      <td>1007.7</td>\n",
       "      <td>1007.1</td>\n",
       "      <td>8.0</td>\n",
       "      <td>NaN</td>\n",
       "      <td>16.9</td>\n",
       "      <td>21.8</td>\n",
       "    </tr>\n",
       "    <tr>\n",
       "      <th>1</th>\n",
       "      <td>7.4</td>\n",
       "      <td>25.1</td>\n",
       "      <td>0.0</td>\n",
       "      <td>NaN</td>\n",
       "      <td>NaN</td>\n",
       "      <td>44.0</td>\n",
       "      <td>4.0</td>\n",
       "      <td>22.0</td>\n",
       "      <td>44.0</td>\n",
       "      <td>25.0</td>\n",
       "      <td>1010.6</td>\n",
       "      <td>1007.8</td>\n",
       "      <td>NaN</td>\n",
       "      <td>NaN</td>\n",
       "      <td>17.2</td>\n",
       "      <td>24.3</td>\n",
       "    </tr>\n",
       "    <tr>\n",
       "      <th>2</th>\n",
       "      <td>12.9</td>\n",
       "      <td>25.7</td>\n",
       "      <td>0.0</td>\n",
       "      <td>NaN</td>\n",
       "      <td>NaN</td>\n",
       "      <td>46.0</td>\n",
       "      <td>19.0</td>\n",
       "      <td>26.0</td>\n",
       "      <td>38.0</td>\n",
       "      <td>30.0</td>\n",
       "      <td>1007.6</td>\n",
       "      <td>1008.7</td>\n",
       "      <td>NaN</td>\n",
       "      <td>2.0</td>\n",
       "      <td>21.0</td>\n",
       "      <td>23.2</td>\n",
       "    </tr>\n",
       "    <tr>\n",
       "      <th>3</th>\n",
       "      <td>9.2</td>\n",
       "      <td>28.0</td>\n",
       "      <td>0.0</td>\n",
       "      <td>NaN</td>\n",
       "      <td>NaN</td>\n",
       "      <td>24.0</td>\n",
       "      <td>11.0</td>\n",
       "      <td>9.0</td>\n",
       "      <td>45.0</td>\n",
       "      <td>16.0</td>\n",
       "      <td>1017.6</td>\n",
       "      <td>1012.8</td>\n",
       "      <td>NaN</td>\n",
       "      <td>NaN</td>\n",
       "      <td>18.1</td>\n",
       "      <td>26.5</td>\n",
       "    </tr>\n",
       "    <tr>\n",
       "      <th>4</th>\n",
       "      <td>17.5</td>\n",
       "      <td>32.3</td>\n",
       "      <td>1.0</td>\n",
       "      <td>NaN</td>\n",
       "      <td>NaN</td>\n",
       "      <td>41.0</td>\n",
       "      <td>7.0</td>\n",
       "      <td>20.0</td>\n",
       "      <td>82.0</td>\n",
       "      <td>33.0</td>\n",
       "      <td>1010.8</td>\n",
       "      <td>1006.0</td>\n",
       "      <td>7.0</td>\n",
       "      <td>8.0</td>\n",
       "      <td>17.8</td>\n",
       "      <td>29.7</td>\n",
       "    </tr>\n",
       "  </tbody>\n",
       "</table>\n",
       "</div>"
      ],
      "text/plain": [
       "   MinTemp  MaxTemp  Rainfall  Evaporation  Sunshine  WindGustSpeed  \\\n",
       "0     13.4     22.9       0.6          NaN       NaN           44.0   \n",
       "1      7.4     25.1       0.0          NaN       NaN           44.0   \n",
       "2     12.9     25.7       0.0          NaN       NaN           46.0   \n",
       "3      9.2     28.0       0.0          NaN       NaN           24.0   \n",
       "4     17.5     32.3       1.0          NaN       NaN           41.0   \n",
       "\n",
       "   WindSpeed9am  WindSpeed3pm  Humidity9am  Humidity3pm  Pressure9am  \\\n",
       "0          20.0          24.0         71.0         22.0       1007.7   \n",
       "1           4.0          22.0         44.0         25.0       1010.6   \n",
       "2          19.0          26.0         38.0         30.0       1007.6   \n",
       "3          11.0           9.0         45.0         16.0       1017.6   \n",
       "4           7.0          20.0         82.0         33.0       1010.8   \n",
       "\n",
       "   Pressure3pm  Cloud9am  Cloud3pm  Temp9am  Temp3pm  \n",
       "0       1007.1       8.0       NaN     16.9     21.8  \n",
       "1       1007.8       NaN       NaN     17.2     24.3  \n",
       "2       1008.7       NaN       2.0     21.0     23.2  \n",
       "3       1012.8       NaN       NaN     18.1     26.5  \n",
       "4       1006.0       7.0       8.0     17.8     29.7  "
      ]
     },
     "execution_count": 28,
     "metadata": {},
     "output_type": "execute_result"
    }
   ],
   "source": [
    "# non-categorical variables are numerical variables\n",
    "numerical = [var for var in df.columns if var not in categorical]\n",
    "\n",
    "# Exclude specific columns from the list\n",
    "columns_to_exclude = ['Year', 'Month', 'Day', 'RainTomorrow']\n",
    "numerical = [col for col in numerical if col not in columns_to_exclude]\n",
    "\n",
    "print('The {} numerical variables are:\\n'.format(len(numerical)), numerical)\n",
    "df[numerical].head()"
   ]
  },
  {
   "cell_type": "markdown",
   "metadata": {},
   "source": [
    "#### Numerical Feature Summary  <a class=\"anchor\" id=\"6.2.1\"></a>\n",
    "\n",
    "\n",
    "- There are 16 numerical features. \n",
    "\n",
    "\n",
    "- These are given by `MinTemp`, `MaxTemp`, `Rainfall`, `Evaporation`, `Sunshine`, `WindGustSpeed`, `WindSpeed9am`, `WindSpeed3pm`, `Humidity9am`, `Humidity3pm`, `Pressure9am`, `Pressure3pm`, `Cloud9am`, `Cloud3pm`, `Temp9am` and `Temp3pm`.\n",
    "\n",
    "\n",
    "- All of the numerical variables are of continuous type.\n",
    "- There are some outliers (refer to Initial Overview) and missing values we must handle."
   ]
  },
  {
   "cell_type": "markdown",
   "metadata": {},
   "source": [
    "#### Handling Missing Values <a class=\"anchor\" id=\"6.2.2\"></a>"
   ]
  },
  {
   "cell_type": "code",
   "execution_count": 29,
   "metadata": {
    "execution": {
     "iopub.execute_input": "2023-12-05T06:16:00.889027Z",
     "iopub.status.busy": "2023-12-05T06:16:00.888768Z",
     "iopub.status.idle": "2023-12-05T06:16:00.906824Z",
     "shell.execute_reply": "2023-12-05T06:16:00.905637Z",
     "shell.execute_reply.started": "2023-12-05T06:16:00.889005Z"
    }
   },
   "outputs": [
    {
     "data": {
      "text/plain": [
       "MinTemp            637\n",
       "MaxTemp            322\n",
       "Rainfall          1406\n",
       "Evaporation      60843\n",
       "Sunshine         67816\n",
       "WindGustSpeed     9270\n",
       "WindSpeed9am      1348\n",
       "WindSpeed3pm      2630\n",
       "Humidity9am       1774\n",
       "Humidity3pm       3610\n",
       "Pressure9am      14014\n",
       "Pressure3pm      13981\n",
       "Cloud9am         53657\n",
       "Cloud3pm         57094\n",
       "Temp9am            904\n",
       "Temp3pm           2726\n",
       "dtype: int64"
      ]
     },
     "execution_count": 29,
     "metadata": {},
     "output_type": "execute_result"
    }
   ],
   "source": [
    "# check missing values in numerical variables\n",
    "df[numerical].isnull().sum()"
   ]
  },
  {
   "cell_type": "markdown",
   "metadata": {},
   "source": [
    "Looks like all of the numerical features have missing values. Two ways to handle these are to median inputation or random sample imputation. Since there are outliers in our data, we can use median imputation to replace the missing values with the feature medians which are robust to outliers:"
   ]
  },
  {
   "cell_type": "code",
   "execution_count": 30,
   "metadata": {
    "execution": {
     "iopub.execute_input": "2023-12-05T06:16:00.908608Z",
     "iopub.status.busy": "2023-12-05T06:16:00.907911Z",
     "iopub.status.idle": "2023-12-05T06:16:00.958349Z",
     "shell.execute_reply": "2023-12-05T06:16:00.957150Z",
     "shell.execute_reply.started": "2023-12-05T06:16:00.908582Z"
    }
   },
   "outputs": [
    {
     "data": {
      "text/plain": [
       "MinTemp          0\n",
       "MaxTemp          0\n",
       "Rainfall         0\n",
       "Evaporation      0\n",
       "Sunshine         0\n",
       "WindGustSpeed    0\n",
       "WindSpeed9am     0\n",
       "WindSpeed3pm     0\n",
       "Humidity9am      0\n",
       "Humidity3pm      0\n",
       "Pressure9am      0\n",
       "Pressure3pm      0\n",
       "Cloud9am         0\n",
       "Cloud3pm         0\n",
       "Temp9am          0\n",
       "Temp3pm          0\n",
       "dtype: int64"
      ]
     },
     "execution_count": 30,
     "metadata": {},
     "output_type": "execute_result"
    }
   ],
   "source": [
    "# for each feature, replace missing values with median\n",
    "for feature in numerical:\n",
    "    df[feature].fillna(df[feature].median(), inplace=True)\n",
    "    \n",
    "# verify that there are no missing values\n",
    "df[numerical].isnull().sum()"
   ]
  },
  {
   "cell_type": "markdown",
   "metadata": {},
   "source": []
  },
  {
   "cell_type": "markdown",
   "metadata": {},
   "source": [
    "#### Scaling Features <a class=\"anchor\" id=\"6.2.3\"></a>"
   ]
  },
  {
   "cell_type": "code",
   "execution_count": 31,
   "metadata": {
    "execution": {
     "iopub.execute_input": "2023-12-05T06:16:00.960274Z",
     "iopub.status.busy": "2023-12-05T06:16:00.959932Z",
     "iopub.status.idle": "2023-12-05T06:16:01.170427Z",
     "shell.execute_reply": "2023-12-05T06:16:01.169212Z",
     "shell.execute_reply.started": "2023-12-05T06:16:00.960244Z"
    }
   },
   "outputs": [
    {
     "name": "stdout",
     "output_type": "stream",
     "text": [
      "                  count          mean       std       min       25%       50%  \\\n",
      "Location       142193.0  2.398575e-17  1.000004 -1.667479 -0.894869  0.018216   \n",
      "MinTemp        142193.0  3.166118e-16  1.000004 -3.237728 -0.717738 -0.029045   \n",
      "MaxTemp        142193.0  3.421966e-16  1.000004 -3.941909 -0.749039 -0.087961   \n",
      "Rainfall       142193.0  8.594892e-17  1.000004 -0.276125 -0.276125 -0.276125   \n",
      "Evaporation    142193.0 -1.071363e-16  1.000004 -1.627183 -0.371450 -0.120303   \n",
      "Sunshine       142193.0  7.259686e-16  1.000004 -2.903725  0.056962  0.165280   \n",
      "WindGustDir    142193.0 -1.471126e-16  1.000004 -1.716789 -0.864683  0.200450   \n",
      "WindGustSpeed  142193.0  1.778943e-16  1.000004 -2.581325 -0.678822 -0.070021   \n",
      "WindDir9am     142193.0 -5.756579e-17  1.000004 -1.550574 -0.886072 -0.000070   \n",
      "WindDir3pm     142193.0  3.837719e-17  1.000004 -1.713146 -0.833311  0.046525   \n",
      "WindSpeed9am   142193.0 -7.915296e-17  1.000004 -1.580789 -0.789970 -0.112126   \n",
      "WindSpeed3pm   142193.0  1.087354e-16  1.000004 -2.137699 -0.647157  0.040786   \n",
      "Humidity9am    142193.0  7.355629e-17  1.000004 -3.637049 -0.626345  0.060307   \n",
      "Humidity3pm    142193.0 -8.315058e-17  1.000004 -2.508053 -0.706002  0.024559   \n",
      "Pressure9am    142193.0 -4.470943e-15  1.000004 -5.506540 -0.614929 -0.007183   \n",
      "Pressure3pm    142193.0 -9.199333e-15  1.000004 -5.709922 -0.636429 -0.007854   \n",
      "Cloud9am       142193.0  1.495111e-16  1.000004 -2.026530 -0.718970  0.152737   \n",
      "Cloud3pm       142193.0 -1.850900e-16  1.000004 -2.219548 -0.331638  0.140339   \n",
      "Temp9am        142193.0 -2.398575e-16  1.000004 -3.736866 -0.723972 -0.044140   \n",
      "Temp3pm        142193.0  4.797149e-17  1.000004 -3.940491 -0.724177 -0.083825   \n",
      "RainToday      142193.0 -1.207283e-16  1.000004 -0.532962 -0.532962 -0.532962   \n",
      "RainTomorrow   142193.0  2.241812e-01  0.417043  0.000000  0.000000  0.000000   \n",
      "Year           142193.0 -3.597222e-14  1.000004 -2.266181 -0.692151  0.094864   \n",
      "Month          142193.0  8.145159e-17  1.000004 -1.576698 -0.993011 -0.117480   \n",
      "Day            142193.0  7.718538e-17  1.000004 -1.672526 -0.876902  0.032384   \n",
      "\n",
      "                    75%        max  \n",
      "Location       0.861063   1.703910  \n",
      "MinTemp        0.722257   3.398768  \n",
      "MaxTemp        0.699708   3.498743  \n",
      "Rainfall      -0.204920  43.752188  \n",
      "Evaporation    0.068057  43.893144  \n",
      "Sunshine       0.237492   2.331636  \n",
      "WindGustDir    1.052556   1.478609  \n",
      "WindGustSpeed  0.462679   7.235589  \n",
      "WindDir9am     0.885932   1.771934  \n",
      "WindDir3pm     0.926360   1.586236  \n",
      "WindSpeed9am   0.565719  13.105849  \n",
      "WindSpeed3pm   0.614071   7.837469  \n",
      "Humidity9am    0.746959   1.644889  \n",
      "Humidity3pm    0.657713   2.362356  \n",
      "Pressure9am    0.615385   3.461414  \n",
      "Pressure3pm    0.620720   3.643864  \n",
      "Cloud9am       0.588591   1.896151  \n",
      "Cloud3pm       0.612316   2.028248  \n",
      "Temp9am        0.697496   3.586783  \n",
      "Temp3pm        0.672955   3.641861  \n",
      "RainToday     -0.532962   1.876305  \n",
      "RainTomorrow   0.000000   1.000000  \n",
      "Year           0.881880   1.668895  \n",
      "Month          0.758051   1.633581  \n",
      "Day            0.828008   1.737293  \n"
     ]
    }
   ],
   "source": [
    "target = df['RainTomorrow']\n",
    "\n",
    "# Select only the columns to be scaled (excluding 'RainTomorrow')\n",
    "cols_to_scale = df.columns[df.columns != 'RainTomorrow']\n",
    "\n",
    "# Set up a standard scaler for the selected columns\n",
    "std_scaler = preprocessing.StandardScaler()\n",
    "\n",
    "# Scale the selected columns and create a DataFrame with the scaled values\n",
    "scaled_features = std_scaler.fit_transform(df[cols_to_scale])\n",
    "df[cols_to_scale] = scaled_features\n",
    "\n",
    "# Verify the changes\n",
    "print(df.describe().T)"
   ]
  },
  {
   "cell_type": "markdown",
   "metadata": {},
   "source": [
    "#### Handling Outliers <a class=\"anchor\" id=\"6.2.4\"></a>\n",
    "Using a boxplot to visualize outliers:"
   ]
  },
  {
   "cell_type": "code",
   "execution_count": 32,
   "metadata": {
    "execution": {
     "iopub.execute_input": "2023-12-05T06:16:01.172666Z",
     "iopub.status.busy": "2023-12-05T06:16:01.172273Z",
     "iopub.status.idle": "2023-12-05T06:16:02.490379Z",
     "shell.execute_reply": "2023-12-05T06:16:02.489377Z",
     "shell.execute_reply.started": "2023-12-05T06:16:01.172637Z"
    }
   },
   "outputs": [
    {
     "data": {
      "image/png": "[encoded data removed]",
      "text/plain": [
       "<Figure size 2000x1200 with 1 Axes>"
      ]
     },
     "metadata": {},
     "output_type": "display_data"
    }
   ],
   "source": [
    "#looking at the scaled features\n",
    "colors = [\"#ff6666\", \"#ffbd55\", \"#ffff66\", \"#9de24f\", \"#87cefa\", '#C8A8CB']\n",
    "plt.figure(figsize=(20,12))\n",
    "sns.boxenplot(data = df,palette = colors)\n",
    "plt.xticks(rotation=90)\n",
    "plt.show()"
   ]
  },
  {
   "cell_type": "markdown",
   "metadata": {},
   "source": [
    "Let's drop outliers based on the IQR (Inter Quartile Range):"
   ]
  },
  {
   "cell_type": "code",
   "execution_count": 33,
   "metadata": {
    "execution": {
     "iopub.execute_input": "2023-12-05T06:16:02.492946Z",
     "iopub.status.busy": "2023-12-05T06:16:02.491930Z",
     "iopub.status.idle": "2023-12-05T06:16:02.689561Z",
     "shell.execute_reply": "2023-12-05T06:16:02.688240Z",
     "shell.execute_reply.started": "2023-12-05T06:16:02.492901Z"
    }
   },
   "outputs": [],
   "source": [
    "for col in ['Evaporation', 'WindSpeed9am', 'WindSpeed3pm']:\n",
    "    q1=np.quantile(df[col],0.25)\n",
    "    q3=np.quantile(df[col],0.75)\n",
    "    iqr=q3-q1\n",
    "    \n",
    "    lower=round(q1-1.5*iqr,2)\n",
    "    upper=round(q3+1.5*iqr,2)\n",
    "    df=df[(df[col]<upper)&(df[col]>lower)]\n",
    "    \n",
    "# or doing it manually\n",
    "df = df[(df[\"MinTemp\"]<2.3)&(df[\"MinTemp\"]>-2.3)]\n",
    "df = df[(df[\"MaxTemp\"]<2.3)&(df[\"MaxTemp\"]>-2)]\n",
    "df = df[(df[\"Rainfall\"]<4.5)]\n",
    "df = df[(df[\"Sunshine\"]<2.1)]\n",
    "df = df[(df[\"WindGustSpeed\"]<4)&(df[\"WindGustSpeed\"]>-4)]\n",
    "df = df[(df[\"Humidity9am\"]>-3)]\n",
    "df = df[(df[\"Humidity3pm\"]>-2.2)]\n",
    "df = df[(df[\"Pressure9am\"]< 2)&(df[\"Pressure9am\"]>-2.7)]\n",
    "df = df[(df[\"Pressure3pm\"]< 2)&(df[\"Pressure3pm\"]>-2.7)]\n",
    "df = df[(df[\"Cloud9am\"]<1.8)]\n",
    "df = df[(df[\"Cloud3pm\"]<2)]\n",
    "df = df[(df[\"Temp9am\"]<2.3)&(df[\"Temp9am\"]>-2)]\n",
    "df = df[(df[\"Temp3pm\"]<2.3)&(df[\"Temp3pm\"]>-2)]"
   ]
  },
  {
   "cell_type": "code",
   "execution_count": 34,
   "metadata": {
    "execution": {
     "iopub.execute_input": "2023-12-05T06:16:02.691730Z",
     "iopub.status.busy": "2023-12-05T06:16:02.691282Z",
     "iopub.status.idle": "2023-12-05T06:16:03.742343Z",
     "shell.execute_reply": "2023-12-05T06:16:03.741200Z",
     "shell.execute_reply.started": "2023-12-05T06:16:02.691694Z"
    }
   },
   "outputs": [
    {
     "data": {
      "image/png": "[encoded data removed]",
      "text/plain": [
       "<Figure size 2000x1000 with 1 Axes>"
      ]
     },
     "metadata": {},
     "output_type": "display_data"
    }
   ],
   "source": [
    "#looking at the scaled features without outliers\n",
    "\n",
    "colors = [\"#ff6666\", \"#ffbd55\", \"#ffff66\", \"#9de24f\", \"#87cefa\", '#C8A8CB']\n",
    "plt.figure(figsize=(20,10))\n",
    "sns.boxenplot(data = df,palette = colors)\n",
    "plt.xticks(rotation=90)\n",
    "plt.show()"
   ]
  },
  {
   "cell_type": "markdown",
   "metadata": {},
   "source": [
    "Looks good. Now we can split the data in training and testing sets.\n",
    "\n",
    "### Splitting the Dataset <a class=\"anchor\" id=\"6.3\"></a>"
   ]
  },
  {
   "cell_type": "code",
   "execution_count": 35,
   "metadata": {
    "execution": {
     "iopub.execute_input": "2023-12-05T06:16:03.743975Z",
     "iopub.status.busy": "2023-12-05T06:16:03.743702Z",
     "iopub.status.idle": "2023-12-05T06:16:03.771932Z",
     "shell.execute_reply": "2023-12-05T06:16:03.771235Z",
     "shell.execute_reply.started": "2023-12-05T06:16:03.743945Z"
    }
   },
   "outputs": [],
   "source": [
    "\n",
    "X = df.drop(['RainTomorrow'], axis=1)\n",
    "y = df[\"RainTomorrow\"]\n",
    "\n",
    "# Splitting the test and training sets\n",
    "X_train, X_test, y_train, y_test = train_test_split(X, y, test_size = 0.2, random_state = 42)"
   ]
  },
  {
   "cell_type": "markdown",
   "metadata": {},
   "source": [
    "## 7. Feature Analysis (Multivariate Analysis)<a class=\"anchor\" id=\"7\"></a>\n",
    "To see what features are most relevant to predicting whether it will rain tomorrow, we can use a heatmap to visualize the correlation matrix between the features and target variable."
   ]
  },
  {
   "cell_type": "markdown",
   "metadata": {},
   "source": [
    "### Heatmap <a class=\"anchor\" id=\"7.1\"></a>"
   ]
  },
  {
   "cell_type": "code",
   "execution_count": 36,
   "metadata": {
    "execution": {
     "iopub.execute_input": "2023-12-05T06:16:03.774008Z",
     "iopub.status.busy": "2023-12-05T06:16:03.773392Z",
     "iopub.status.idle": "2023-12-05T06:16:04.445812Z",
     "shell.execute_reply": "2023-12-05T06:16:04.444439Z",
     "shell.execute_reply.started": "2023-12-05T06:16:03.773977Z"
    }
   },
   "outputs": [
    {
     "data": {
      "image/png": "[encoded data removed]",
      "text/plain": [
       "<Figure size 1200x1200 with 2 Axes>"
      ]
     },
     "metadata": {},
     "output_type": "display_data"
    }
   ],
   "source": [
    "train=pd.concat([X_train,y_train],axis=1,join=\"inner\")\n",
    "test=pd.concat([X_test,y_test],axis=1,join=\"inner\")\n",
    "col=['MinTemp', 'MaxTemp', 'WindSpeed9am','WindSpeed3pm', \n",
    "     'Humidity9am','Humidity3pm', 'Pressure9am', 'Pressure3pm',\n",
    "     'Cloud9am', 'Cloud3pm','Temp9am', 'Temp3pm','RainTomorrow']\n",
    "\n",
    "plt.figure(figsize=(12,12))\n",
    "ax= sns.heatmap(train[col].corr(),annot=True);\n",
    "plt.show()"
   ]
  },
  {
   "cell_type": "markdown",
   "metadata": {},
   "source": [
    "#### Heapmap Interpretation <a class=\"anchor\" id=\"7.1.1\"></a>\n",
    "\n",
    "\n",
    "From the above correlation heat map, we can conclude that :-\n",
    "- The variables related to temperature, pressure, and clouds are strongly correlated with one another.\n",
    "- The variables that seem most correlated with the target are `MaxTemp`, `Temp3pm`, and `Humidity 3pm` as their absolute value is higher."
   ]
  },
  {
   "cell_type": "markdown",
   "metadata": {},
   "source": [
    "### Feature Engineering and Selection <a class=\"anchor\" id=\"7.2\"></a>\n",
    "Let's see if the differences between related variables are more correlated with the target:"
   ]
  },
  {
   "cell_type": "code",
   "execution_count": 37,
   "metadata": {
    "execution": {
     "iopub.execute_input": "2023-12-05T06:16:04.447776Z",
     "iopub.status.busy": "2023-12-05T06:16:04.447410Z",
     "iopub.status.idle": "2023-12-05T06:16:04.856769Z",
     "shell.execute_reply": "2023-12-05T06:16:04.855383Z",
     "shell.execute_reply.started": "2023-12-05T06:16:04.447750Z"
    }
   },
   "outputs": [
    {
     "data": {
      "image/png": "[encoded data removed]",
      "text/plain": [
       "<Figure size 640x480 with 2 Axes>"
      ]
     },
     "metadata": {},
     "output_type": "display_data"
    }
   ],
   "source": [
    "train[\"WindSpeed_diff\"]=train[\"WindSpeed3pm\"]-train[\"WindSpeed9am\"]\n",
    "train[\"Humidity_diff\"]=train[\"Humidity3pm\"]-train[\"Humidity9am\"]\n",
    "train[\"Pressure_diff\"]=train[\"Pressure3pm\"]-train[\"Pressure9am\"]\n",
    "train[\"Cloud_diff\"]=train[\"Cloud3pm\"]-train[\"Cloud9am\"]\n",
    "train[\"Temp_diff\"]=train[\"Temp3pm\"]-train[\"Temp9am\"]\n",
    "train[\"MinMax_diff\"]=train[\"MaxTemp\"]-train[\"MinTemp\"]\n",
    "\n",
    "test[\"WindSpeed_diff\"]=test[\"WindSpeed3pm\"]-test[\"WindSpeed9am\"]\n",
    "test[\"Humidity_diff\"]=test[\"Humidity3pm\"]-test[\"Humidity9am\"]\n",
    "test[\"Pressure_diff\"]=test[\"Pressure3pm\"]-test[\"Pressure9am\"]\n",
    "test[\"Cloud_diff\"]=test[\"Cloud3pm\"]-test[\"Cloud9am\"]\n",
    "test[\"Temp_diff\"]=test[\"Temp3pm\"]-test[\"Temp9am\"]\n",
    "test[\"MinMax_diff\"]=test[\"MaxTemp\"]-test[\"MinTemp\"]\n",
    "\n",
    "n_col=[\"WindSpeed_diff\",\"Humidity_diff\",\"Pressure_diff\",\"Cloud_diff\",\"Temp_diff\",\n",
    "       \"MinMax_diff\",'RainTomorrow']\n",
    "sns.heatmap(train[n_col].corr(),annot=True);"
   ]
  },
  {
   "cell_type": "code",
   "execution_count": 38,
   "metadata": {
    "execution": {
     "iopub.execute_input": "2023-12-05T06:16:04.858874Z",
     "iopub.status.busy": "2023-12-05T06:16:04.858554Z",
     "iopub.status.idle": "2023-12-05T06:16:04.870021Z",
     "shell.execute_reply": "2023-12-05T06:16:04.868577Z",
     "shell.execute_reply.started": "2023-12-05T06:16:04.858839Z"
    }
   },
   "outputs": [],
   "source": [
    "drop_col=[\"WindSpeed_diff\",\"Humidity_diff\",\"Pressure_diff\",\"Cloud_diff\",\n",
    "          \"MinTemp\", \"MaxTemp\",\"Temp9am\", \"Temp3pm\",\"RainTomorrow\"]\n",
    "\n",
    "X_train=train.drop(drop_col,axis=1)\n",
    "y_train=train[\"RainTomorrow\"]\n",
    "\n",
    "X_test=test.drop(drop_col,axis=1)\n",
    "y_test=test[\"RainTomorrow\"]"
   ]
  },
  {
   "cell_type": "markdown",
   "metadata": {},
   "source": [
    "#### Feature Engineering and Selection Interpretation <a class=\"anchor\" id=\"7.1.1\"></a>\n",
    "\n",
    "\n",
    "From the above correlation heat map, we can see that the Temp_diff and MinMax_diff are more strongly correlated with the target (|-0.021| > |-0.016| and |-0.017|), so we can use these features instead. \n",
    "\n",
    "Feature selection is important in the context of neural networks because we do not want to select features that would just provide noise to the model, and make the model overfit data. We want to remove redundant features so that the model only uses features that genreralize well to new data. Also, using less features can be computationally efficient as neural networks with a large number of features can take more resources to train. "
   ]
  },
  {
   "cell_type": "markdown",
   "metadata": {},
   "source": [
    "## Model Building <a class=\"anchor\" id=\"8\"></a>\n",
    "    \n",
    "Now let us build a neural network model using tensorflow. This is a sequential multilayer fully connected neural network with some parameters explained in the comment below."
   ]
  },
  {
   "cell_type": "code",
   "execution_count": 39,
   "metadata": {
    "execution": {
     "iopub.execute_input": "2023-12-05T06:16:04.872684Z",
     "iopub.status.busy": "2023-12-05T06:16:04.871557Z",
     "iopub.status.idle": "2023-12-05T06:16:05.090316Z",
     "shell.execute_reply": "2023-12-05T06:16:05.089250Z",
     "shell.execute_reply.started": "2023-12-05T06:16:04.872646Z"
    }
   },
   "outputs": [
    {
     "name": "stdout",
     "output_type": "stream",
     "text": [
      "Model: \"sequential_1\"\n",
      "_________________________________________________________________\n",
      " Layer (type)                Output Shape              Param #   \n",
      "=================================================================\n",
      " dense (Dense)               (None, 20)                460       \n",
      "                                                                 \n",
      " dense_1 (Dense)             (None, 20)                420       \n",
      "                                                                 \n",
      " dropout (Dropout)           (None, 20)                0         \n",
      "                                                                 \n",
      " dense_2 (Dense)             (None, 10)                210       \n",
      "                                                                 \n",
      " dropout_1 (Dropout)         (None, 10)                0         \n",
      "                                                                 \n",
      " dense_3 (Dense)             (None, 5)                 55        \n",
      "                                                                 \n",
      " dense_4 (Dense)             (None, 1)                 6         \n",
      "                                                                 \n",
      "=================================================================\n",
      "Total params: 1151 (4.50 KB)\n",
      "Trainable params: 1151 (4.50 KB)\n",
      "Non-trainable params: 0 (0.00 Byte)\n",
      "_________________________________________________________________\n"
     ]
    }
   ],
   "source": [
    "model=Sequential()\n",
    "# units specifies the number of neurons in each hidden layer of the neural network. In our case we have 5 hidden layers with varied number of neurons. \n",
    "# activation is the activation function used for hidden layers. In our case we are using rectified linear units which is pretty common.\n",
    "model=Sequential()\n",
    "model.add(Dense(units=20,input_dim=22,activation=\"relu\"))\n",
    "model.add(Dense(units=20,activation=\"relu\"))\n",
    "model.add(Dropout(0.1))\n",
    "model.add(Dense(units=10,activation=\"relu\"))\n",
    "model.add(Dropout(0.1))\n",
    "model.add(Dense(units=5,activation=\"relu\"))\n",
    "# Note that the last layer uses the sigmoid activation function instead, to give a binary output for the prediction\n",
    "model.add(Dense(units = 1, kernel_initializer = 'uniform', activation = 'sigmoid'))\n",
    "\n",
    "\n",
    "model.summary()"
   ]
  },
  {
   "cell_type": "markdown",
   "metadata": {},
   "source": [
    "## Model Training and Validation <a class=\"anchor\" id=\"9\"></a>\n",
    "    \n",
    "### First Model <a class=\"anchor\" id=\"9.1\"></a>\n",
    "    \n",
    "Let's train our model above on our training data, and see its accuracy using the validation set:"
   ]
  },
  {
   "cell_type": "code",
   "execution_count": 40,
   "metadata": {
    "execution": {
     "iopub.execute_input": "2023-12-05T06:16:05.092599Z",
     "iopub.status.busy": "2023-12-05T06:16:05.092211Z",
     "iopub.status.idle": "2023-12-05T06:18:57.254598Z",
     "shell.execute_reply": "2023-12-05T06:18:57.253743Z",
     "shell.execute_reply.started": "2023-12-05T06:16:05.092570Z"
    }
   },
   "outputs": [
    {
     "name": "stdout",
     "output_type": "stream",
     "text": [
      "2459/2459 [==============================] - 6s 2ms/step - loss: 0.4860 - accuracy: 0.7798\n",
      "Epoch 1/50\n",
      "1230/1230 [==============================] - 3s 3ms/step - loss: 0.4067 - accuracy: 0.8192 - val_loss: 0.4015 - val_accuracy: 0.8267\n",
      "Epoch 2/50\n",
      "1230/1230 [==============================] - 3s 2ms/step - loss: 0.3977 - accuracy: 0.8235 - val_loss: 0.3931 - val_accuracy: 0.8288\n",
      "Epoch 3/50\n",
      "1230/1230 [==============================] - 3s 3ms/step - loss: 0.3912 - accuracy: 0.8284 - val_loss: 0.3874 - val_accuracy: 0.8305\n",
      "Epoch 4/50\n",
      "1230/1230 [==============================] - 3s 3ms/step - loss: 0.3860 - accuracy: 0.8315 - val_loss: 0.3837 - val_accuracy: 0.8332\n",
      "Epoch 5/50\n",
      "1230/1230 [==============================] - 3s 3ms/step - loss: 0.3823 - accuracy: 0.8336 - val_loss: 0.3811 - val_accuracy: 0.8356\n",
      "Epoch 6/50\n",
      "1230/1230 [==============================] - 3s 3ms/step - loss: 0.3798 - accuracy: 0.8360 - val_loss: 0.3793 - val_accuracy: 0.8352\n",
      "Epoch 7/50\n",
      "1230/1230 [==============================] - 3s 3ms/step - loss: 0.3784 - accuracy: 0.8368 - val_loss: 0.3778 - val_accuracy: 0.8385\n",
      "Epoch 8/50\n",
      "1230/1230 [==============================] - 3s 2ms/step - loss: 0.3762 - accuracy: 0.8378 - val_loss: 0.3768 - val_accuracy: 0.8388\n",
      "Epoch 9/50\n",
      "1230/1230 [==============================] - 3s 3ms/step - loss: 0.3759 - accuracy: 0.8386 - val_loss: 0.3757 - val_accuracy: 0.8396\n",
      "Epoch 10/50\n",
      "1230/1230 [==============================] - 3s 3ms/step - loss: 0.3737 - accuracy: 0.8386 - val_loss: 0.3749 - val_accuracy: 0.8395\n",
      "Epoch 11/50\n",
      "1230/1230 [==============================] - 3s 3ms/step - loss: 0.3727 - accuracy: 0.8399 - val_loss: 0.3742 - val_accuracy: 0.8391\n",
      "Epoch 12/50\n",
      "1230/1230 [==============================] - 3s 3ms/step - loss: 0.3723 - accuracy: 0.8398 - val_loss: 0.3734 - val_accuracy: 0.8403\n",
      "Epoch 13/50\n",
      "1230/1230 [==============================] - 4s 3ms/step - loss: 0.3714 - accuracy: 0.8411 - val_loss: 0.3730 - val_accuracy: 0.8401\n",
      "Epoch 14/50\n",
      "1230/1230 [==============================] - 3s 3ms/step - loss: 0.3703 - accuracy: 0.8421 - val_loss: 0.3724 - val_accuracy: 0.8403\n",
      "Epoch 15/50\n",
      "1230/1230 [==============================] - 3s 3ms/step - loss: 0.3701 - accuracy: 0.8421 - val_loss: 0.3720 - val_accuracy: 0.8408\n",
      "Epoch 16/50\n",
      "1230/1230 [==============================] - 3s 3ms/step - loss: 0.3695 - accuracy: 0.8424 - val_loss: 0.3715 - val_accuracy: 0.8404\n",
      "Epoch 17/50\n",
      "1230/1230 [==============================] - 3s 3ms/step - loss: 0.3681 - accuracy: 0.8435 - val_loss: 0.3710 - val_accuracy: 0.8410\n",
      "Epoch 18/50\n",
      "1230/1230 [==============================] - 3s 2ms/step - loss: 0.3683 - accuracy: 0.8430 - val_loss: 0.3707 - val_accuracy: 0.8410\n",
      "Epoch 19/50\n",
      "1230/1230 [==============================] - 3s 2ms/step - loss: 0.3668 - accuracy: 0.8444 - val_loss: 0.3702 - val_accuracy: 0.8411\n",
      "Epoch 20/50\n",
      "1230/1230 [==============================] - 3s 3ms/step - loss: 0.3664 - accuracy: 0.8436 - val_loss: 0.3699 - val_accuracy: 0.8403\n",
      "Epoch 21/50\n",
      "1230/1230 [==============================] - 3s 3ms/step - loss: 0.3657 - accuracy: 0.8452 - val_loss: 0.3699 - val_accuracy: 0.8408\n",
      "Epoch 22/50\n",
      "1230/1230 [==============================] - 3s 2ms/step - loss: 0.3651 - accuracy: 0.8442 - val_loss: 0.3696 - val_accuracy: 0.8399\n",
      "Epoch 23/50\n",
      "1230/1230 [==============================] - 3s 3ms/step - loss: 0.3650 - accuracy: 0.8448 - val_loss: 0.3694 - val_accuracy: 0.8407\n",
      "Epoch 24/50\n",
      "1230/1230 [==============================] - 3s 3ms/step - loss: 0.3644 - accuracy: 0.8451 - val_loss: 0.3691 - val_accuracy: 0.8402\n",
      "Epoch 25/50\n",
      "1230/1230 [==============================] - 4s 3ms/step - loss: 0.3637 - accuracy: 0.8452 - val_loss: 0.3689 - val_accuracy: 0.8405\n",
      "Epoch 26/50\n",
      "1230/1230 [==============================] - 3s 3ms/step - loss: 0.3637 - accuracy: 0.8455 - val_loss: 0.3686 - val_accuracy: 0.8403\n",
      "Epoch 27/50\n",
      "1230/1230 [==============================] - 3s 3ms/step - loss: 0.3630 - accuracy: 0.8454 - val_loss: 0.3683 - val_accuracy: 0.8407\n",
      "Epoch 28/50\n",
      "1230/1230 [==============================] - 3s 3ms/step - loss: 0.3625 - accuracy: 0.8464 - val_loss: 0.3683 - val_accuracy: 0.8407\n",
      "Epoch 29/50\n",
      "1230/1230 [==============================] - 3s 3ms/step - loss: 0.3628 - accuracy: 0.8467 - val_loss: 0.3682 - val_accuracy: 0.8409\n",
      "Epoch 30/50\n",
      "1230/1230 [==============================] - 3s 3ms/step - loss: 0.3623 - accuracy: 0.8465 - val_loss: 0.3679 - val_accuracy: 0.8415\n",
      "Epoch 31/50\n",
      "1230/1230 [==============================] - 3s 3ms/step - loss: 0.3617 - accuracy: 0.8460 - val_loss: 0.3677 - val_accuracy: 0.8419\n",
      "Epoch 32/50\n",
      "1230/1230 [==============================] - 3s 2ms/step - loss: 0.3611 - accuracy: 0.8470 - val_loss: 0.3676 - val_accuracy: 0.8419\n",
      "Epoch 33/50\n",
      "1230/1230 [==============================] - 3s 3ms/step - loss: 0.3611 - accuracy: 0.8466 - val_loss: 0.3674 - val_accuracy: 0.8414\n",
      "Epoch 34/50\n",
      "1230/1230 [==============================] - 3s 3ms/step - loss: 0.3604 - accuracy: 0.8464 - val_loss: 0.3672 - val_accuracy: 0.8418\n",
      "Epoch 35/50\n",
      "1230/1230 [==============================] - 3s 3ms/step - loss: 0.3612 - accuracy: 0.8466 - val_loss: 0.3672 - val_accuracy: 0.8412\n",
      "Epoch 36/50\n",
      "1230/1230 [==============================] - 3s 3ms/step - loss: 0.3602 - accuracy: 0.8477 - val_loss: 0.3670 - val_accuracy: 0.8415\n",
      "Epoch 37/50\n",
      "1230/1230 [==============================] - 3s 3ms/step - loss: 0.3603 - accuracy: 0.8470 - val_loss: 0.3668 - val_accuracy: 0.8417\n",
      "Epoch 38/50\n",
      "1230/1230 [==============================] - 3s 3ms/step - loss: 0.3594 - accuracy: 0.8471 - val_loss: 0.3668 - val_accuracy: 0.8421\n",
      "Epoch 39/50\n",
      "1230/1230 [==============================] - 3s 3ms/step - loss: 0.3594 - accuracy: 0.8474 - val_loss: 0.3667 - val_accuracy: 0.8418\n",
      "Epoch 40/50\n",
      "1230/1230 [==============================] - 3s 3ms/step - loss: 0.3591 - accuracy: 0.8474 - val_loss: 0.3665 - val_accuracy: 0.8421\n",
      "Epoch 41/50\n",
      "1230/1230 [==============================] - 3s 3ms/step - loss: 0.3587 - accuracy: 0.8481 - val_loss: 0.3665 - val_accuracy: 0.8412\n",
      "Epoch 42/50\n",
      "1230/1230 [==============================] - 3s 3ms/step - loss: 0.3583 - accuracy: 0.8477 - val_loss: 0.3664 - val_accuracy: 0.8416\n",
      "Epoch 43/50\n",
      "1230/1230 [==============================] - 3s 3ms/step - loss: 0.3576 - accuracy: 0.8480 - val_loss: 0.3663 - val_accuracy: 0.8418\n",
      "Epoch 44/50\n",
      "1230/1230 [==============================] - 3s 3ms/step - loss: 0.3581 - accuracy: 0.8478 - val_loss: 0.3663 - val_accuracy: 0.8418\n",
      "Epoch 45/50\n",
      "1230/1230 [==============================] - 3s 2ms/step - loss: 0.3579 - accuracy: 0.8479 - val_loss: 0.3662 - val_accuracy: 0.8415\n",
      "Epoch 46/50\n",
      "1230/1230 [==============================] - 3s 3ms/step - loss: 0.3573 - accuracy: 0.8482 - val_loss: 0.3661 - val_accuracy: 0.8413\n",
      "Epoch 47/50\n",
      "1230/1230 [==============================] - 3s 3ms/step - loss: 0.3576 - accuracy: 0.8481 - val_loss: 0.3661 - val_accuracy: 0.8423\n",
      "Epoch 48/50\n",
      "1230/1230 [==============================] - 3s 2ms/step - loss: 0.3574 - accuracy: 0.8487 - val_loss: 0.3659 - val_accuracy: 0.8412\n",
      "Epoch 49/50\n",
      "1230/1230 [==============================] - 3s 3ms/step - loss: 0.3570 - accuracy: 0.8482 - val_loss: 0.3660 - val_accuracy: 0.8428\n",
      "Epoch 50/50\n",
      "1230/1230 [==============================] - 3s 3ms/step - loss: 0.3567 - accuracy: 0.8484 - val_loss: 0.3658 - val_accuracy: 0.8415\n"
     ]
    },
    {
     "data": {
      "image/png": "[encoded data removed]",
      "text/plain": [
       "<Figure size 640x480 with 1 Axes>"
      ]
     },
     "metadata": {},
     "output_type": "display_data"
    }
   ],
   "source": [
    "# stop early based on loss function\n",
    "earlystopping=EarlyStopping(monitor='val_loss',min_delta=0.001,patience=50,restore_best_weights=True)\n",
    "\n",
    "# solver is the optimization alogirthm used to update weights in the network. 'adam' is an adaptive learning rate well suited for large datasets like ours.\n",
    "# learning_rate controls the step size during optimization. In our case it is kept constant.\n",
    "opt = Adam(learning_rate=0.0001)\n",
    "\n",
    "# compile model\n",
    "model.compile(optimizer=opt,loss=\"binary_crossentropy\",metrics=[\"accuracy\"])\n",
    "\n",
    "# Train the model\n",
    "model.fit(X_train, y_train)\n",
    "# the epochs is the maximum number of iterations (epochs) for which the solver should converge.\n",
    "history = model.fit(X_train,y_train,batch_size=64,epochs=50,\n",
    "                      callbacks=[earlystopping],validation_data=(X_test,y_test))\n",
    "history_df = pd.DataFrame(history.history)\n",
    "history_df[[\"loss\",\"val_loss\"]].plot();"
   ]
  },
  {
   "cell_type": "code",
   "execution_count": 41,
   "metadata": {
    "execution": {
     "iopub.execute_input": "2023-12-05T06:18:57.257005Z",
     "iopub.status.busy": "2023-12-05T06:18:57.255900Z",
     "iopub.status.idle": "2023-12-05T06:18:58.364384Z",
     "shell.execute_reply": "2023-12-05T06:18:58.362899Z",
     "shell.execute_reply.started": "2023-12-05T06:18:57.256961Z"
    }
   },
   "outputs": [
    {
     "name": "stdout",
     "output_type": "stream",
     "text": [
      "615/615 [==============================] - 1s 1ms/step\n",
      "Test Accuracy: 0.8414603142319622\n"
     ]
    }
   ],
   "source": [
    "y_pred=model.predict(X_test)\n",
    "y_pred=(y_pred>0.5)\n",
    "\n",
    "accuracy = accuracy_score(y_test, y_pred)\n",
    "\n",
    "print(f'Test Accuracy: {accuracy}')"
   ]
  },
  {
   "cell_type": "markdown",
   "metadata": {},
   "source": [
    "Before I was using sklearn to create the neural network, but there doesn't seem to be an easy way to change the output layer's activation function to use sigmoid. Therefore, I was getting unwanted results. However, I did implement a grid search cross validation method for that model that seemed to work and chose the best hyperparameters. I think one could do the same for the above tensorflow model, but it would be very computationally expensive, considering it takes several minutes just to train the model above."
   ]
  },
  {
   "cell_type": "markdown",
   "metadata": {},
   "source": [
    "### Hyperparameter Tuning <a class=\"anchor\" id=\"9.2\"></a>\n",
    "\n",
    "Regardless, let's try to make a hyperparameter tuner for the tensorflow model using cross validation (kfold):"
   ]
  },
  {
   "cell_type": "code",
   "execution_count": 42,
   "metadata": {
    "execution": {
     "iopub.execute_input": "2023-12-05T06:18:58.366278Z",
     "iopub.status.busy": "2023-12-05T06:18:58.365974Z",
     "iopub.status.idle": "2023-12-05T06:18:58.374104Z",
     "shell.execute_reply": "2023-12-05T06:18:58.372701Z",
     "shell.execute_reply.started": "2023-12-05T06:18:58.366252Z"
    }
   },
   "outputs": [],
   "source": [
    "# defining our model builder\n",
    "def model_builder(hp):\n",
    "    model = keras.Sequential()\n",
    "\n",
    "    # Tune the number of units in the first Dense layer\n",
    "    # Choose an optimal value between 5-30\n",
    "    hp_units = hp.Int('units', min_value=5, max_value=30, step=5)\n",
    "    \n",
    "    model.add(Dense(units=hp_units,input_dim=22,activation=\"relu\"))\n",
    "    model.add(keras.layers.Dense(10))\n",
    "    # Note that the last layer uses the sigmoid activation function instead, to give a binary output for the prediction\n",
    "    model.add(Dense(units = 1, kernel_initializer = 'uniform', activation = 'sigmoid'))\n",
    "    \n",
    "    # Tune the learning rate for the optimizer\n",
    "    # Choose an optimal value from 0.01, 0.001, or 0.0001\n",
    "    hp_learning_rate = hp.Choice('learning_rate', values=[1e-2, 1e-3, 1e-4])\n",
    "\n",
    "    model.compile(optimizer=keras.optimizers.Adam(learning_rate=hp_learning_rate),\n",
    "                loss=\"binary_crossentropy\",\n",
    "                metrics=['accuracy'])\n",
    "\n",
    "    return model"
   ]
  },
  {
   "cell_type": "code",
   "execution_count": 43,
   "metadata": {
    "execution": {
     "iopub.execute_input": "2023-12-05T06:18:58.375769Z",
     "iopub.status.busy": "2023-12-05T06:18:58.375328Z",
     "iopub.status.idle": "2023-12-05T06:18:58.436115Z",
     "shell.execute_reply": "2023-12-05T06:18:58.435025Z",
     "shell.execute_reply.started": "2023-12-05T06:18:58.375742Z"
    }
   },
   "outputs": [],
   "source": [
    "hp_tuner = kt.Hyperband(model_builder,\n",
    "                     objective='val_accuracy',\n",
    "                     max_epochs=50,\n",
    "                     factor=3,\n",
    "                    max_consecutive_failed_trials = 3)\n",
    "\n",
    "brakes = tf.keras.callbacks.EarlyStopping(monitor='val_loss', patience=5)"
   ]
  },
  {
   "cell_type": "code",
   "execution_count": 44,
   "metadata": {
    "execution": {
     "iopub.execute_input": "2023-12-05T06:18:58.438763Z",
     "iopub.status.busy": "2023-12-05T06:18:58.437621Z",
     "iopub.status.idle": "2023-12-05T06:22:07.434155Z",
     "shell.execute_reply": "2023-12-05T06:22:07.432761Z",
     "shell.execute_reply.started": "2023-12-05T06:18:58.438732Z"
    }
   },
   "outputs": [
    {
     "name": "stdout",
     "output_type": "stream",
     "text": [
      "Trial 18 Complete [00h 00m 11s]\n",
      "val_accuracy: 0.8302402496337891\n",
      "\n",
      "Best val_accuracy So Far: 0.8454302549362183\n",
      "Total elapsed time: 00h 03m 09s\n",
      "\n",
      "The hyperparameter search is complete. The optimal number of units in the first densely-connected layer is: \n",
      "30 \n",
      "and the optimal learning rate for the optimizer is: \n",
      "0.001.\n",
      "\n"
     ]
    }
   ],
   "source": [
    "hp_tuner.search(X_train, y_train, epochs=50, validation_split=0.2, callbacks=[brakes])\n",
    "\n",
    "# Get the best hyperparamters for the hypermodel\n",
    "best_hps=hp_tuner.get_best_hyperparameters(num_trials=1)[0]\n",
    "\n",
    "print(f\"\"\"\n",
    "The hyperparameter search is complete. The optimal number of units in the first densely-connected layer is: \n",
    "{best_hps.get('units')} \n",
    "and the optimal learning rate for the optimizer is: \n",
    "{best_hps.get('learning_rate')}.\n",
    "\"\"\")"
   ]
  },
  {
   "cell_type": "code",
   "execution_count": 45,
   "metadata": {
    "execution": {
     "iopub.execute_input": "2023-12-05T06:22:07.436320Z",
     "iopub.status.busy": "2023-12-05T06:22:07.435961Z",
     "iopub.status.idle": "2023-12-05T06:28:52.616373Z",
     "shell.execute_reply": "2023-12-05T06:28:52.615252Z",
     "shell.execute_reply.started": "2023-12-05T06:22:07.436288Z"
    }
   },
   "outputs": [
    {
     "name": "stdout",
     "output_type": "stream",
     "text": [
      "Epoch 1/50\n",
      "1967/1967 [==============================] - 5s 2ms/step - loss: 0.3796 - accuracy: 0.8389 - val_loss: 0.3665 - val_accuracy: 0.8433\n",
      "Epoch 2/50\n",
      "1967/1967 [==============================] - 5s 2ms/step - loss: 0.3598 - accuracy: 0.8443 - val_loss: 0.3619 - val_accuracy: 0.8445\n",
      "Epoch 3/50\n",
      "1967/1967 [==============================] - 4s 2ms/step - loss: 0.3565 - accuracy: 0.8466 - val_loss: 0.3587 - val_accuracy: 0.8465\n",
      "Epoch 4/50\n",
      "1967/1967 [==============================] - 5s 3ms/step - loss: 0.3540 - accuracy: 0.8474 - val_loss: 0.3578 - val_accuracy: 0.8459\n",
      "Epoch 5/50\n",
      "1967/1967 [==============================] - 4s 2ms/step - loss: 0.3527 - accuracy: 0.8479 - val_loss: 0.3573 - val_accuracy: 0.8458\n",
      "Epoch 6/50\n",
      "1967/1967 [==============================] - 4s 2ms/step - loss: 0.3518 - accuracy: 0.8486 - val_loss: 0.3557 - val_accuracy: 0.8456\n",
      "Epoch 7/50\n",
      "1967/1967 [==============================] - 5s 2ms/step - loss: 0.3508 - accuracy: 0.8493 - val_loss: 0.3568 - val_accuracy: 0.8438\n",
      "Epoch 8/50\n",
      "1967/1967 [==============================] - 4s 2ms/step - loss: 0.3502 - accuracy: 0.8496 - val_loss: 0.3543 - val_accuracy: 0.8470\n",
      "Epoch 9/50\n",
      "1967/1967 [==============================] - 4s 2ms/step - loss: 0.3494 - accuracy: 0.8499 - val_loss: 0.3538 - val_accuracy: 0.8473\n",
      "Epoch 10/50\n",
      "1967/1967 [==============================] - 4s 2ms/step - loss: 0.3493 - accuracy: 0.8499 - val_loss: 0.3553 - val_accuracy: 0.8477\n",
      "Epoch 11/50\n",
      "1967/1967 [==============================] - 5s 2ms/step - loss: 0.3488 - accuracy: 0.8495 - val_loss: 0.3539 - val_accuracy: 0.8467\n",
      "Epoch 12/50\n",
      "1967/1967 [==============================] - 5s 2ms/step - loss: 0.3483 - accuracy: 0.8499 - val_loss: 0.3553 - val_accuracy: 0.8466\n",
      "Epoch 13/50\n",
      "1967/1967 [==============================] - 4s 2ms/step - loss: 0.3479 - accuracy: 0.8495 - val_loss: 0.3553 - val_accuracy: 0.8463\n",
      "Epoch 14/50\n",
      "1967/1967 [==============================] - 5s 3ms/step - loss: 0.3478 - accuracy: 0.8505 - val_loss: 0.3525 - val_accuracy: 0.8475\n",
      "Epoch 15/50\n",
      "1967/1967 [==============================] - 4s 2ms/step - loss: 0.3475 - accuracy: 0.8504 - val_loss: 0.3528 - val_accuracy: 0.8476\n",
      "Epoch 16/50\n",
      "1967/1967 [==============================] - 4s 2ms/step - loss: 0.3470 - accuracy: 0.8518 - val_loss: 0.3535 - val_accuracy: 0.8472\n",
      "Epoch 17/50\n",
      "1967/1967 [==============================] - 4s 2ms/step - loss: 0.3467 - accuracy: 0.8508 - val_loss: 0.3538 - val_accuracy: 0.8464\n",
      "Epoch 18/50\n",
      "1967/1967 [==============================] - 4s 2ms/step - loss: 0.3466 - accuracy: 0.8511 - val_loss: 0.3530 - val_accuracy: 0.8470\n",
      "Epoch 19/50\n",
      "1967/1967 [==============================] - 5s 3ms/step - loss: 0.3461 - accuracy: 0.8514 - val_loss: 0.3539 - val_accuracy: 0.8467\n",
      "Epoch 20/50\n",
      "1967/1967 [==============================] - 4s 2ms/step - loss: 0.3459 - accuracy: 0.8517 - val_loss: 0.3531 - val_accuracy: 0.8472\n",
      "Epoch 21/50\n",
      "1967/1967 [==============================] - 4s 2ms/step - loss: 0.3457 - accuracy: 0.8516 - val_loss: 0.3542 - val_accuracy: 0.8449\n",
      "Epoch 22/50\n",
      "1967/1967 [==============================] - 4s 2ms/step - loss: 0.3453 - accuracy: 0.8522 - val_loss: 0.3531 - val_accuracy: 0.8491\n",
      "Epoch 23/50\n",
      "1967/1967 [==============================] - 4s 2ms/step - loss: 0.3452 - accuracy: 0.8520 - val_loss: 0.3526 - val_accuracy: 0.8463\n",
      "Epoch 24/50\n",
      "1967/1967 [==============================] - 4s 2ms/step - loss: 0.3450 - accuracy: 0.8517 - val_loss: 0.3526 - val_accuracy: 0.8475\n",
      "Epoch 25/50\n",
      "1967/1967 [==============================] - 5s 2ms/step - loss: 0.3449 - accuracy: 0.8521 - val_loss: 0.3522 - val_accuracy: 0.8471\n",
      "Epoch 26/50\n",
      "1967/1967 [==============================] - 4s 2ms/step - loss: 0.3447 - accuracy: 0.8528 - val_loss: 0.3522 - val_accuracy: 0.8480\n",
      "Epoch 27/50\n",
      "1967/1967 [==============================] - 5s 2ms/step - loss: 0.3444 - accuracy: 0.8522 - val_loss: 0.3530 - val_accuracy: 0.8450\n",
      "Epoch 28/50\n",
      "1967/1967 [==============================] - 5s 2ms/step - loss: 0.3442 - accuracy: 0.8530 - val_loss: 0.3518 - val_accuracy: 0.8471\n",
      "Epoch 29/50\n",
      "1967/1967 [==============================] - 5s 3ms/step - loss: 0.3439 - accuracy: 0.8520 - val_loss: 0.3538 - val_accuracy: 0.8470\n",
      "Epoch 30/50\n",
      "1967/1967 [==============================] - 4s 2ms/step - loss: 0.3440 - accuracy: 0.8527 - val_loss: 0.3518 - val_accuracy: 0.8472\n",
      "Epoch 31/50\n",
      "1967/1967 [==============================] - 5s 2ms/step - loss: 0.3437 - accuracy: 0.8521 - val_loss: 0.3522 - val_accuracy: 0.8477\n",
      "Epoch 32/50\n",
      "1967/1967 [==============================] - 5s 2ms/step - loss: 0.3434 - accuracy: 0.8524 - val_loss: 0.3533 - val_accuracy: 0.8458\n",
      "Epoch 33/50\n",
      "1967/1967 [==============================] - 4s 2ms/step - loss: 0.3433 - accuracy: 0.8524 - val_loss: 0.3513 - val_accuracy: 0.8463\n",
      "Epoch 34/50\n",
      "1967/1967 [==============================] - 4s 2ms/step - loss: 0.3433 - accuracy: 0.8521 - val_loss: 0.3525 - val_accuracy: 0.8470\n",
      "Epoch 35/50\n",
      "1967/1967 [==============================] - 5s 2ms/step - loss: 0.3434 - accuracy: 0.8526 - val_loss: 0.3518 - val_accuracy: 0.8475\n",
      "Epoch 36/50\n",
      "1967/1967 [==============================] - 5s 2ms/step - loss: 0.3430 - accuracy: 0.8533 - val_loss: 0.3514 - val_accuracy: 0.8475\n",
      "Epoch 37/50\n",
      "1967/1967 [==============================] - 5s 3ms/step - loss: 0.3429 - accuracy: 0.8533 - val_loss: 0.3522 - val_accuracy: 0.8471\n",
      "Epoch 38/50\n",
      "1967/1967 [==============================] - 5s 2ms/step - loss: 0.3427 - accuracy: 0.8533 - val_loss: 0.3526 - val_accuracy: 0.8457\n",
      "Epoch 39/50\n",
      "1967/1967 [==============================] - 5s 2ms/step - loss: 0.3427 - accuracy: 0.8531 - val_loss: 0.3526 - val_accuracy: 0.8461\n",
      "Epoch 40/50\n",
      "1967/1967 [==============================] - 5s 2ms/step - loss: 0.3426 - accuracy: 0.8533 - val_loss: 0.3536 - val_accuracy: 0.8490\n",
      "Epoch 41/50\n",
      "1967/1967 [==============================] - 5s 3ms/step - loss: 0.3424 - accuracy: 0.8537 - val_loss: 0.3519 - val_accuracy: 0.8471\n",
      "Epoch 42/50\n",
      "1967/1967 [==============================] - 5s 2ms/step - loss: 0.3424 - accuracy: 0.8540 - val_loss: 0.3519 - val_accuracy: 0.8471\n",
      "Epoch 43/50\n",
      "1967/1967 [==============================] - 5s 2ms/step - loss: 0.3426 - accuracy: 0.8532 - val_loss: 0.3518 - val_accuracy: 0.8470\n",
      "Epoch 44/50\n",
      "1967/1967 [==============================] - 5s 2ms/step - loss: 0.3424 - accuracy: 0.8531 - val_loss: 0.3533 - val_accuracy: 0.8467\n",
      "Epoch 45/50\n",
      "1967/1967 [==============================] - 5s 2ms/step - loss: 0.3422 - accuracy: 0.8532 - val_loss: 0.3525 - val_accuracy: 0.8454\n",
      "Epoch 46/50\n",
      "1967/1967 [==============================] - 5s 2ms/step - loss: 0.3420 - accuracy: 0.8538 - val_loss: 0.3527 - val_accuracy: 0.8478\n",
      "Epoch 47/50\n",
      "1967/1967 [==============================] - 5s 2ms/step - loss: 0.3422 - accuracy: 0.8533 - val_loss: 0.3529 - val_accuracy: 0.8464\n",
      "Epoch 48/50\n",
      "1967/1967 [==============================] - 5s 2ms/step - loss: 0.3421 - accuracy: 0.8540 - val_loss: 0.3529 - val_accuracy: 0.8472\n",
      "Epoch 49/50\n",
      "1967/1967 [==============================] - 4s 2ms/step - loss: 0.3418 - accuracy: 0.8539 - val_loss: 0.3515 - val_accuracy: 0.8484\n",
      "Epoch 50/50\n",
      "1967/1967 [==============================] - 5s 3ms/step - loss: 0.3418 - accuracy: 0.8535 - val_loss: 0.3526 - val_accuracy: 0.8457\n",
      "Best epoch: 22\n",
      "Epoch 1/22\n",
      "1967/1967 [==============================] - 5s 2ms/step - loss: 0.3834 - accuracy: 0.8354 - val_loss: 0.3658 - val_accuracy: 0.8407\n",
      "Epoch 2/22\n",
      "1967/1967 [==============================] - 5s 3ms/step - loss: 0.3609 - accuracy: 0.8439 - val_loss: 0.3633 - val_accuracy: 0.8417\n",
      "Epoch 3/22\n",
      "1967/1967 [==============================] - 4s 2ms/step - loss: 0.3570 - accuracy: 0.8454 - val_loss: 0.3616 - val_accuracy: 0.8435\n",
      "Epoch 4/22\n",
      "1967/1967 [==============================] - 4s 2ms/step - loss: 0.3554 - accuracy: 0.8471 - val_loss: 0.3586 - val_accuracy: 0.8457\n",
      "Epoch 5/22\n",
      "1967/1967 [==============================] - 4s 2ms/step - loss: 0.3539 - accuracy: 0.8474 - val_loss: 0.3591 - val_accuracy: 0.8454\n",
      "Epoch 6/22\n",
      "1967/1967 [==============================] - 4s 2ms/step - loss: 0.3533 - accuracy: 0.8474 - val_loss: 0.3570 - val_accuracy: 0.8468\n",
      "Epoch 7/22\n",
      "1967/1967 [==============================] - 5s 3ms/step - loss: 0.3526 - accuracy: 0.8478 - val_loss: 0.3576 - val_accuracy: 0.8464\n",
      "Epoch 8/22\n",
      "1967/1967 [==============================] - 4s 2ms/step - loss: 0.3520 - accuracy: 0.8479 - val_loss: 0.3572 - val_accuracy: 0.8443\n",
      "Epoch 9/22\n",
      "1967/1967 [==============================] - 4s 2ms/step - loss: 0.3515 - accuracy: 0.8488 - val_loss: 0.3574 - val_accuracy: 0.8470\n",
      "Epoch 10/22\n",
      "1967/1967 [==============================] - 4s 2ms/step - loss: 0.3512 - accuracy: 0.8487 - val_loss: 0.3559 - val_accuracy: 0.8473\n",
      "Epoch 11/22\n",
      "1967/1967 [==============================] - 4s 2ms/step - loss: 0.3505 - accuracy: 0.8489 - val_loss: 0.3572 - val_accuracy: 0.8466\n",
      "Epoch 12/22\n",
      "1967/1967 [==============================] - 5s 2ms/step - loss: 0.3502 - accuracy: 0.8489 - val_loss: 0.3565 - val_accuracy: 0.8465\n",
      "Epoch 13/22\n",
      "1967/1967 [==============================] - 5s 2ms/step - loss: 0.3499 - accuracy: 0.8480 - val_loss: 0.3565 - val_accuracy: 0.8477\n",
      "Epoch 14/22\n",
      "1967/1967 [==============================] - 5s 3ms/step - loss: 0.3496 - accuracy: 0.8493 - val_loss: 0.3552 - val_accuracy: 0.8490\n",
      "Epoch 15/22\n",
      "1967/1967 [==============================] - 5s 2ms/step - loss: 0.3493 - accuracy: 0.8497 - val_loss: 0.3553 - val_accuracy: 0.8470\n",
      "Epoch 16/22\n",
      "1967/1967 [==============================] - 5s 2ms/step - loss: 0.3488 - accuracy: 0.8495 - val_loss: 0.3550 - val_accuracy: 0.8481\n",
      "Epoch 17/22\n",
      "1967/1967 [==============================] - 5s 2ms/step - loss: 0.3484 - accuracy: 0.8497 - val_loss: 0.3554 - val_accuracy: 0.8477\n",
      "Epoch 18/22\n",
      "1967/1967 [==============================] - 5s 2ms/step - loss: 0.3482 - accuracy: 0.8499 - val_loss: 0.3552 - val_accuracy: 0.8484\n",
      "Epoch 19/22\n",
      "1967/1967 [==============================] - 5s 3ms/step - loss: 0.3480 - accuracy: 0.8503 - val_loss: 0.3560 - val_accuracy: 0.8469\n",
      "Epoch 20/22\n",
      "1967/1967 [==============================] - 5s 3ms/step - loss: 0.3478 - accuracy: 0.8509 - val_loss: 0.3540 - val_accuracy: 0.8476\n",
      "Epoch 21/22\n",
      "1967/1967 [==============================] - 4s 2ms/step - loss: 0.3474 - accuracy: 0.8496 - val_loss: 0.3549 - val_accuracy: 0.8473\n",
      "Epoch 22/22\n",
      "1967/1967 [==============================] - 4s 2ms/step - loss: 0.3476 - accuracy: 0.8507 - val_loss: 0.3543 - val_accuracy: 0.8482\n"
     ]
    },
    {
     "data": {
      "text/plain": [
       "<keras.src.callbacks.History at 0x7ce5656e92d0>"
      ]
     },
     "execution_count": 45,
     "metadata": {},
     "output_type": "execute_result"
    }
   ],
   "source": [
    "# Build the model with the optimal hyperparameters and train it on the data for 50 epochs\n",
    "model = hp_tuner.hypermodel.build(best_hps)\n",
    "history = model.fit(X_train, y_train, epochs=50, validation_split=0.2)\n",
    "\n",
    "val_acc_per_epoch = history.history['val_accuracy']\n",
    "best_epoch = val_acc_per_epoch.index(max(val_acc_per_epoch)) + 1\n",
    "print('Best epoch: %d' % (best_epoch,))\n",
    "\n",
    "# reinstantiate hypermodel and train it\n",
    "hypermodel = hp_tuner.hypermodel.build(best_hps)\n",
    "\n",
    "# Retrain the model\n",
    "hypermodel.fit(X_train, y_train, epochs=best_epoch, validation_split=0.2)"
   ]
  },
  {
   "cell_type": "code",
   "execution_count": 56,
   "metadata": {
    "execution": {
     "iopub.execute_input": "2023-12-05T06:33:03.534469Z",
     "iopub.status.busy": "2023-12-05T06:33:03.533332Z",
     "iopub.status.idle": "2023-12-05T06:33:04.865872Z",
     "shell.execute_reply": "2023-12-05T06:33:04.864780Z",
     "shell.execute_reply.started": "2023-12-05T06:33:03.534427Z"
    }
   },
   "outputs": [
    {
     "name": "stdout",
     "output_type": "stream",
     "text": [
      "615/615 [==============================] - 1s 1ms/step\n"
     ]
    }
   ],
   "source": [
    "# updating predictions\n",
    "y_pred = hypermodel.predict(X_test)\n",
    "y_pred = (y_pred > 0.5)"
   ]
  },
  {
   "cell_type": "markdown",
   "metadata": {},
   "source": [
    "It's important to tune the hyperparameters of the neural network because we can get a better performance, with respect to both accuracy and speed, with different hidden layer sizes, activation functions, optimization algorithms, batch sizes, etc. This is because we can help the model generalize to unseen data and avoid overfitting or underfitting."
   ]
  },
  {
   "cell_type": "markdown",
   "metadata": {},
   "source": [
    "## Hypermodel Evaluation <a class=\"anchor\" id=\"10\"></a>\n",
    "    \n",
    "Looks like our initial model accuracy was around $84\\%$ and the best accuracy from hyperparameter tuning was around $85\\%$. Let's take a look at the confusion matrix:"
   ]
  },
  {
   "cell_type": "code",
   "execution_count": 57,
   "metadata": {
    "execution": {
     "iopub.execute_input": "2023-12-05T06:33:06.078037Z",
     "iopub.status.busy": "2023-12-05T06:33:06.077632Z",
     "iopub.status.idle": "2023-12-05T06:33:06.339817Z",
     "shell.execute_reply": "2023-12-05T06:33:06.338427Z",
     "shell.execute_reply.started": "2023-12-05T06:33:06.078007Z"
    }
   },
   "outputs": [
    {
     "data": {
      "text/plain": [
       "<Axes: >"
      ]
     },
     "execution_count": 57,
     "metadata": {},
     "output_type": "execute_result"
    },
    {
     "data": {
      "image/png": "[encoded data removed]",
      "text/plain": [
       "<Figure size 1200x800 with 2 Axes>"
      ]
     },
     "metadata": {},
     "output_type": "display_data"
    }
   ],
   "source": [
    "# confusion matrix\n",
    "cmap1 = sns.diverging_palette(260,-10,s=50,l=75,n=5, as_cmap=True)\n",
    "plt.subplots(figsize=(12,8))\n",
    "cf_matrix = confusion_matrix(y_test,y_pred)\n",
    "sns.heatmap(cf_matrix/np.sum(cf_matrix), cmap = cmap1, annot = True, annot_kws = {'size':15})"
   ]
  },
  {
   "cell_type": "markdown",
   "metadata": {},
   "source": [
    "Taking a look at recall, f1-score, accuracy, and related metrics:"
   ]
  },
  {
   "cell_type": "code",
   "execution_count": 58,
   "metadata": {
    "execution": {
     "iopub.execute_input": "2023-12-05T06:33:08.717910Z",
     "iopub.status.busy": "2023-12-05T06:33:08.717548Z",
     "iopub.status.idle": "2023-12-05T06:33:08.752079Z",
     "shell.execute_reply": "2023-12-05T06:33:08.750717Z",
     "shell.execute_reply.started": "2023-12-05T06:33:08.717884Z"
    }
   },
   "outputs": [
    {
     "name": "stdout",
     "output_type": "stream",
     "text": [
      "              precision    recall  f1-score   support\n",
      "\n",
      "           0       0.86      0.96      0.90     15343\n",
      "           1       0.74      0.44      0.55      4324\n",
      "\n",
      "    accuracy                           0.84     19667\n",
      "   macro avg       0.80      0.70      0.73     19667\n",
      "weighted avg       0.83      0.84      0.83     19667\n",
      "\n"
     ]
    }
   ],
   "source": [
    "print(classification_report(y_test,y_pred))"
   ]
  },
  {
   "cell_type": "markdown",
   "metadata": {},
   "source": [
    "## Report and Interpretation <a class=\"anchor\" id=\"11\"></a>\n",
    "\n",
    "To summarize, we used tensorflow to create a multilayer fully connected neural network model that predicted whether it would rain tomorrow in Australia after processing the dataset as needed. \n",
    "\n",
    "From above, we generally did well for predicting that it was not going to rain. That is, we had $74\\%$ true negatives, $4\\%$ false positives, $12\\%$ false negatives, and $10\\%$ true positives. We could have had a better rate for predicting if it would rain because we got it correct $55\\%$ of the time. However, getting the prediction for no rain right $90\\%$ of the time is not bad. So overall, we had good results.\n",
    "    \n",
    "Some challenges I faced was trying to use sklearn for building the model. It was difficult because it restrictive in how specific I could make the model to my needs. It lacked customizability compared to the tensorflow model, because I could change each layer individually (i.e. to include the hidden layer with the sigmoid activation function). Also, I ran into issues with my data processing when trying to process the data and then do the data split. In the future, I may want to try different orders of processing the data. \n",
    "    \n",
    "Also, the model could be improved by a better quality of feature analysis and engineering. I'm sure one could parse the Date differently, or use different features altogether to attempt to improve model accuracy. Also different hyperparameters, such as batch size or the type of solver, could be adjusted to find the best possible hyperparameters for a model. "
   ]
  }
 ],
 "metadata": {
  "kaggle": {
   "accelerator": "none",
   "dataSources": [
    {
     "datasetId": 6012,
     "sourceId": 1733506,
     "sourceType": "datasetVersion"
    }
   ],
   "dockerImageVersionId": 30587,
   "isGpuEnabled": false,
   "isInternetEnabled": false,
   "language": "python",
   "sourceType": "notebook"
  },
  "kernelspec": {
   "display_name": "Python 3 (ipykernel)",
   "language": "python",
   "name": "python3"
  },
  "language_info": {
   "codemirror_mode": {
    "name": "ipython",
    "version": 3
   },
   "file_extension": ".py",
   "mimetype": "text/x-python",
   "name": "python",
   "nbconvert_exporter": "python",
   "pygments_lexer": "ipython3",
   "version": "3.11.4"
  }
 },
 "nbformat": 4,
 "nbformat_minor": 4
}
