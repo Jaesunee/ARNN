{
  "cells": [
    {
      "cell_type": "markdown",
      "metadata": {
        "id": "xjZ30KDOjJV2"
      },
      "source": [
        "# AR HW 1: Predicting Rainfall in Australia Using Neural Networks\n",
        "\n",
        "## Table of Contents\n",
        "1. [The Problem Statement](#1)\n",
        "2. [Importing Libraries](#2)\n",
        "3. [Loading the Dataset](#3)\n",
        "4. [Exporatory Data Analysis](#4)\n",
        "- [Initial Overview](#4.1)\n",
        "5. [Target Variable Exploration (Univariate Analysis)](#5)\n",
        "- [Target Variable Summary](#5.1)\n",
        "6. [Feature Exploration, Cleaning, and Preprocessing (Bivariate Analysis)](#6)\n",
        "- [Categorical Features](#6.1)\n",
        "    - [Feature Engineering of Date Variable](#6.1.1)\n",
        "        - [Handling Missing Values](#6.1.2)\n",
        "        - [Encoding Variables](#6.1.3)\n",
        "    - [Numerical Features](#6.2)\n",
        "        - [Numerical Feature Summary](#6.2.1)\n",
        "        - [Handling Missing Values](#6.2.2)\n",
        "        - [Scaling Features](#6.2.3)\n",
        "        - [Handling Outliers](#6.2.4)\n",
        "7. [Feature Analysis (Multivariate Analysis)](#7)\n",
        "    - [Heatmap](#7.1)\n",
        "        - [Heatmap Summary](#7.1.1)\n",
        "    - [Splitting the Dataset](#7.2)\n",
        "8. [Deep Neural Network Concepts](#8)\n",
        "    - [Concept Overview](#8.1)\n",
        "    - [Model Evaluation and Analysis](#8.2)\n",
        "9. [Model Development](#9)\n",
        "    \n",
        "    - [Model Training and Validation](#9.2)\n",
        "10. [Hyperparameter Optimization](#10)\n",
        "11. [Model Evaluation and Analysis](#11)\n",
        "12. [Comparative Analysis and Reporting](#12)"
      ]
    },
    {
      "cell_type": "markdown",
      "metadata": {
        "id": "mlb7_ejjjJV5"
      },
      "source": [
        "## 1. The problem statement <a class=\"anchor\" id=\"1\"></a>\n",
        "\n",
        "In this notebook we will try to determine whether or not it will rain in Australia tomorrow. We will implement an artificial neural network to accomplish this.\n"
      ]
    },
    {
      "cell_type": "markdown",
      "metadata": {
        "id": "Uto-VByejJV6"
      },
      "source": [
        "## 2. Importing Libraries <a class=\"anchor\" id=\"2\"></a>\n",
        "\n",
        "Before building the model, we must import the necessary libraries."
      ]
    },
    {
      "cell_type": "code",
      "execution_count": 1,
      "metadata": {
        "_cell_guid": "b1076dfc-b9ad-4769-8c92-a6c4dae69d19",
        "_uuid": "8f2839f25d086af736a60e9eeb907d3b93b6e0e5",
        "execution": {
          "iopub.execute_input": "2023-12-07T09:36:08.175789Z",
          "iopub.status.busy": "2023-12-07T09:36:08.175317Z",
          "iopub.status.idle": "2023-12-07T09:36:23.436446Z",
          "shell.execute_reply": "2023-12-07T09:36:23.434260Z",
          "shell.execute_reply.started": "2023-12-07T09:36:08.175754Z"
        },
        "id": "YXsDE_uojJV6"
      },
      "outputs": [],
      "source": [
        "# This Python 3 environment comes with many helpful analytics libraries installed\n",
        "# It is defined by the kaggle/python Docker image: https://github.com/kaggle/docker-python\n",
        "# For example, here's several helpful packages to load\n",
        "\n",
        "import numpy as np # linear algebra\n",
        "import pandas as pd # data processing, CSV file I/O (e.g. pd.read_csv)\n",
        "\n",
        "# import libraries for preprocessing, scaling, etc.\n",
        "from sklearn import preprocessing\n",
        "from sklearn.preprocessing import StandardScaler\n",
        "from sklearn.preprocessing import LabelEncoder\n",
        "from sklearn.model_selection import train_test_split, GridSearchCV\n",
        "from sklearn.metrics import precision_score, recall_score, confusion_matrix, classification_report, accuracy_score, f1_score\n",
        "\n",
        "# import model\n",
        "import torch\n",
        "import torch.nn as nn\n",
        "import torch.optim as optim\n",
        "from torch.utils.data import Dataset, TensorDataset, DataLoader\n",
        "import torch.utils.data as data\n",
        "import torch.nn.functional as func\n",
        "\n",
        "# import tensorflow as tf\n",
        "# from tensorflow.keras.layers import Dense,Dropout\n",
        "# from tensorflow.keras.models import Sequential\n",
        "# from tensorflow.keras.callbacks import EarlyStopping\n",
        "# from tensorflow.keras.optimizers import Adam\n",
        "\n",
        "# import libraries for plotting\n",
        "import matplotlib.pyplot as plt\n",
        "import seaborn as sns\n",
        "%matplotlib inline\n",
        "\n",
        "# Input data files are available in the read-only \"../input/\" directory\n",
        "# For example, running this (by clicking run or pressing Shift+Enter) will list all files under the input directory\n",
        "\n",
        "import os\n",
        "for dirname, _, filenames in os.walk('/kaggle/input'):\n",
        "    for filename in filenames:\n",
        "        print(os.path.join(dirname, filename))\n",
        "\n",
        "# You can write up to 20GB to the current directory (/kaggle/working/) that gets preserved as output when you create a version using \"Save & Run All\"\n",
        "# You can also write temporary files to /kaggle/temp/, but they won't be saved outside of the current session"
      ]
    },
    {
      "cell_type": "code",
      "execution_count": 2,
      "metadata": {
        "execution": {
          "iopub.execute_input": "2023-12-07T09:36:23.440538Z",
          "iopub.status.busy": "2023-12-07T09:36:23.439533Z",
          "iopub.status.idle": "2023-12-07T09:36:23.448422Z",
          "shell.execute_reply": "2023-12-07T09:36:23.447060Z",
          "shell.execute_reply.started": "2023-12-07T09:36:23.440463Z"
        },
        "id": "D2j8WNsOjJV8"
      },
      "outputs": [],
      "source": [
        "# mute warnings\n",
        "import warnings\n",
        "\n",
        "warnings.filterwarnings('ignore')"
      ]
    },
    {
      "cell_type": "markdown",
      "metadata": {
        "id": "254Ec8J1jJV9"
      },
      "source": [
        "## 3. Loading the Dataset <a class=\"anchor\" id=\"4\"></a>\n",
        "\n",
        "Now loading the Rain in Australia dataset using Pandas (dataframe)."
      ]
    },
    {
      "cell_type": "code",
      "execution_count": 3,
      "metadata": {
        "execution": {
          "iopub.execute_input": "2023-12-07T09:36:23.451006Z",
          "iopub.status.busy": "2023-12-07T09:36:23.450499Z",
          "iopub.status.idle": "2023-12-07T09:36:24.183156Z",
          "shell.execute_reply": "2023-12-07T09:36:24.182099Z",
          "shell.execute_reply.started": "2023-12-07T09:36:23.450971Z"
        },
        "id": "yBr7o2SPjJV-"
      },
      "outputs": [],
      "source": [
        "data = './weatherAUS.csv'\n",
        "\n",
        "df = pd.read_csv(data)"
      ]
    },
    {
      "cell_type": "markdown",
      "metadata": {
        "id": "U0gj7zuSjJV-"
      },
      "source": [
        "## 4. Exploratory Data Analysis <a class=\"anchor\" id=\"4\"></a>\n",
        "\n",
        "Let us take a look at the imported data. First we can view the dimensions of the data and preview the first 5 observations of the data."
      ]
    },
    {
      "cell_type": "code",
      "execution_count": 4,
      "metadata": {
        "execution": {
          "iopub.execute_input": "2023-12-07T09:36:24.186679Z",
          "iopub.status.busy": "2023-12-07T09:36:24.186278Z",
          "iopub.status.idle": "2023-12-07T09:36:24.239488Z",
          "shell.execute_reply": "2023-12-07T09:36:24.238331Z",
          "shell.execute_reply.started": "2023-12-07T09:36:24.186645Z"
        },
        "colab": {
          "base_uri": "https://localhost:8080/",
          "height": 359
        },
        "id": "Z6ZjV45SjJV_",
        "outputId": "a1df95cd-3e5b-4514-aafe-c2922ae2c06d"
      },
      "outputs": [
        {
          "output_type": "stream",
          "name": "stdout",
          "text": [
            "(145460, 23)\n"
          ]
        },
        {
          "output_type": "execute_result",
          "data": {
            "text/plain": [
              "         Date Location  MinTemp  MaxTemp  Rainfall  Evaporation  Sunshine  \\\n",
              "0  2008-12-01   Albury     13.4     22.9       0.6          NaN       NaN   \n",
              "1  2008-12-02   Albury      7.4     25.1       0.0          NaN       NaN   \n",
              "2  2008-12-03   Albury     12.9     25.7       0.0          NaN       NaN   \n",
              "3  2008-12-04   Albury      9.2     28.0       0.0          NaN       NaN   \n",
              "4  2008-12-05   Albury     17.5     32.3       1.0          NaN       NaN   \n",
              "\n",
              "  WindGustDir  WindGustSpeed WindDir9am  ... Humidity9am  Humidity3pm  \\\n",
              "0           W           44.0          W  ...        71.0         22.0   \n",
              "1         WNW           44.0        NNW  ...        44.0         25.0   \n",
              "2         WSW           46.0          W  ...        38.0         30.0   \n",
              "3          NE           24.0         SE  ...        45.0         16.0   \n",
              "4           W           41.0        ENE  ...        82.0         33.0   \n",
              "\n",
              "   Pressure9am  Pressure3pm  Cloud9am  Cloud3pm  Temp9am  Temp3pm  RainToday  \\\n",
              "0       1007.7       1007.1       8.0       NaN     16.9     21.8         No   \n",
              "1       1010.6       1007.8       NaN       NaN     17.2     24.3         No   \n",
              "2       1007.6       1008.7       NaN       2.0     21.0     23.2         No   \n",
              "3       1017.6       1012.8       NaN       NaN     18.1     26.5         No   \n",
              "4       1010.8       1006.0       7.0       8.0     17.8     29.7         No   \n",
              "\n",
              "   RainTomorrow  \n",
              "0            No  \n",
              "1            No  \n",
              "2            No  \n",
              "3            No  \n",
              "4            No  \n",
              "\n",
              "[5 rows x 23 columns]"
            ],
            "text/html": [
              "\n",
              "  <div id=\"df-d136d351-ffc5-42c6-97ec-f074c492ea0b\" class=\"colab-df-container\">\n",
              "    <div>\n",
              "<style scoped>\n",
              "    .dataframe tbody tr th:only-of-type {\n",
              "        vertical-align: middle;\n",
              "    }\n",
              "\n",
              "    .dataframe tbody tr th {\n",
              "        vertical-align: top;\n",
              "    }\n",
              "\n",
              "    .dataframe thead th {\n",
              "        text-align: right;\n",
              "    }\n",
              "</style>\n",
              "<table border=\"1\" class=\"dataframe\">\n",
              "  <thead>\n",
              "    <tr style=\"text-align: right;\">\n",
              "      <th></th>\n",
              "      <th>Date</th>\n",
              "      <th>Location</th>\n",
              "      <th>MinTemp</th>\n",
              "      <th>MaxTemp</th>\n",
              "      <th>Rainfall</th>\n",
              "      <th>Evaporation</th>\n",
              "      <th>Sunshine</th>\n",
              "      <th>WindGustDir</th>\n",
              "      <th>WindGustSpeed</th>\n",
              "      <th>WindDir9am</th>\n",
              "      <th>...</th>\n",
              "      <th>Humidity9am</th>\n",
              "      <th>Humidity3pm</th>\n",
              "      <th>Pressure9am</th>\n",
              "      <th>Pressure3pm</th>\n",
              "      <th>Cloud9am</th>\n",
              "      <th>Cloud3pm</th>\n",
              "      <th>Temp9am</th>\n",
              "      <th>Temp3pm</th>\n",
              "      <th>RainToday</th>\n",
              "      <th>RainTomorrow</th>\n",
              "    </tr>\n",
              "  </thead>\n",
              "  <tbody>\n",
              "    <tr>\n",
              "      <th>0</th>\n",
              "      <td>2008-12-01</td>\n",
              "      <td>Albury</td>\n",
              "      <td>13.4</td>\n",
              "      <td>22.9</td>\n",
              "      <td>0.6</td>\n",
              "      <td>NaN</td>\n",
              "      <td>NaN</td>\n",
              "      <td>W</td>\n",
              "      <td>44.0</td>\n",
              "      <td>W</td>\n",
              "      <td>...</td>\n",
              "      <td>71.0</td>\n",
              "      <td>22.0</td>\n",
              "      <td>1007.7</td>\n",
              "      <td>1007.1</td>\n",
              "      <td>8.0</td>\n",
              "      <td>NaN</td>\n",
              "      <td>16.9</td>\n",
              "      <td>21.8</td>\n",
              "      <td>No</td>\n",
              "      <td>No</td>\n",
              "    </tr>\n",
              "    <tr>\n",
              "      <th>1</th>\n",
              "      <td>2008-12-02</td>\n",
              "      <td>Albury</td>\n",
              "      <td>7.4</td>\n",
              "      <td>25.1</td>\n",
              "      <td>0.0</td>\n",
              "      <td>NaN</td>\n",
              "      <td>NaN</td>\n",
              "      <td>WNW</td>\n",
              "      <td>44.0</td>\n",
              "      <td>NNW</td>\n",
              "      <td>...</td>\n",
              "      <td>44.0</td>\n",
              "      <td>25.0</td>\n",
              "      <td>1010.6</td>\n",
              "      <td>1007.8</td>\n",
              "      <td>NaN</td>\n",
              "      <td>NaN</td>\n",
              "      <td>17.2</td>\n",
              "      <td>24.3</td>\n",
              "      <td>No</td>\n",
              "      <td>No</td>\n",
              "    </tr>\n",
              "    <tr>\n",
              "      <th>2</th>\n",
              "      <td>2008-12-03</td>\n",
              "      <td>Albury</td>\n",
              "      <td>12.9</td>\n",
              "      <td>25.7</td>\n",
              "      <td>0.0</td>\n",
              "      <td>NaN</td>\n",
              "      <td>NaN</td>\n",
              "      <td>WSW</td>\n",
              "      <td>46.0</td>\n",
              "      <td>W</td>\n",
              "      <td>...</td>\n",
              "      <td>38.0</td>\n",
              "      <td>30.0</td>\n",
              "      <td>1007.6</td>\n",
              "      <td>1008.7</td>\n",
              "      <td>NaN</td>\n",
              "      <td>2.0</td>\n",
              "      <td>21.0</td>\n",
              "      <td>23.2</td>\n",
              "      <td>No</td>\n",
              "      <td>No</td>\n",
              "    </tr>\n",
              "    <tr>\n",
              "      <th>3</th>\n",
              "      <td>2008-12-04</td>\n",
              "      <td>Albury</td>\n",
              "      <td>9.2</td>\n",
              "      <td>28.0</td>\n",
              "      <td>0.0</td>\n",
              "      <td>NaN</td>\n",
              "      <td>NaN</td>\n",
              "      <td>NE</td>\n",
              "      <td>24.0</td>\n",
              "      <td>SE</td>\n",
              "      <td>...</td>\n",
              "      <td>45.0</td>\n",
              "      <td>16.0</td>\n",
              "      <td>1017.6</td>\n",
              "      <td>1012.8</td>\n",
              "      <td>NaN</td>\n",
              "      <td>NaN</td>\n",
              "      <td>18.1</td>\n",
              "      <td>26.5</td>\n",
              "      <td>No</td>\n",
              "      <td>No</td>\n",
              "    </tr>\n",
              "    <tr>\n",
              "      <th>4</th>\n",
              "      <td>2008-12-05</td>\n",
              "      <td>Albury</td>\n",
              "      <td>17.5</td>\n",
              "      <td>32.3</td>\n",
              "      <td>1.0</td>\n",
              "      <td>NaN</td>\n",
              "      <td>NaN</td>\n",
              "      <td>W</td>\n",
              "      <td>41.0</td>\n",
              "      <td>ENE</td>\n",
              "      <td>...</td>\n",
              "      <td>82.0</td>\n",
              "      <td>33.0</td>\n",
              "      <td>1010.8</td>\n",
              "      <td>1006.0</td>\n",
              "      <td>7.0</td>\n",
              "      <td>8.0</td>\n",
              "      <td>17.8</td>\n",
              "      <td>29.7</td>\n",
              "      <td>No</td>\n",
              "      <td>No</td>\n",
              "    </tr>\n",
              "  </tbody>\n",
              "</table>\n",
              "<p>5 rows × 23 columns</p>\n",
              "</div>\n",
              "    <div class=\"colab-df-buttons\">\n",
              "\n",
              "  <div class=\"colab-df-container\">\n",
              "    <button class=\"colab-df-convert\" onclick=\"convertToInteractive('df-d136d351-ffc5-42c6-97ec-f074c492ea0b')\"\n",
              "            title=\"Convert this dataframe to an interactive table.\"\n",
              "            style=\"display:none;\">\n",
              "\n",
              "  <svg xmlns=\"http://www.w3.org/2000/svg\" height=\"24px\" viewBox=\"0 -960 960 960\">\n",
              "    <path d=\"M120-120v-720h720v720H120Zm60-500h600v-160H180v160Zm220 220h160v-160H400v160Zm0 220h160v-160H400v160ZM180-400h160v-160H180v160Zm440 0h160v-160H620v160ZM180-180h160v-160H180v160Zm440 0h160v-160H620v160Z\"/>\n",
              "  </svg>\n",
              "    </button>\n",
              "\n",
              "  <style>\n",
              "    .colab-df-container {\n",
              "      display:flex;\n",
              "      gap: 12px;\n",
              "    }\n",
              "\n",
              "    .colab-df-convert {\n",
              "      background-color: #E8F0FE;\n",
              "      border: none;\n",
              "      border-radius: 50%;\n",
              "      cursor: pointer;\n",
              "      display: none;\n",
              "      fill: #1967D2;\n",
              "      height: 32px;\n",
              "      padding: 0 0 0 0;\n",
              "      width: 32px;\n",
              "    }\n",
              "\n",
              "    .colab-df-convert:hover {\n",
              "      background-color: #E2EBFA;\n",
              "      box-shadow: 0px 1px 2px rgba(60, 64, 67, 0.3), 0px 1px 3px 1px rgba(60, 64, 67, 0.15);\n",
              "      fill: #174EA6;\n",
              "    }\n",
              "\n",
              "    .colab-df-buttons div {\n",
              "      margin-bottom: 4px;\n",
              "    }\n",
              "\n",
              "    [theme=dark] .colab-df-convert {\n",
              "      background-color: #3B4455;\n",
              "      fill: #D2E3FC;\n",
              "    }\n",
              "\n",
              "    [theme=dark] .colab-df-convert:hover {\n",
              "      background-color: #434B5C;\n",
              "      box-shadow: 0px 1px 3px 1px rgba(0, 0, 0, 0.15);\n",
              "      filter: drop-shadow(0px 1px 2px rgba(0, 0, 0, 0.3));\n",
              "      fill: #FFFFFF;\n",
              "    }\n",
              "  </style>\n",
              "\n",
              "    <script>\n",
              "      const buttonEl =\n",
              "        document.querySelector('#df-d136d351-ffc5-42c6-97ec-f074c492ea0b button.colab-df-convert');\n",
              "      buttonEl.style.display =\n",
              "        google.colab.kernel.accessAllowed ? 'block' : 'none';\n",
              "\n",
              "      async function convertToInteractive(key) {\n",
              "        const element = document.querySelector('#df-d136d351-ffc5-42c6-97ec-f074c492ea0b');\n",
              "        const dataTable =\n",
              "          await google.colab.kernel.invokeFunction('convertToInteractive',\n",
              "                                                    [key], {});\n",
              "        if (!dataTable) return;\n",
              "\n",
              "        const docLinkHtml = 'Like what you see? Visit the ' +\n",
              "          '<a target=\"_blank\" href=https://colab.research.google.com/notebooks/data_table.ipynb>data table notebook</a>'\n",
              "          + ' to learn more about interactive tables.';\n",
              "        element.innerHTML = '';\n",
              "        dataTable['output_type'] = 'display_data';\n",
              "        await google.colab.output.renderOutput(dataTable, element);\n",
              "        const docLink = document.createElement('div');\n",
              "        docLink.innerHTML = docLinkHtml;\n",
              "        element.appendChild(docLink);\n",
              "      }\n",
              "    </script>\n",
              "  </div>\n",
              "\n",
              "\n",
              "<div id=\"df-c4e24afb-9253-4246-9a26-e0ac37571b8c\">\n",
              "  <button class=\"colab-df-quickchart\" onclick=\"quickchart('df-c4e24afb-9253-4246-9a26-e0ac37571b8c')\"\n",
              "            title=\"Suggest charts\"\n",
              "            style=\"display:none;\">\n",
              "\n",
              "<svg xmlns=\"http://www.w3.org/2000/svg\" height=\"24px\"viewBox=\"0 0 24 24\"\n",
              "     width=\"24px\">\n",
              "    <g>\n",
              "        <path d=\"M19 3H5c-1.1 0-2 .9-2 2v14c0 1.1.9 2 2 2h14c1.1 0 2-.9 2-2V5c0-1.1-.9-2-2-2zM9 17H7v-7h2v7zm4 0h-2V7h2v10zm4 0h-2v-4h2v4z\"/>\n",
              "    </g>\n",
              "</svg>\n",
              "  </button>\n",
              "\n",
              "<style>\n",
              "  .colab-df-quickchart {\n",
              "      --bg-color: #E8F0FE;\n",
              "      --fill-color: #1967D2;\n",
              "      --hover-bg-color: #E2EBFA;\n",
              "      --hover-fill-color: #174EA6;\n",
              "      --disabled-fill-color: #AAA;\n",
              "      --disabled-bg-color: #DDD;\n",
              "  }\n",
              "\n",
              "  [theme=dark] .colab-df-quickchart {\n",
              "      --bg-color: #3B4455;\n",
              "      --fill-color: #D2E3FC;\n",
              "      --hover-bg-color: #434B5C;\n",
              "      --hover-fill-color: #FFFFFF;\n",
              "      --disabled-bg-color: #3B4455;\n",
              "      --disabled-fill-color: #666;\n",
              "  }\n",
              "\n",
              "  .colab-df-quickchart {\n",
              "    background-color: var(--bg-color);\n",
              "    border: none;\n",
              "    border-radius: 50%;\n",
              "    cursor: pointer;\n",
              "    display: none;\n",
              "    fill: var(--fill-color);\n",
              "    height: 32px;\n",
              "    padding: 0;\n",
              "    width: 32px;\n",
              "  }\n",
              "\n",
              "  .colab-df-quickchart:hover {\n",
              "    background-color: var(--hover-bg-color);\n",
              "    box-shadow: 0 1px 2px rgba(60, 64, 67, 0.3), 0 1px 3px 1px rgba(60, 64, 67, 0.15);\n",
              "    fill: var(--button-hover-fill-color);\n",
              "  }\n",
              "\n",
              "  .colab-df-quickchart-complete:disabled,\n",
              "  .colab-df-quickchart-complete:disabled:hover {\n",
              "    background-color: var(--disabled-bg-color);\n",
              "    fill: var(--disabled-fill-color);\n",
              "    box-shadow: none;\n",
              "  }\n",
              "\n",
              "  .colab-df-spinner {\n",
              "    border: 2px solid var(--fill-color);\n",
              "    border-color: transparent;\n",
              "    border-bottom-color: var(--fill-color);\n",
              "    animation:\n",
              "      spin 1s steps(1) infinite;\n",
              "  }\n",
              "\n",
              "  @keyframes spin {\n",
              "    0% {\n",
              "      border-color: transparent;\n",
              "      border-bottom-color: var(--fill-color);\n",
              "      border-left-color: var(--fill-color);\n",
              "    }\n",
              "    20% {\n",
              "      border-color: transparent;\n",
              "      border-left-color: var(--fill-color);\n",
              "      border-top-color: var(--fill-color);\n",
              "    }\n",
              "    30% {\n",
              "      border-color: transparent;\n",
              "      border-left-color: var(--fill-color);\n",
              "      border-top-color: var(--fill-color);\n",
              "      border-right-color: var(--fill-color);\n",
              "    }\n",
              "    40% {\n",
              "      border-color: transparent;\n",
              "      border-right-color: var(--fill-color);\n",
              "      border-top-color: var(--fill-color);\n",
              "    }\n",
              "    60% {\n",
              "      border-color: transparent;\n",
              "      border-right-color: var(--fill-color);\n",
              "    }\n",
              "    80% {\n",
              "      border-color: transparent;\n",
              "      border-right-color: var(--fill-color);\n",
              "      border-bottom-color: var(--fill-color);\n",
              "    }\n",
              "    90% {\n",
              "      border-color: transparent;\n",
              "      border-bottom-color: var(--fill-color);\n",
              "    }\n",
              "  }\n",
              "</style>\n",
              "\n",
              "  <script>\n",
              "    async function quickchart(key) {\n",
              "      const quickchartButtonEl =\n",
              "        document.querySelector('#' + key + ' button');\n",
              "      quickchartButtonEl.disabled = true;  // To prevent multiple clicks.\n",
              "      quickchartButtonEl.classList.add('colab-df-spinner');\n",
              "      try {\n",
              "        const charts = await google.colab.kernel.invokeFunction(\n",
              "            'suggestCharts', [key], {});\n",
              "      } catch (error) {\n",
              "        console.error('Error during call to suggestCharts:', error);\n",
              "      }\n",
              "      quickchartButtonEl.classList.remove('colab-df-spinner');\n",
              "      quickchartButtonEl.classList.add('colab-df-quickchart-complete');\n",
              "    }\n",
              "    (() => {\n",
              "      let quickchartButtonEl =\n",
              "        document.querySelector('#df-c4e24afb-9253-4246-9a26-e0ac37571b8c button');\n",
              "      quickchartButtonEl.style.display =\n",
              "        google.colab.kernel.accessAllowed ? 'block' : 'none';\n",
              "    })();\n",
              "  </script>\n",
              "</div>\n",
              "    </div>\n",
              "  </div>\n"
            ]
          },
          "metadata": {},
          "execution_count": 4
        }
      ],
      "source": [
        "print(df.shape)\n",
        "df.head()"
      ]
    },
    {
      "cell_type": "markdown",
      "metadata": {
        "id": "tVCE3NbMjJWB"
      },
      "source": [
        "Looks like we have $145,460$ (rows) and $23$ features (columns). Let us take a look at the list of features."
      ]
    },
    {
      "cell_type": "code",
      "execution_count": 5,
      "metadata": {
        "execution": {
          "iopub.execute_input": "2023-12-07T09:36:24.241727Z",
          "iopub.status.busy": "2023-12-07T09:36:24.241346Z",
          "iopub.status.idle": "2023-12-07T09:36:24.248438Z",
          "shell.execute_reply": "2023-12-07T09:36:24.247129Z",
          "shell.execute_reply.started": "2023-12-07T09:36:24.241695Z"
        },
        "colab": {
          "base_uri": "https://localhost:8080/"
        },
        "id": "csNTAstmjJWB",
        "outputId": "1fa24e31-f9de-426c-a46e-191d6511738e"
      },
      "outputs": [
        {
          "output_type": "execute_result",
          "data": {
            "text/plain": [
              "Index(['Date', 'Location', 'MinTemp', 'MaxTemp', 'Rainfall', 'Evaporation',\n",
              "       'Sunshine', 'WindGustDir', 'WindGustSpeed', 'WindDir9am', 'WindDir3pm',\n",
              "       'WindSpeed9am', 'WindSpeed3pm', 'Humidity9am', 'Humidity3pm',\n",
              "       'Pressure9am', 'Pressure3pm', 'Cloud9am', 'Cloud3pm', 'Temp9am',\n",
              "       'Temp3pm', 'RainToday', 'RainTomorrow'],\n",
              "      dtype='object')"
            ]
          },
          "metadata": {},
          "execution_count": 5
        }
      ],
      "source": [
        "column_names = df.columns\n",
        "column_names"
      ]
    },
    {
      "cell_type": "markdown",
      "metadata": {
        "id": "OYSobu0jjJWC"
      },
      "source": [
        "Viewing a summary of the data:"
      ]
    },
    {
      "cell_type": "code",
      "execution_count": 6,
      "metadata": {
        "execution": {
          "iopub.execute_input": "2023-12-07T09:36:24.250972Z",
          "iopub.status.busy": "2023-12-07T09:36:24.249970Z",
          "iopub.status.idle": "2023-12-07T09:36:24.309102Z",
          "shell.execute_reply": "2023-12-07T09:36:24.307858Z",
          "shell.execute_reply.started": "2023-12-07T09:36:24.250933Z"
        },
        "colab": {
          "base_uri": "https://localhost:8080/"
        },
        "id": "SjlC39z4jJWC",
        "outputId": "9a71acfe-ff94-49b2-be08-6a2300e1a48d"
      },
      "outputs": [
        {
          "output_type": "execute_result",
          "data": {
            "text/plain": [
              "<bound method DataFrame.info of               Date Location  MinTemp  MaxTemp  Rainfall  Evaporation  \\\n",
              "0       2008-12-01   Albury     13.4     22.9       0.6          NaN   \n",
              "1       2008-12-02   Albury      7.4     25.1       0.0          NaN   \n",
              "2       2008-12-03   Albury     12.9     25.7       0.0          NaN   \n",
              "3       2008-12-04   Albury      9.2     28.0       0.0          NaN   \n",
              "4       2008-12-05   Albury     17.5     32.3       1.0          NaN   \n",
              "...            ...      ...      ...      ...       ...          ...   \n",
              "145455  2017-06-21    Uluru      2.8     23.4       0.0          NaN   \n",
              "145456  2017-06-22    Uluru      3.6     25.3       0.0          NaN   \n",
              "145457  2017-06-23    Uluru      5.4     26.9       0.0          NaN   \n",
              "145458  2017-06-24    Uluru      7.8     27.0       0.0          NaN   \n",
              "145459  2017-06-25    Uluru     14.9      NaN       0.0          NaN   \n",
              "\n",
              "        Sunshine WindGustDir  WindGustSpeed WindDir9am  ... Humidity9am  \\\n",
              "0            NaN           W           44.0          W  ...        71.0   \n",
              "1            NaN         WNW           44.0        NNW  ...        44.0   \n",
              "2            NaN         WSW           46.0          W  ...        38.0   \n",
              "3            NaN          NE           24.0         SE  ...        45.0   \n",
              "4            NaN           W           41.0        ENE  ...        82.0   \n",
              "...          ...         ...            ...        ...  ...         ...   \n",
              "145455       NaN           E           31.0         SE  ...        51.0   \n",
              "145456       NaN         NNW           22.0         SE  ...        56.0   \n",
              "145457       NaN           N           37.0         SE  ...        53.0   \n",
              "145458       NaN          SE           28.0        SSE  ...        51.0   \n",
              "145459       NaN         NaN            NaN        ESE  ...        62.0   \n",
              "\n",
              "        Humidity3pm  Pressure9am  Pressure3pm  Cloud9am  Cloud3pm  Temp9am  \\\n",
              "0              22.0       1007.7       1007.1       8.0       NaN     16.9   \n",
              "1              25.0       1010.6       1007.8       NaN       NaN     17.2   \n",
              "2              30.0       1007.6       1008.7       NaN       2.0     21.0   \n",
              "3              16.0       1017.6       1012.8       NaN       NaN     18.1   \n",
              "4              33.0       1010.8       1006.0       7.0       8.0     17.8   \n",
              "...             ...          ...          ...       ...       ...      ...   \n",
              "145455         24.0       1024.6       1020.3       NaN       NaN     10.1   \n",
              "145456         21.0       1023.5       1019.1       NaN       NaN     10.9   \n",
              "145457         24.0       1021.0       1016.8       NaN       NaN     12.5   \n",
              "145458         24.0       1019.4       1016.5       3.0       2.0     15.1   \n",
              "145459         36.0       1020.2       1017.9       8.0       8.0     15.0   \n",
              "\n",
              "        Temp3pm  RainToday  RainTomorrow  \n",
              "0          21.8         No            No  \n",
              "1          24.3         No            No  \n",
              "2          23.2         No            No  \n",
              "3          26.5         No            No  \n",
              "4          29.7         No            No  \n",
              "...         ...        ...           ...  \n",
              "145455     22.4         No            No  \n",
              "145456     24.5         No            No  \n",
              "145457     26.1         No            No  \n",
              "145458     26.0         No            No  \n",
              "145459     20.9         No           NaN  \n",
              "\n",
              "[145460 rows x 23 columns]>"
            ]
          },
          "metadata": {},
          "execution_count": 6
        }
      ],
      "source": [
        "df.info"
      ]
    },
    {
      "cell_type": "markdown",
      "metadata": {
        "id": "vlsQ2a-IjJWD"
      },
      "source": [
        "Viewing statistical properties of the dataset:"
      ]
    },
    {
      "cell_type": "code",
      "execution_count": 7,
      "metadata": {
        "execution": {
          "iopub.execute_input": "2023-12-07T09:36:24.312405Z",
          "iopub.status.busy": "2023-12-07T09:36:24.311978Z",
          "iopub.status.idle": "2023-12-07T09:36:24.495995Z",
          "shell.execute_reply": "2023-12-07T09:36:24.494671Z",
          "shell.execute_reply.started": "2023-12-07T09:36:24.312372Z"
        },
        "colab": {
          "base_uri": "https://localhost:8080/",
          "height": 320
        },
        "id": "Of2eYpdPjJWD",
        "outputId": "d15fe4da-c835-4dad-dac5-2d521082ccb6"
      },
      "outputs": [
        {
          "output_type": "execute_result",
          "data": {
            "text/plain": [
              "             MinTemp        MaxTemp       Rainfall   Evaporation  \\\n",
              "count  143975.000000  144199.000000  142199.000000  82670.000000   \n",
              "mean       12.194034      23.221348       2.360918      5.468232   \n",
              "std         6.398495       7.119049       8.478060      4.193704   \n",
              "min        -8.500000      -4.800000       0.000000      0.000000   \n",
              "25%         7.600000      17.900000       0.000000      2.600000   \n",
              "50%        12.000000      22.600000       0.000000      4.800000   \n",
              "75%        16.900000      28.200000       0.800000      7.400000   \n",
              "max        33.900000      48.100000     371.000000    145.000000   \n",
              "\n",
              "           Sunshine  WindGustSpeed   WindSpeed9am   WindSpeed3pm  \\\n",
              "count  75625.000000  135197.000000  143693.000000  142398.000000   \n",
              "mean       7.611178      40.035230      14.043426      18.662657   \n",
              "std        3.785483      13.607062       8.915375       8.809800   \n",
              "min        0.000000       6.000000       0.000000       0.000000   \n",
              "25%        4.800000      31.000000       7.000000      13.000000   \n",
              "50%        8.400000      39.000000      13.000000      19.000000   \n",
              "75%       10.600000      48.000000      19.000000      24.000000   \n",
              "max       14.500000     135.000000     130.000000      87.000000   \n",
              "\n",
              "         Humidity9am    Humidity3pm   Pressure9am    Pressure3pm  \\\n",
              "count  142806.000000  140953.000000  130395.00000  130432.000000   \n",
              "mean       68.880831      51.539116    1017.64994    1015.255889   \n",
              "std        19.029164      20.795902       7.10653       7.037414   \n",
              "min         0.000000       0.000000     980.50000     977.100000   \n",
              "25%        57.000000      37.000000    1012.90000    1010.400000   \n",
              "50%        70.000000      52.000000    1017.60000    1015.200000   \n",
              "75%        83.000000      66.000000    1022.40000    1020.000000   \n",
              "max       100.000000     100.000000    1041.00000    1039.600000   \n",
              "\n",
              "           Cloud9am      Cloud3pm        Temp9am       Temp3pm  \n",
              "count  89572.000000  86102.000000  143693.000000  141851.00000  \n",
              "mean       4.447461      4.509930      16.990631      21.68339  \n",
              "std        2.887159      2.720357       6.488753       6.93665  \n",
              "min        0.000000      0.000000      -7.200000      -5.40000  \n",
              "25%        1.000000      2.000000      12.300000      16.60000  \n",
              "50%        5.000000      5.000000      16.700000      21.10000  \n",
              "75%        7.000000      7.000000      21.600000      26.40000  \n",
              "max        9.000000      9.000000      40.200000      46.70000  "
            ],
            "text/html": [
              "\n",
              "  <div id=\"df-2c95d991-fa38-4f70-9e1e-cb216ea55764\" class=\"colab-df-container\">\n",
              "    <div>\n",
              "<style scoped>\n",
              "    .dataframe tbody tr th:only-of-type {\n",
              "        vertical-align: middle;\n",
              "    }\n",
              "\n",
              "    .dataframe tbody tr th {\n",
              "        vertical-align: top;\n",
              "    }\n",
              "\n",
              "    .dataframe thead th {\n",
              "        text-align: right;\n",
              "    }\n",
              "</style>\n",
              "<table border=\"1\" class=\"dataframe\">\n",
              "  <thead>\n",
              "    <tr style=\"text-align: right;\">\n",
              "      <th></th>\n",
              "      <th>MinTemp</th>\n",
              "      <th>MaxTemp</th>\n",
              "      <th>Rainfall</th>\n",
              "      <th>Evaporation</th>\n",
              "      <th>Sunshine</th>\n",
              "      <th>WindGustSpeed</th>\n",
              "      <th>WindSpeed9am</th>\n",
              "      <th>WindSpeed3pm</th>\n",
              "      <th>Humidity9am</th>\n",
              "      <th>Humidity3pm</th>\n",
              "      <th>Pressure9am</th>\n",
              "      <th>Pressure3pm</th>\n",
              "      <th>Cloud9am</th>\n",
              "      <th>Cloud3pm</th>\n",
              "      <th>Temp9am</th>\n",
              "      <th>Temp3pm</th>\n",
              "    </tr>\n",
              "  </thead>\n",
              "  <tbody>\n",
              "    <tr>\n",
              "      <th>count</th>\n",
              "      <td>143975.000000</td>\n",
              "      <td>144199.000000</td>\n",
              "      <td>142199.000000</td>\n",
              "      <td>82670.000000</td>\n",
              "      <td>75625.000000</td>\n",
              "      <td>135197.000000</td>\n",
              "      <td>143693.000000</td>\n",
              "      <td>142398.000000</td>\n",
              "      <td>142806.000000</td>\n",
              "      <td>140953.000000</td>\n",
              "      <td>130395.00000</td>\n",
              "      <td>130432.000000</td>\n",
              "      <td>89572.000000</td>\n",
              "      <td>86102.000000</td>\n",
              "      <td>143693.000000</td>\n",
              "      <td>141851.00000</td>\n",
              "    </tr>\n",
              "    <tr>\n",
              "      <th>mean</th>\n",
              "      <td>12.194034</td>\n",
              "      <td>23.221348</td>\n",
              "      <td>2.360918</td>\n",
              "      <td>5.468232</td>\n",
              "      <td>7.611178</td>\n",
              "      <td>40.035230</td>\n",
              "      <td>14.043426</td>\n",
              "      <td>18.662657</td>\n",
              "      <td>68.880831</td>\n",
              "      <td>51.539116</td>\n",
              "      <td>1017.64994</td>\n",
              "      <td>1015.255889</td>\n",
              "      <td>4.447461</td>\n",
              "      <td>4.509930</td>\n",
              "      <td>16.990631</td>\n",
              "      <td>21.68339</td>\n",
              "    </tr>\n",
              "    <tr>\n",
              "      <th>std</th>\n",
              "      <td>6.398495</td>\n",
              "      <td>7.119049</td>\n",
              "      <td>8.478060</td>\n",
              "      <td>4.193704</td>\n",
              "      <td>3.785483</td>\n",
              "      <td>13.607062</td>\n",
              "      <td>8.915375</td>\n",
              "      <td>8.809800</td>\n",
              "      <td>19.029164</td>\n",
              "      <td>20.795902</td>\n",
              "      <td>7.10653</td>\n",
              "      <td>7.037414</td>\n",
              "      <td>2.887159</td>\n",
              "      <td>2.720357</td>\n",
              "      <td>6.488753</td>\n",
              "      <td>6.93665</td>\n",
              "    </tr>\n",
              "    <tr>\n",
              "      <th>min</th>\n",
              "      <td>-8.500000</td>\n",
              "      <td>-4.800000</td>\n",
              "      <td>0.000000</td>\n",
              "      <td>0.000000</td>\n",
              "      <td>0.000000</td>\n",
              "      <td>6.000000</td>\n",
              "      <td>0.000000</td>\n",
              "      <td>0.000000</td>\n",
              "      <td>0.000000</td>\n",
              "      <td>0.000000</td>\n",
              "      <td>980.50000</td>\n",
              "      <td>977.100000</td>\n",
              "      <td>0.000000</td>\n",
              "      <td>0.000000</td>\n",
              "      <td>-7.200000</td>\n",
              "      <td>-5.40000</td>\n",
              "    </tr>\n",
              "    <tr>\n",
              "      <th>25%</th>\n",
              "      <td>7.600000</td>\n",
              "      <td>17.900000</td>\n",
              "      <td>0.000000</td>\n",
              "      <td>2.600000</td>\n",
              "      <td>4.800000</td>\n",
              "      <td>31.000000</td>\n",
              "      <td>7.000000</td>\n",
              "      <td>13.000000</td>\n",
              "      <td>57.000000</td>\n",
              "      <td>37.000000</td>\n",
              "      <td>1012.90000</td>\n",
              "      <td>1010.400000</td>\n",
              "      <td>1.000000</td>\n",
              "      <td>2.000000</td>\n",
              "      <td>12.300000</td>\n",
              "      <td>16.60000</td>\n",
              "    </tr>\n",
              "    <tr>\n",
              "      <th>50%</th>\n",
              "      <td>12.000000</td>\n",
              "      <td>22.600000</td>\n",
              "      <td>0.000000</td>\n",
              "      <td>4.800000</td>\n",
              "      <td>8.400000</td>\n",
              "      <td>39.000000</td>\n",
              "      <td>13.000000</td>\n",
              "      <td>19.000000</td>\n",
              "      <td>70.000000</td>\n",
              "      <td>52.000000</td>\n",
              "      <td>1017.60000</td>\n",
              "      <td>1015.200000</td>\n",
              "      <td>5.000000</td>\n",
              "      <td>5.000000</td>\n",
              "      <td>16.700000</td>\n",
              "      <td>21.10000</td>\n",
              "    </tr>\n",
              "    <tr>\n",
              "      <th>75%</th>\n",
              "      <td>16.900000</td>\n",
              "      <td>28.200000</td>\n",
              "      <td>0.800000</td>\n",
              "      <td>7.400000</td>\n",
              "      <td>10.600000</td>\n",
              "      <td>48.000000</td>\n",
              "      <td>19.000000</td>\n",
              "      <td>24.000000</td>\n",
              "      <td>83.000000</td>\n",
              "      <td>66.000000</td>\n",
              "      <td>1022.40000</td>\n",
              "      <td>1020.000000</td>\n",
              "      <td>7.000000</td>\n",
              "      <td>7.000000</td>\n",
              "      <td>21.600000</td>\n",
              "      <td>26.40000</td>\n",
              "    </tr>\n",
              "    <tr>\n",
              "      <th>max</th>\n",
              "      <td>33.900000</td>\n",
              "      <td>48.100000</td>\n",
              "      <td>371.000000</td>\n",
              "      <td>145.000000</td>\n",
              "      <td>14.500000</td>\n",
              "      <td>135.000000</td>\n",
              "      <td>130.000000</td>\n",
              "      <td>87.000000</td>\n",
              "      <td>100.000000</td>\n",
              "      <td>100.000000</td>\n",
              "      <td>1041.00000</td>\n",
              "      <td>1039.600000</td>\n",
              "      <td>9.000000</td>\n",
              "      <td>9.000000</td>\n",
              "      <td>40.200000</td>\n",
              "      <td>46.70000</td>\n",
              "    </tr>\n",
              "  </tbody>\n",
              "</table>\n",
              "</div>\n",
              "    <div class=\"colab-df-buttons\">\n",
              "\n",
              "  <div class=\"colab-df-container\">\n",
              "    <button class=\"colab-df-convert\" onclick=\"convertToInteractive('df-2c95d991-fa38-4f70-9e1e-cb216ea55764')\"\n",
              "            title=\"Convert this dataframe to an interactive table.\"\n",
              "            style=\"display:none;\">\n",
              "\n",
              "  <svg xmlns=\"http://www.w3.org/2000/svg\" height=\"24px\" viewBox=\"0 -960 960 960\">\n",
              "    <path d=\"M120-120v-720h720v720H120Zm60-500h600v-160H180v160Zm220 220h160v-160H400v160Zm0 220h160v-160H400v160ZM180-400h160v-160H180v160Zm440 0h160v-160H620v160ZM180-180h160v-160H180v160Zm440 0h160v-160H620v160Z\"/>\n",
              "  </svg>\n",
              "    </button>\n",
              "\n",
              "  <style>\n",
              "    .colab-df-container {\n",
              "      display:flex;\n",
              "      gap: 12px;\n",
              "    }\n",
              "\n",
              "    .colab-df-convert {\n",
              "      background-color: #E8F0FE;\n",
              "      border: none;\n",
              "      border-radius: 50%;\n",
              "      cursor: pointer;\n",
              "      display: none;\n",
              "      fill: #1967D2;\n",
              "      height: 32px;\n",
              "      padding: 0 0 0 0;\n",
              "      width: 32px;\n",
              "    }\n",
              "\n",
              "    .colab-df-convert:hover {\n",
              "      background-color: #E2EBFA;\n",
              "      box-shadow: 0px 1px 2px rgba(60, 64, 67, 0.3), 0px 1px 3px 1px rgba(60, 64, 67, 0.15);\n",
              "      fill: #174EA6;\n",
              "    }\n",
              "\n",
              "    .colab-df-buttons div {\n",
              "      margin-bottom: 4px;\n",
              "    }\n",
              "\n",
              "    [theme=dark] .colab-df-convert {\n",
              "      background-color: #3B4455;\n",
              "      fill: #D2E3FC;\n",
              "    }\n",
              "\n",
              "    [theme=dark] .colab-df-convert:hover {\n",
              "      background-color: #434B5C;\n",
              "      box-shadow: 0px 1px 3px 1px rgba(0, 0, 0, 0.15);\n",
              "      filter: drop-shadow(0px 1px 2px rgba(0, 0, 0, 0.3));\n",
              "      fill: #FFFFFF;\n",
              "    }\n",
              "  </style>\n",
              "\n",
              "    <script>\n",
              "      const buttonEl =\n",
              "        document.querySelector('#df-2c95d991-fa38-4f70-9e1e-cb216ea55764 button.colab-df-convert');\n",
              "      buttonEl.style.display =\n",
              "        google.colab.kernel.accessAllowed ? 'block' : 'none';\n",
              "\n",
              "      async function convertToInteractive(key) {\n",
              "        const element = document.querySelector('#df-2c95d991-fa38-4f70-9e1e-cb216ea55764');\n",
              "        const dataTable =\n",
              "          await google.colab.kernel.invokeFunction('convertToInteractive',\n",
              "                                                    [key], {});\n",
              "        if (!dataTable) return;\n",
              "\n",
              "        const docLinkHtml = 'Like what you see? Visit the ' +\n",
              "          '<a target=\"_blank\" href=https://colab.research.google.com/notebooks/data_table.ipynb>data table notebook</a>'\n",
              "          + ' to learn more about interactive tables.';\n",
              "        element.innerHTML = '';\n",
              "        dataTable['output_type'] = 'display_data';\n",
              "        await google.colab.output.renderOutput(dataTable, element);\n",
              "        const docLink = document.createElement('div');\n",
              "        docLink.innerHTML = docLinkHtml;\n",
              "        element.appendChild(docLink);\n",
              "      }\n",
              "    </script>\n",
              "  </div>\n",
              "\n",
              "\n",
              "<div id=\"df-66892fff-7e1b-41fa-af76-744bfcf016c7\">\n",
              "  <button class=\"colab-df-quickchart\" onclick=\"quickchart('df-66892fff-7e1b-41fa-af76-744bfcf016c7')\"\n",
              "            title=\"Suggest charts\"\n",
              "            style=\"display:none;\">\n",
              "\n",
              "<svg xmlns=\"http://www.w3.org/2000/svg\" height=\"24px\"viewBox=\"0 0 24 24\"\n",
              "     width=\"24px\">\n",
              "    <g>\n",
              "        <path d=\"M19 3H5c-1.1 0-2 .9-2 2v14c0 1.1.9 2 2 2h14c1.1 0 2-.9 2-2V5c0-1.1-.9-2-2-2zM9 17H7v-7h2v7zm4 0h-2V7h2v10zm4 0h-2v-4h2v4z\"/>\n",
              "    </g>\n",
              "</svg>\n",
              "  </button>\n",
              "\n",
              "<style>\n",
              "  .colab-df-quickchart {\n",
              "      --bg-color: #E8F0FE;\n",
              "      --fill-color: #1967D2;\n",
              "      --hover-bg-color: #E2EBFA;\n",
              "      --hover-fill-color: #174EA6;\n",
              "      --disabled-fill-color: #AAA;\n",
              "      --disabled-bg-color: #DDD;\n",
              "  }\n",
              "\n",
              "  [theme=dark] .colab-df-quickchart {\n",
              "      --bg-color: #3B4455;\n",
              "      --fill-color: #D2E3FC;\n",
              "      --hover-bg-color: #434B5C;\n",
              "      --hover-fill-color: #FFFFFF;\n",
              "      --disabled-bg-color: #3B4455;\n",
              "      --disabled-fill-color: #666;\n",
              "  }\n",
              "\n",
              "  .colab-df-quickchart {\n",
              "    background-color: var(--bg-color);\n",
              "    border: none;\n",
              "    border-radius: 50%;\n",
              "    cursor: pointer;\n",
              "    display: none;\n",
              "    fill: var(--fill-color);\n",
              "    height: 32px;\n",
              "    padding: 0;\n",
              "    width: 32px;\n",
              "  }\n",
              "\n",
              "  .colab-df-quickchart:hover {\n",
              "    background-color: var(--hover-bg-color);\n",
              "    box-shadow: 0 1px 2px rgba(60, 64, 67, 0.3), 0 1px 3px 1px rgba(60, 64, 67, 0.15);\n",
              "    fill: var(--button-hover-fill-color);\n",
              "  }\n",
              "\n",
              "  .colab-df-quickchart-complete:disabled,\n",
              "  .colab-df-quickchart-complete:disabled:hover {\n",
              "    background-color: var(--disabled-bg-color);\n",
              "    fill: var(--disabled-fill-color);\n",
              "    box-shadow: none;\n",
              "  }\n",
              "\n",
              "  .colab-df-spinner {\n",
              "    border: 2px solid var(--fill-color);\n",
              "    border-color: transparent;\n",
              "    border-bottom-color: var(--fill-color);\n",
              "    animation:\n",
              "      spin 1s steps(1) infinite;\n",
              "  }\n",
              "\n",
              "  @keyframes spin {\n",
              "    0% {\n",
              "      border-color: transparent;\n",
              "      border-bottom-color: var(--fill-color);\n",
              "      border-left-color: var(--fill-color);\n",
              "    }\n",
              "    20% {\n",
              "      border-color: transparent;\n",
              "      border-left-color: var(--fill-color);\n",
              "      border-top-color: var(--fill-color);\n",
              "    }\n",
              "    30% {\n",
              "      border-color: transparent;\n",
              "      border-left-color: var(--fill-color);\n",
              "      border-top-color: var(--fill-color);\n",
              "      border-right-color: var(--fill-color);\n",
              "    }\n",
              "    40% {\n",
              "      border-color: transparent;\n",
              "      border-right-color: var(--fill-color);\n",
              "      border-top-color: var(--fill-color);\n",
              "    }\n",
              "    60% {\n",
              "      border-color: transparent;\n",
              "      border-right-color: var(--fill-color);\n",
              "    }\n",
              "    80% {\n",
              "      border-color: transparent;\n",
              "      border-right-color: var(--fill-color);\n",
              "      border-bottom-color: var(--fill-color);\n",
              "    }\n",
              "    90% {\n",
              "      border-color: transparent;\n",
              "      border-bottom-color: var(--fill-color);\n",
              "    }\n",
              "  }\n",
              "</style>\n",
              "\n",
              "  <script>\n",
              "    async function quickchart(key) {\n",
              "      const quickchartButtonEl =\n",
              "        document.querySelector('#' + key + ' button');\n",
              "      quickchartButtonEl.disabled = true;  // To prevent multiple clicks.\n",
              "      quickchartButtonEl.classList.add('colab-df-spinner');\n",
              "      try {\n",
              "        const charts = await google.colab.kernel.invokeFunction(\n",
              "            'suggestCharts', [key], {});\n",
              "      } catch (error) {\n",
              "        console.error('Error during call to suggestCharts:', error);\n",
              "      }\n",
              "      quickchartButtonEl.classList.remove('colab-df-spinner');\n",
              "      quickchartButtonEl.classList.add('colab-df-quickchart-complete');\n",
              "    }\n",
              "    (() => {\n",
              "      let quickchartButtonEl =\n",
              "        document.querySelector('#df-66892fff-7e1b-41fa-af76-744bfcf016c7 button');\n",
              "      quickchartButtonEl.style.display =\n",
              "        google.colab.kernel.accessAllowed ? 'block' : 'none';\n",
              "    })();\n",
              "  </script>\n",
              "</div>\n",
              "    </div>\n",
              "  </div>\n"
            ]
          },
          "metadata": {},
          "execution_count": 7
        }
      ],
      "source": [
        "df.describe()"
      ]
    },
    {
      "cell_type": "markdown",
      "metadata": {
        "id": "bdImxrnPjJWE"
      },
      "source": [
        "### Initial Overview <a class=\"anchor\" id=\"4.1\"></a>\n",
        "\n",
        "- The dataset's features have a mix of categorical and numerical variables.\n",
        "\n",
        "- Categorical variables have data type `object`.\n",
        "\n",
        "- Numerical variables have data type `float64`.\n",
        "\n",
        "- The data has some NaN values scattered throughout. Also, for some numerical features the maximum values that are far from the average, hinting toward the presence of outliers. Thus, we will have to do some data cleaning later.\n",
        "\n",
        "- The target variable is `RainTomorrow`, for whether it will rain tomorrow in Australia or not. Thus it should be binary, taking the values `Yes` or `No`."
      ]
    },
    {
      "cell_type": "markdown",
      "metadata": {
        "id": "BGCd0aAJjJWE"
      },
      "source": [
        "## 5. Target Variable Exploration (Univariate Analysis) <a class=\"anchor\" id=\"5\"></a>\n",
        "Let's take a closer look at the target variable. Checking for missing values:"
      ]
    },
    {
      "cell_type": "code",
      "execution_count": 8,
      "metadata": {
        "execution": {
          "iopub.execute_input": "2023-12-07T09:36:24.497889Z",
          "iopub.status.busy": "2023-12-07T09:36:24.497462Z",
          "iopub.status.idle": "2023-12-07T09:36:24.523036Z",
          "shell.execute_reply": "2023-12-07T09:36:24.521623Z",
          "shell.execute_reply.started": "2023-12-07T09:36:24.497857Z"
        },
        "colab": {
          "base_uri": "https://localhost:8080/"
        },
        "id": "05dIjAWjjJWE",
        "outputId": "36f2cc65-b0ef-47d4-b565-573b5db267cc"
      },
      "outputs": [
        {
          "output_type": "execute_result",
          "data": {
            "text/plain": [
              "3267"
            ]
          },
          "metadata": {},
          "execution_count": 8
        }
      ],
      "source": [
        "df['RainTomorrow'].isnull().sum()"
      ]
    },
    {
      "cell_type": "markdown",
      "metadata": {
        "id": "6nWIxMLijJWF"
      },
      "source": [
        "Looks like out of the total $145460$ observations, $3267$ have a missing target variable. Since the percentage of these observations is low, let us delete them:"
      ]
    },
    {
      "cell_type": "code",
      "execution_count": 9,
      "metadata": {
        "execution": {
          "iopub.execute_input": "2023-12-07T09:36:24.525151Z",
          "iopub.status.busy": "2023-12-07T09:36:24.524766Z",
          "iopub.status.idle": "2023-12-07T09:36:24.680316Z",
          "shell.execute_reply": "2023-12-07T09:36:24.679012Z",
          "shell.execute_reply.started": "2023-12-07T09:36:24.525117Z"
        },
        "colab": {
          "base_uri": "https://localhost:8080/"
        },
        "id": "lJSNKciBjJWF",
        "outputId": "b482e527-f9f3-43bb-f5e2-28906b18ee86"
      },
      "outputs": [
        {
          "output_type": "execute_result",
          "data": {
            "text/plain": [
              "Date                 0\n",
              "Location             0\n",
              "MinTemp            637\n",
              "MaxTemp            322\n",
              "Rainfall          1406\n",
              "Evaporation      60843\n",
              "Sunshine         67816\n",
              "WindGustDir       9330\n",
              "WindGustSpeed     9270\n",
              "WindDir9am       10013\n",
              "WindDir3pm        3778\n",
              "WindSpeed9am      1348\n",
              "WindSpeed3pm      2630\n",
              "Humidity9am       1774\n",
              "Humidity3pm       3610\n",
              "Pressure9am      14014\n",
              "Pressure3pm      13981\n",
              "Cloud9am         53657\n",
              "Cloud3pm         57094\n",
              "Temp9am            904\n",
              "Temp3pm           2726\n",
              "RainToday         1406\n",
              "RainTomorrow         0\n",
              "dtype: int64"
            ]
          },
          "metadata": {},
          "execution_count": 9
        }
      ],
      "source": [
        "df = df.dropna(subset=['RainTomorrow'])\n",
        "df.isnull().sum()"
      ]
    },
    {
      "cell_type": "markdown",
      "metadata": {
        "id": "AdzmqESijJWF"
      },
      "source": [
        "Now ensuring that the target is a binary outcome:"
      ]
    },
    {
      "cell_type": "code",
      "execution_count": 10,
      "metadata": {
        "execution": {
          "iopub.execute_input": "2023-12-07T09:36:24.686789Z",
          "iopub.status.busy": "2023-12-07T09:36:24.686365Z",
          "iopub.status.idle": "2023-12-07T09:36:24.711017Z",
          "shell.execute_reply": "2023-12-07T09:36:24.709732Z",
          "shell.execute_reply.started": "2023-12-07T09:36:24.686754Z"
        },
        "colab": {
          "base_uri": "https://localhost:8080/"
        },
        "id": "UPwcI_jBjJWG",
        "outputId": "445773d0-df94-4b8a-b104-fa1b6802b32b"
      },
      "outputs": [
        {
          "output_type": "execute_result",
          "data": {
            "text/plain": [
              "array(['No', 'Yes'], dtype=object)"
            ]
          },
          "metadata": {},
          "execution_count": 10
        }
      ],
      "source": [
        "df['RainTomorrow'].unique()"
      ]
    },
    {
      "cell_type": "markdown",
      "metadata": {
        "id": "I8HodC_njJWG"
      },
      "source": [
        "What is the frequency distribution?"
      ]
    },
    {
      "cell_type": "code",
      "execution_count": 11,
      "metadata": {
        "execution": {
          "iopub.execute_input": "2023-12-07T09:36:24.712872Z",
          "iopub.status.busy": "2023-12-07T09:36:24.712466Z",
          "iopub.status.idle": "2023-12-07T09:36:24.748340Z",
          "shell.execute_reply": "2023-12-07T09:36:24.747051Z",
          "shell.execute_reply.started": "2023-12-07T09:36:24.712829Z"
        },
        "colab": {
          "base_uri": "https://localhost:8080/"
        },
        "id": "Sgmbi8NtjJWG",
        "outputId": "167c9c5b-3a55-493f-a75b-857dc15fb304"
      },
      "outputs": [
        {
          "output_type": "execute_result",
          "data": {
            "text/plain": [
              "No     110316\n",
              "Yes     31877\n",
              "Name: RainTomorrow, dtype: int64"
            ]
          },
          "metadata": {},
          "execution_count": 11
        }
      ],
      "source": [
        "df['RainTomorrow'].value_counts()"
      ]
    },
    {
      "cell_type": "markdown",
      "metadata": {
        "id": "lZc8Ce8ejJWH"
      },
      "source": [
        "How about the percentage of this distribution?"
      ]
    },
    {
      "cell_type": "code",
      "execution_count": 12,
      "metadata": {
        "execution": {
          "iopub.execute_input": "2023-12-07T09:36:24.750409Z",
          "iopub.status.busy": "2023-12-07T09:36:24.750075Z",
          "iopub.status.idle": "2023-12-07T09:36:24.786352Z",
          "shell.execute_reply": "2023-12-07T09:36:24.784886Z",
          "shell.execute_reply.started": "2023-12-07T09:36:24.750381Z"
        },
        "colab": {
          "base_uri": "https://localhost:8080/"
        },
        "id": "FJ6FqcC9jJWH",
        "outputId": "94a4a077-e05b-45e2-ee82-a519bc735bf7"
      },
      "outputs": [
        {
          "output_type": "execute_result",
          "data": {
            "text/plain": [
              "No     0.775819\n",
              "Yes    0.224181\n",
              "Name: RainTomorrow, dtype: float64"
            ]
          },
          "metadata": {},
          "execution_count": 12
        }
      ],
      "source": [
        "df['RainTomorrow'].value_counts()/len(df)"
      ]
    },
    {
      "cell_type": "markdown",
      "metadata": {
        "id": "C7JfwYSljJWH"
      },
      "source": [
        "Let's plot the distribution to visualize it:"
      ]
    },
    {
      "cell_type": "code",
      "execution_count": 13,
      "metadata": {
        "execution": {
          "iopub.execute_input": "2023-12-07T09:36:24.789031Z",
          "iopub.status.busy": "2023-12-07T09:36:24.787906Z",
          "iopub.status.idle": "2023-12-07T09:36:25.220906Z",
          "shell.execute_reply": "2023-12-07T09:36:25.219597Z",
          "shell.execute_reply.started": "2023-12-07T09:36:24.788991Z"
        },
        "colab": {
          "base_uri": "https://localhost:8080/",
          "height": 466
        },
        "id": "6oTOrvqwjJWI",
        "outputId": "ad6f5a07-26dd-4ec7-a92d-6fd456f7112e"
      },
      "outputs": [
        {
          "output_type": "execute_result",
          "data": {
            "text/plain": [
              "<Axes: xlabel='RainTomorrow', ylabel='count'>"
            ]
          },
          "metadata": {},
          "execution_count": 13
        },
        {
          "output_type": "display_data",
          "data": {
            "text/plain": [
              "<Figure size 640x480 with 1 Axes>"
            ],
            "image/png": "[encoded data removed]"
          },
          "metadata": {}
        }
      ],
      "source": [
        "cols= [\"#ffcbb8\",\"#c0fcce\"]\n",
        "sns.countplot(x= df[\"RainTomorrow\"], palette= cols)"
      ]
    },
    {
      "cell_type": "markdown",
      "metadata": {
        "id": "94LXIWIAjJWI"
      },
      "source": [
        "Also doing text preprocessing for the target variable:"
      ]
    },
    {
      "cell_type": "code",
      "execution_count": 14,
      "metadata": {
        "execution": {
          "iopub.execute_input": "2023-12-07T09:36:25.223106Z",
          "iopub.status.busy": "2023-12-07T09:36:25.222751Z",
          "iopub.status.idle": "2023-12-07T09:36:25.331600Z",
          "shell.execute_reply": "2023-12-07T09:36:25.330252Z",
          "shell.execute_reply.started": "2023-12-07T09:36:25.223075Z"
        },
        "id": "nWflBGRgjJWI"
      },
      "outputs": [],
      "source": [
        "df[\"RainTomorrow\"].replace({\"No\":0,\"Yes\":1},inplace=True)"
      ]
    },
    {
      "cell_type": "markdown",
      "metadata": {
        "id": "t-fAbRo0jJWI"
      },
      "source": [
        "### Target Variable Summary <a class=\"anchor\" id=\"5.1\"></a>\n",
        "- `RainTomorrow` is a binary variable with the two unique values `No` and `Yes`.\n",
        "- `No` appears $110316$ times, which is $77.58\\%$ of the time.\n",
        "- `Yes` appears $31877$ times, which is $22.42\\%$ of the time.\n",
        "- The plot confirms the above information."
      ]
    },
    {
      "cell_type": "markdown",
      "metadata": {
        "id": "DZh-7IIsjJWJ"
      },
      "source": [
        "## 6. Feature Exploration, Cleaning, and Preprocessing (Bivariate Analysis)<a class=\"anchor\" id=\"6\">\n",
        "Through EDA we found our features can be either categorical variables or numerical ones. Let us examine the categorical variables first.\n",
        "    \n",
        "### Categorical Features <a class=\"anchor\" id=\"6.1\">\n",
        "Finding the categorical variables:"
      ]
    },
    {
      "cell_type": "code",
      "execution_count": 15,
      "metadata": {
        "execution": {
          "iopub.execute_input": "2023-12-07T09:36:25.334188Z",
          "iopub.status.busy": "2023-12-07T09:36:25.333726Z",
          "iopub.status.idle": "2023-12-07T09:36:25.342363Z",
          "shell.execute_reply": "2023-12-07T09:36:25.341014Z",
          "shell.execute_reply.started": "2023-12-07T09:36:25.334149Z"
        },
        "colab": {
          "base_uri": "https://localhost:8080/"
        },
        "id": "l5V7JZKRjJWJ",
        "outputId": "61631cc8-e671-4193-9b7a-b29e7a6f9af3"
      },
      "outputs": [
        {
          "output_type": "stream",
          "name": "stdout",
          "text": [
            "The 6 categorical variables are:\n",
            " ['Date', 'Location', 'WindGustDir', 'WindDir9am', 'WindDir3pm', 'RainToday']\n"
          ]
        }
      ],
      "source": [
        "# Categorical variables have data type object\n",
        "categorical = [var for var in df.columns if df[var].dtype=='O']\n",
        "\n",
        "print('The {} categorical variables are:\\n'.format(len(categorical)), categorical)"
      ]
    },
    {
      "cell_type": "markdown",
      "metadata": {
        "id": "vRTJpKXzjJWJ"
      },
      "source": [
        "Strangely Date is a categorical variable. Let's preview the data to investigate:"
      ]
    },
    {
      "cell_type": "code",
      "execution_count": 16,
      "metadata": {
        "execution": {
          "iopub.execute_input": "2023-12-07T09:36:25.344750Z",
          "iopub.status.busy": "2023-12-07T09:36:25.344236Z",
          "iopub.status.idle": "2023-12-07T09:36:25.372272Z",
          "shell.execute_reply": "2023-12-07T09:36:25.370998Z",
          "shell.execute_reply.started": "2023-12-07T09:36:25.344694Z"
        },
        "colab": {
          "base_uri": "https://localhost:8080/",
          "height": 206
        },
        "id": "3059nsO2jJWJ",
        "outputId": "6fdc0f1f-f282-40d3-cdb0-3d39d30f2f0d"
      },
      "outputs": [
        {
          "output_type": "execute_result",
          "data": {
            "text/plain": [
              "         Date Location WindGustDir WindDir9am WindDir3pm RainToday\n",
              "0  2008-12-01   Albury           W          W        WNW        No\n",
              "1  2008-12-02   Albury         WNW        NNW        WSW        No\n",
              "2  2008-12-03   Albury         WSW          W        WSW        No\n",
              "3  2008-12-04   Albury          NE         SE          E        No\n",
              "4  2008-12-05   Albury           W        ENE         NW        No"
            ],
            "text/html": [
              "\n",
              "  <div id=\"df-8a925cd1-0c19-4b54-864f-84dcdc3aa1e3\" class=\"colab-df-container\">\n",
              "    <div>\n",
              "<style scoped>\n",
              "    .dataframe tbody tr th:only-of-type {\n",
              "        vertical-align: middle;\n",
              "    }\n",
              "\n",
              "    .dataframe tbody tr th {\n",
              "        vertical-align: top;\n",
              "    }\n",
              "\n",
              "    .dataframe thead th {\n",
              "        text-align: right;\n",
              "    }\n",
              "</style>\n",
              "<table border=\"1\" class=\"dataframe\">\n",
              "  <thead>\n",
              "    <tr style=\"text-align: right;\">\n",
              "      <th></th>\n",
              "      <th>Date</th>\n",
              "      <th>Location</th>\n",
              "      <th>WindGustDir</th>\n",
              "      <th>WindDir9am</th>\n",
              "      <th>WindDir3pm</th>\n",
              "      <th>RainToday</th>\n",
              "    </tr>\n",
              "  </thead>\n",
              "  <tbody>\n",
              "    <tr>\n",
              "      <th>0</th>\n",
              "      <td>2008-12-01</td>\n",
              "      <td>Albury</td>\n",
              "      <td>W</td>\n",
              "      <td>W</td>\n",
              "      <td>WNW</td>\n",
              "      <td>No</td>\n",
              "    </tr>\n",
              "    <tr>\n",
              "      <th>1</th>\n",
              "      <td>2008-12-02</td>\n",
              "      <td>Albury</td>\n",
              "      <td>WNW</td>\n",
              "      <td>NNW</td>\n",
              "      <td>WSW</td>\n",
              "      <td>No</td>\n",
              "    </tr>\n",
              "    <tr>\n",
              "      <th>2</th>\n",
              "      <td>2008-12-03</td>\n",
              "      <td>Albury</td>\n",
              "      <td>WSW</td>\n",
              "      <td>W</td>\n",
              "      <td>WSW</td>\n",
              "      <td>No</td>\n",
              "    </tr>\n",
              "    <tr>\n",
              "      <th>3</th>\n",
              "      <td>2008-12-04</td>\n",
              "      <td>Albury</td>\n",
              "      <td>NE</td>\n",
              "      <td>SE</td>\n",
              "      <td>E</td>\n",
              "      <td>No</td>\n",
              "    </tr>\n",
              "    <tr>\n",
              "      <th>4</th>\n",
              "      <td>2008-12-05</td>\n",
              "      <td>Albury</td>\n",
              "      <td>W</td>\n",
              "      <td>ENE</td>\n",
              "      <td>NW</td>\n",
              "      <td>No</td>\n",
              "    </tr>\n",
              "  </tbody>\n",
              "</table>\n",
              "</div>\n",
              "    <div class=\"colab-df-buttons\">\n",
              "\n",
              "  <div class=\"colab-df-container\">\n",
              "    <button class=\"colab-df-convert\" onclick=\"convertToInteractive('df-8a925cd1-0c19-4b54-864f-84dcdc3aa1e3')\"\n",
              "            title=\"Convert this dataframe to an interactive table.\"\n",
              "            style=\"display:none;\">\n",
              "\n",
              "  <svg xmlns=\"http://www.w3.org/2000/svg\" height=\"24px\" viewBox=\"0 -960 960 960\">\n",
              "    <path d=\"M120-120v-720h720v720H120Zm60-500h600v-160H180v160Zm220 220h160v-160H400v160Zm0 220h160v-160H400v160ZM180-400h160v-160H180v160Zm440 0h160v-160H620v160ZM180-180h160v-160H180v160Zm440 0h160v-160H620v160Z\"/>\n",
              "  </svg>\n",
              "    </button>\n",
              "\n",
              "  <style>\n",
              "    .colab-df-container {\n",
              "      display:flex;\n",
              "      gap: 12px;\n",
              "    }\n",
              "\n",
              "    .colab-df-convert {\n",
              "      background-color: #E8F0FE;\n",
              "      border: none;\n",
              "      border-radius: 50%;\n",
              "      cursor: pointer;\n",
              "      display: none;\n",
              "      fill: #1967D2;\n",
              "      height: 32px;\n",
              "      padding: 0 0 0 0;\n",
              "      width: 32px;\n",
              "    }\n",
              "\n",
              "    .colab-df-convert:hover {\n",
              "      background-color: #E2EBFA;\n",
              "      box-shadow: 0px 1px 2px rgba(60, 64, 67, 0.3), 0px 1px 3px 1px rgba(60, 64, 67, 0.15);\n",
              "      fill: #174EA6;\n",
              "    }\n",
              "\n",
              "    .colab-df-buttons div {\n",
              "      margin-bottom: 4px;\n",
              "    }\n",
              "\n",
              "    [theme=dark] .colab-df-convert {\n",
              "      background-color: #3B4455;\n",
              "      fill: #D2E3FC;\n",
              "    }\n",
              "\n",
              "    [theme=dark] .colab-df-convert:hover {\n",
              "      background-color: #434B5C;\n",
              "      box-shadow: 0px 1px 3px 1px rgba(0, 0, 0, 0.15);\n",
              "      filter: drop-shadow(0px 1px 2px rgba(0, 0, 0, 0.3));\n",
              "      fill: #FFFFFF;\n",
              "    }\n",
              "  </style>\n",
              "\n",
              "    <script>\n",
              "      const buttonEl =\n",
              "        document.querySelector('#df-8a925cd1-0c19-4b54-864f-84dcdc3aa1e3 button.colab-df-convert');\n",
              "      buttonEl.style.display =\n",
              "        google.colab.kernel.accessAllowed ? 'block' : 'none';\n",
              "\n",
              "      async function convertToInteractive(key) {\n",
              "        const element = document.querySelector('#df-8a925cd1-0c19-4b54-864f-84dcdc3aa1e3');\n",
              "        const dataTable =\n",
              "          await google.colab.kernel.invokeFunction('convertToInteractive',\n",
              "                                                    [key], {});\n",
              "        if (!dataTable) return;\n",
              "\n",
              "        const docLinkHtml = 'Like what you see? Visit the ' +\n",
              "          '<a target=\"_blank\" href=https://colab.research.google.com/notebooks/data_table.ipynb>data table notebook</a>'\n",
              "          + ' to learn more about interactive tables.';\n",
              "        element.innerHTML = '';\n",
              "        dataTable['output_type'] = 'display_data';\n",
              "        await google.colab.output.renderOutput(dataTable, element);\n",
              "        const docLink = document.createElement('div');\n",
              "        docLink.innerHTML = docLinkHtml;\n",
              "        element.appendChild(docLink);\n",
              "      }\n",
              "    </script>\n",
              "  </div>\n",
              "\n",
              "\n",
              "<div id=\"df-ff168a57-18b2-411e-9b31-761219f0a50e\">\n",
              "  <button class=\"colab-df-quickchart\" onclick=\"quickchart('df-ff168a57-18b2-411e-9b31-761219f0a50e')\"\n",
              "            title=\"Suggest charts\"\n",
              "            style=\"display:none;\">\n",
              "\n",
              "<svg xmlns=\"http://www.w3.org/2000/svg\" height=\"24px\"viewBox=\"0 0 24 24\"\n",
              "     width=\"24px\">\n",
              "    <g>\n",
              "        <path d=\"M19 3H5c-1.1 0-2 .9-2 2v14c0 1.1.9 2 2 2h14c1.1 0 2-.9 2-2V5c0-1.1-.9-2-2-2zM9 17H7v-7h2v7zm4 0h-2V7h2v10zm4 0h-2v-4h2v4z\"/>\n",
              "    </g>\n",
              "</svg>\n",
              "  </button>\n",
              "\n",
              "<style>\n",
              "  .colab-df-quickchart {\n",
              "      --bg-color: #E8F0FE;\n",
              "      --fill-color: #1967D2;\n",
              "      --hover-bg-color: #E2EBFA;\n",
              "      --hover-fill-color: #174EA6;\n",
              "      --disabled-fill-color: #AAA;\n",
              "      --disabled-bg-color: #DDD;\n",
              "  }\n",
              "\n",
              "  [theme=dark] .colab-df-quickchart {\n",
              "      --bg-color: #3B4455;\n",
              "      --fill-color: #D2E3FC;\n",
              "      --hover-bg-color: #434B5C;\n",
              "      --hover-fill-color: #FFFFFF;\n",
              "      --disabled-bg-color: #3B4455;\n",
              "      --disabled-fill-color: #666;\n",
              "  }\n",
              "\n",
              "  .colab-df-quickchart {\n",
              "    background-color: var(--bg-color);\n",
              "    border: none;\n",
              "    border-radius: 50%;\n",
              "    cursor: pointer;\n",
              "    display: none;\n",
              "    fill: var(--fill-color);\n",
              "    height: 32px;\n",
              "    padding: 0;\n",
              "    width: 32px;\n",
              "  }\n",
              "\n",
              "  .colab-df-quickchart:hover {\n",
              "    background-color: var(--hover-bg-color);\n",
              "    box-shadow: 0 1px 2px rgba(60, 64, 67, 0.3), 0 1px 3px 1px rgba(60, 64, 67, 0.15);\n",
              "    fill: var(--button-hover-fill-color);\n",
              "  }\n",
              "\n",
              "  .colab-df-quickchart-complete:disabled,\n",
              "  .colab-df-quickchart-complete:disabled:hover {\n",
              "    background-color: var(--disabled-bg-color);\n",
              "    fill: var(--disabled-fill-color);\n",
              "    box-shadow: none;\n",
              "  }\n",
              "\n",
              "  .colab-df-spinner {\n",
              "    border: 2px solid var(--fill-color);\n",
              "    border-color: transparent;\n",
              "    border-bottom-color: var(--fill-color);\n",
              "    animation:\n",
              "      spin 1s steps(1) infinite;\n",
              "  }\n",
              "\n",
              "  @keyframes spin {\n",
              "    0% {\n",
              "      border-color: transparent;\n",
              "      border-bottom-color: var(--fill-color);\n",
              "      border-left-color: var(--fill-color);\n",
              "    }\n",
              "    20% {\n",
              "      border-color: transparent;\n",
              "      border-left-color: var(--fill-color);\n",
              "      border-top-color: var(--fill-color);\n",
              "    }\n",
              "    30% {\n",
              "      border-color: transparent;\n",
              "      border-left-color: var(--fill-color);\n",
              "      border-top-color: var(--fill-color);\n",
              "      border-right-color: var(--fill-color);\n",
              "    }\n",
              "    40% {\n",
              "      border-color: transparent;\n",
              "      border-right-color: var(--fill-color);\n",
              "      border-top-color: var(--fill-color);\n",
              "    }\n",
              "    60% {\n",
              "      border-color: transparent;\n",
              "      border-right-color: var(--fill-color);\n",
              "    }\n",
              "    80% {\n",
              "      border-color: transparent;\n",
              "      border-right-color: var(--fill-color);\n",
              "      border-bottom-color: var(--fill-color);\n",
              "    }\n",
              "    90% {\n",
              "      border-color: transparent;\n",
              "      border-bottom-color: var(--fill-color);\n",
              "    }\n",
              "  }\n",
              "</style>\n",
              "\n",
              "  <script>\n",
              "    async function quickchart(key) {\n",
              "      const quickchartButtonEl =\n",
              "        document.querySelector('#' + key + ' button');\n",
              "      quickchartButtonEl.disabled = true;  // To prevent multiple clicks.\n",
              "      quickchartButtonEl.classList.add('colab-df-spinner');\n",
              "      try {\n",
              "        const charts = await google.colab.kernel.invokeFunction(\n",
              "            'suggestCharts', [key], {});\n",
              "      } catch (error) {\n",
              "        console.error('Error during call to suggestCharts:', error);\n",
              "      }\n",
              "      quickchartButtonEl.classList.remove('colab-df-spinner');\n",
              "      quickchartButtonEl.classList.add('colab-df-quickchart-complete');\n",
              "    }\n",
              "    (() => {\n",
              "      let quickchartButtonEl =\n",
              "        document.querySelector('#df-ff168a57-18b2-411e-9b31-761219f0a50e button');\n",
              "      quickchartButtonEl.style.display =\n",
              "        google.colab.kernel.accessAllowed ? 'block' : 'none';\n",
              "    })();\n",
              "  </script>\n",
              "</div>\n",
              "    </div>\n",
              "  </div>\n"
            ]
          },
          "metadata": {},
          "execution_count": 16
        }
      ],
      "source": [
        "# Preview categorical variables\n",
        "df[categorical].head()"
      ]
    },
    {
      "cell_type": "markdown",
      "metadata": {
        "id": "zdNBi7CDjJWK"
      },
      "source": [
        "Also looking at the cardinality of cateogorical variables:"
      ]
    },
    {
      "cell_type": "code",
      "execution_count": 17,
      "metadata": {
        "execution": {
          "iopub.execute_input": "2023-12-07T09:36:25.374542Z",
          "iopub.status.busy": "2023-12-07T09:36:25.374038Z",
          "iopub.status.idle": "2023-12-07T09:36:25.461426Z",
          "shell.execute_reply": "2023-12-07T09:36:25.460202Z",
          "shell.execute_reply.started": "2023-12-07T09:36:25.374471Z"
        },
        "colab": {
          "base_uri": "https://localhost:8080/"
        },
        "id": "ym32oJaJjJWK",
        "outputId": "ba5db3be-3fe1-49da-fbf3-dcaf704b7f7e"
      },
      "outputs": [
        {
          "output_type": "stream",
          "name": "stdout",
          "text": [
            "Date: 3436\n",
            "Location: 49\n",
            "WindGustDir: 16\n",
            "WindDir9am: 16\n",
            "WindDir3pm: 16\n",
            "RainToday: 2\n"
          ]
        }
      ],
      "source": [
        "for col in categorical:\n",
        "    print(f\"{col}: {df[col].nunique()}\")"
      ]
    },
    {
      "cell_type": "markdown",
      "metadata": {
        "id": "LwNgR4xMjJWK"
      },
      "source": [
        "Looks like the Dates (of type object and has high cardinality) should be parsed into datetime. So we really have 6 categorical variables, and 5 categorical features excluding the target variable.\n",
        "\n"
      ]
    },
    {
      "cell_type": "markdown",
      "metadata": {
        "id": "VdyGuDBAjJWK"
      },
      "source": [
        "#### Feature Engineering of Date Variable <a class=\"anchor\" id=\"6.1.1\">"
      ]
    },
    {
      "cell_type": "code",
      "execution_count": 18,
      "metadata": {
        "execution": {
          "iopub.execute_input": "2023-12-07T09:36:25.463697Z",
          "iopub.status.busy": "2023-12-07T09:36:25.463167Z",
          "iopub.status.idle": "2023-12-07T09:36:25.488801Z",
          "shell.execute_reply": "2023-12-07T09:36:25.487354Z",
          "shell.execute_reply.started": "2023-12-07T09:36:25.463647Z"
        },
        "colab": {
          "base_uri": "https://localhost:8080/"
        },
        "id": "UVwOSJ1RjJWd",
        "outputId": "0f5d1000-bc06-4493-906c-ef7a093e4192"
      },
      "outputs": [
        {
          "output_type": "execute_result",
          "data": {
            "text/plain": [
              "0"
            ]
          },
          "metadata": {},
          "execution_count": 18
        }
      ],
      "source": [
        "# Checking for null Dates\n",
        "df['Date'].isnull().sum()"
      ]
    },
    {
      "cell_type": "code",
      "execution_count": 19,
      "metadata": {
        "execution": {
          "iopub.execute_input": "2023-12-07T09:36:25.491429Z",
          "iopub.status.busy": "2023-12-07T09:36:25.490782Z",
          "iopub.status.idle": "2023-12-07T09:36:25.570831Z",
          "shell.execute_reply": "2023-12-07T09:36:25.569717Z",
          "shell.execute_reply.started": "2023-12-07T09:36:25.491383Z"
        },
        "colab": {
          "base_uri": "https://localhost:8080/"
        },
        "id": "hzeYNYJIjJWe",
        "outputId": "aac97b9e-c205-413c-f285-eaa906023b76"
      },
      "outputs": [
        {
          "output_type": "execute_result",
          "data": {
            "text/plain": [
              "0    2008\n",
              "1    2008\n",
              "2    2008\n",
              "3    2008\n",
              "4    2008\n",
              "Name: Year, dtype: int64"
            ]
          },
          "metadata": {},
          "execution_count": 19
        }
      ],
      "source": [
        "# parse the dates, currently coded as strings, into datetime format\n",
        "df['Date'] = pd.to_datetime(df['Date'])\n",
        "\n",
        "# extract year from date\n",
        "df['Year'] = df['Date'].dt.year\n",
        "df['Year'].head()"
      ]
    },
    {
      "cell_type": "code",
      "execution_count": 20,
      "metadata": {
        "execution": {
          "iopub.execute_input": "2023-12-07T09:36:25.573713Z",
          "iopub.status.busy": "2023-12-07T09:36:25.573323Z",
          "iopub.status.idle": "2023-12-07T09:36:25.596875Z",
          "shell.execute_reply": "2023-12-07T09:36:25.595730Z",
          "shell.execute_reply.started": "2023-12-07T09:36:25.573680Z"
        },
        "colab": {
          "base_uri": "https://localhost:8080/"
        },
        "id": "WEJNYp8RjJWe",
        "outputId": "a9a2b23b-9a51-472a-9044-2d4e1f960094"
      },
      "outputs": [
        {
          "output_type": "execute_result",
          "data": {
            "text/plain": [
              "0    12\n",
              "1    12\n",
              "2    12\n",
              "3    12\n",
              "4    12\n",
              "Name: Month, dtype: int64"
            ]
          },
          "metadata": {},
          "execution_count": 20
        }
      ],
      "source": [
        "# extract month from date\n",
        "df['Month'] = df['Date'].dt.month\n",
        "df['Month'].head()"
      ]
    },
    {
      "cell_type": "code",
      "execution_count": 21,
      "metadata": {
        "execution": {
          "iopub.execute_input": "2023-12-07T09:36:25.598860Z",
          "iopub.status.busy": "2023-12-07T09:36:25.598427Z",
          "iopub.status.idle": "2023-12-07T09:36:25.622931Z",
          "shell.execute_reply": "2023-12-07T09:36:25.621690Z",
          "shell.execute_reply.started": "2023-12-07T09:36:25.598826Z"
        },
        "colab": {
          "base_uri": "https://localhost:8080/"
        },
        "id": "aAwgQHgujJWe",
        "outputId": "64ed5cce-2438-4ba5-a699-f6be49154825"
      },
      "outputs": [
        {
          "output_type": "execute_result",
          "data": {
            "text/plain": [
              "0    1\n",
              "1    2\n",
              "2    3\n",
              "3    4\n",
              "4    5\n",
              "Name: Day, dtype: int64"
            ]
          },
          "metadata": {},
          "execution_count": 21
        }
      ],
      "source": [
        "# extract day from date\n",
        "df['Day'] = df['Date'].dt.day\n",
        "df['Day'].head()"
      ]
    },
    {
      "cell_type": "code",
      "execution_count": 22,
      "metadata": {
        "execution": {
          "iopub.execute_input": "2023-12-07T09:36:25.624736Z",
          "iopub.status.busy": "2023-12-07T09:36:25.624322Z",
          "iopub.status.idle": "2023-12-07T09:36:25.653094Z",
          "shell.execute_reply": "2023-12-07T09:36:25.652155Z",
          "shell.execute_reply.started": "2023-12-07T09:36:25.624701Z"
        },
        "id": "t0SlUZ7BjJWf"
      },
      "outputs": [],
      "source": [
        "# drop the original Date variable\n",
        "df.drop('Date', axis=1, inplace = True)"
      ]
    },
    {
      "cell_type": "code",
      "execution_count": 23,
      "metadata": {
        "execution": {
          "iopub.execute_input": "2023-12-07T09:36:25.654420Z",
          "iopub.status.busy": "2023-12-07T09:36:25.654082Z",
          "iopub.status.idle": "2023-12-07T09:36:25.755631Z",
          "shell.execute_reply": "2023-12-07T09:36:25.754444Z",
          "shell.execute_reply.started": "2023-12-07T09:36:25.654392Z"
        },
        "colab": {
          "base_uri": "https://localhost:8080/"
        },
        "id": "bSm9qzOEjJWf",
        "outputId": "ce093a05-8933-4528-cb52-2757c406a394"
      },
      "outputs": [
        {
          "output_type": "stream",
          "name": "stdout",
          "text": [
            "<class 'pandas.core.frame.DataFrame'>\n",
            "Int64Index: 142193 entries, 0 to 145458\n",
            "Data columns (total 25 columns):\n",
            " #   Column         Non-Null Count   Dtype  \n",
            "---  ------         --------------   -----  \n",
            " 0   Location       142193 non-null  object \n",
            " 1   MinTemp        141556 non-null  float64\n",
            " 2   MaxTemp        141871 non-null  float64\n",
            " 3   Rainfall       140787 non-null  float64\n",
            " 4   Evaporation    81350 non-null   float64\n",
            " 5   Sunshine       74377 non-null   float64\n",
            " 6   WindGustDir    132863 non-null  object \n",
            " 7   WindGustSpeed  132923 non-null  float64\n",
            " 8   WindDir9am     132180 non-null  object \n",
            " 9   WindDir3pm     138415 non-null  object \n",
            " 10  WindSpeed9am   140845 non-null  float64\n",
            " 11  WindSpeed3pm   139563 non-null  float64\n",
            " 12  Humidity9am    140419 non-null  float64\n",
            " 13  Humidity3pm    138583 non-null  float64\n",
            " 14  Pressure9am    128179 non-null  float64\n",
            " 15  Pressure3pm    128212 non-null  float64\n",
            " 16  Cloud9am       88536 non-null   float64\n",
            " 17  Cloud3pm       85099 non-null   float64\n",
            " 18  Temp9am        141289 non-null  float64\n",
            " 19  Temp3pm        139467 non-null  float64\n",
            " 20  RainToday      140787 non-null  object \n",
            " 21  RainTomorrow   142193 non-null  int64  \n",
            " 22  Year           142193 non-null  int64  \n",
            " 23  Month          142193 non-null  int64  \n",
            " 24  Day            142193 non-null  int64  \n",
            "dtypes: float64(16), int64(4), object(5)\n",
            "memory usage: 28.2+ MB\n"
          ]
        }
      ],
      "source": [
        "# view updated dataset\n",
        "df.info()"
      ]
    },
    {
      "cell_type": "markdown",
      "metadata": {
        "id": "Gkmm7Y1wjJWf"
      },
      "source": [
        "#### Handling Missing Values <a class=\"anchor\" id=\"6.1.2\">\n",
        "\n",
        "Let us handle any missing values for our categorical variables by replacing them with the most common value or mode. Viewing how many missing values we're dealing with:"
      ]
    },
    {
      "cell_type": "code",
      "execution_count": 24,
      "metadata": {
        "execution": {
          "iopub.execute_input": "2023-12-07T09:36:25.758224Z",
          "iopub.status.busy": "2023-12-07T09:36:25.757599Z",
          "iopub.status.idle": "2023-12-07T09:36:25.839389Z",
          "shell.execute_reply": "2023-12-07T09:36:25.838545Z",
          "shell.execute_reply.started": "2023-12-07T09:36:25.758178Z"
        },
        "colab": {
          "base_uri": "https://localhost:8080/"
        },
        "id": "SAhGMr1zjJWf",
        "outputId": "ed018912-ef87-46b8-e04f-93ed0ddc1cdc"
      },
      "outputs": [
        {
          "output_type": "stream",
          "name": "stdout",
          "text": [
            "Missing Value Count for categorical variables - \n",
            "Location : 0\n",
            "WindGustDir : 9330\n",
            "WindDir9am : 10013\n",
            "WindDir3pm : 3778\n",
            "RainToday : 1406\n"
          ]
        }
      ],
      "source": [
        "# Get a new list of categorical variables (\n",
        "s = (df.dtypes == \"object\")\n",
        "categorical = list(s[s].index)\n",
        "categorical_features = [feature for feature in categorical if feature != 'RainTomorrow']\n",
        "# Display missing values for categorical features\n",
        "print(\"Missing Value Count for categorical variables - \")\n",
        "for feature in categorical_features:\n",
        "    print(feature,\":\", df[feature].isnull().sum())"
      ]
    },
    {
      "cell_type": "code",
      "execution_count": 25,
      "metadata": {
        "execution": {
          "iopub.execute_input": "2023-12-07T09:36:25.841272Z",
          "iopub.status.busy": "2023-12-07T09:36:25.840486Z",
          "iopub.status.idle": "2023-12-07T09:36:26.035026Z",
          "shell.execute_reply": "2023-12-07T09:36:26.033773Z",
          "shell.execute_reply.started": "2023-12-07T09:36:25.841239Z"
        },
        "id": "KhiIzKEDjJWg"
      },
      "outputs": [],
      "source": [
        "# Filling missing values with mode of each column\n",
        "for feature in categorical_features:\n",
        "    df[feature].fillna(df[feature].mode()[0], inplace=True)"
      ]
    },
    {
      "cell_type": "markdown",
      "metadata": {
        "id": "iQKaH1TyjJWg"
      },
      "source": [
        "Note that we did not modify `Location` or the target `RainTomorrow` because there are no missing values for those variables."
      ]
    },
    {
      "cell_type": "code",
      "execution_count": 26,
      "metadata": {
        "execution": {
          "iopub.execute_input": "2023-12-07T09:36:26.037163Z",
          "iopub.status.busy": "2023-12-07T09:36:26.036674Z",
          "iopub.status.idle": "2023-12-07T09:36:26.122986Z",
          "shell.execute_reply": "2023-12-07T09:36:26.121553Z",
          "shell.execute_reply.started": "2023-12-07T09:36:26.037117Z"
        },
        "colab": {
          "base_uri": "https://localhost:8080/"
        },
        "id": "DtXkplcmjJWg",
        "outputId": "a2991d3d-9433-4578-8597-aa7047f39a57"
      },
      "outputs": [
        {
          "output_type": "stream",
          "name": "stdout",
          "text": [
            "Missing Value Count for categorical variables - \n",
            "Location : 0\n",
            "WindGustDir : 0\n",
            "WindDir9am : 0\n",
            "WindDir3pm : 0\n",
            "RainToday : 0\n"
          ]
        }
      ],
      "source": [
        "# Display missing values for categorical variables\n",
        "print(\"Missing Value Count for categorical variables - \")\n",
        "for feature in categorical_features:\n",
        "    print(feature,\":\", df[feature].isnull().sum())"
      ]
    },
    {
      "cell_type": "markdown",
      "metadata": {
        "id": "3HJIJK71jJWg"
      },
      "source": [
        "#### Encoding Variables <a class=\"anchor\" id=\"6.1.3\">\n",
        "Now we must do a label encoding of the categorical variables, so that the neural network can work with them:"
      ]
    },
    {
      "cell_type": "code",
      "execution_count": 27,
      "metadata": {
        "execution": {
          "iopub.execute_input": "2023-12-07T09:36:26.124871Z",
          "iopub.status.busy": "2023-12-07T09:36:26.124465Z",
          "iopub.status.idle": "2023-12-07T09:36:26.362690Z",
          "shell.execute_reply": "2023-12-07T09:36:26.361096Z",
          "shell.execute_reply.started": "2023-12-07T09:36:26.124835Z"
        },
        "colab": {
          "base_uri": "https://localhost:8080/"
        },
        "id": "im9vfb2njJWg",
        "outputId": "9dd64657-7d91-4754-fdce-47d59b0d1580"
      },
      "outputs": [
        {
          "output_type": "stream",
          "name": "stdout",
          "text": [
            "<class 'pandas.core.frame.DataFrame'>\n",
            "Int64Index: 142193 entries, 0 to 145458\n",
            "Data columns (total 25 columns):\n",
            " #   Column         Non-Null Count   Dtype  \n",
            "---  ------         --------------   -----  \n",
            " 0   Location       142193 non-null  int64  \n",
            " 1   MinTemp        141556 non-null  float64\n",
            " 2   MaxTemp        141871 non-null  float64\n",
            " 3   Rainfall       140787 non-null  float64\n",
            " 4   Evaporation    81350 non-null   float64\n",
            " 5   Sunshine       74377 non-null   float64\n",
            " 6   WindGustDir    142193 non-null  int64  \n",
            " 7   WindGustSpeed  132923 non-null  float64\n",
            " 8   WindDir9am     142193 non-null  int64  \n",
            " 9   WindDir3pm     142193 non-null  int64  \n",
            " 10  WindSpeed9am   140845 non-null  float64\n",
            " 11  WindSpeed3pm   139563 non-null  float64\n",
            " 12  Humidity9am    140419 non-null  float64\n",
            " 13  Humidity3pm    138583 non-null  float64\n",
            " 14  Pressure9am    128179 non-null  float64\n",
            " 15  Pressure3pm    128212 non-null  float64\n",
            " 16  Cloud9am       88536 non-null   float64\n",
            " 17  Cloud3pm       85099 non-null   float64\n",
            " 18  Temp9am        141289 non-null  float64\n",
            " 19  Temp3pm        139467 non-null  float64\n",
            " 20  RainToday      142193 non-null  int64  \n",
            " 21  RainTomorrow   142193 non-null  int64  \n",
            " 22  Year           142193 non-null  int64  \n",
            " 23  Month          142193 non-null  int64  \n",
            " 24  Day            142193 non-null  int64  \n",
            "dtypes: float64(16), int64(9)\n",
            "memory usage: 28.2 MB\n"
          ]
        }
      ],
      "source": [
        "# Apply label encoder to each column with categorical data\n",
        "label_encoder = LabelEncoder()\n",
        "for feature in categorical_features:\n",
        "    df[feature] = label_encoder.fit_transform(df[feature])\n",
        "\n",
        "df.info()"
      ]
    },
    {
      "cell_type": "markdown",
      "metadata": {
        "id": "1reOm-p-jJWh"
      },
      "source": [
        "Looks like the categorical features have been encoded properly."
      ]
    },
    {
      "cell_type": "markdown",
      "metadata": {
        "id": "908p9JJmjJWh"
      },
      "source": [
        "### Numerical Features <a class=\"anchor\" id=\"6.2\">\n",
        "Now let's explore the numerical features:"
      ]
    },
    {
      "cell_type": "code",
      "execution_count": 28,
      "metadata": {
        "execution": {
          "iopub.execute_input": "2023-12-07T09:36:26.372168Z",
          "iopub.status.busy": "2023-12-07T09:36:26.371463Z",
          "iopub.status.idle": "2023-12-07T09:36:26.411805Z",
          "shell.execute_reply": "2023-12-07T09:36:26.410432Z",
          "shell.execute_reply.started": "2023-12-07T09:36:26.372126Z"
        },
        "colab": {
          "base_uri": "https://localhost:8080/",
          "height": 261
        },
        "id": "J5lt60-LjJWh",
        "outputId": "4b4f5d33-31e0-4271-ac9b-99f896485508"
      },
      "outputs": [
        {
          "output_type": "stream",
          "name": "stdout",
          "text": [
            "The 16 numerical variables are:\n",
            " ['MinTemp', 'MaxTemp', 'Rainfall', 'Evaporation', 'Sunshine', 'WindGustSpeed', 'WindSpeed9am', 'WindSpeed3pm', 'Humidity9am', 'Humidity3pm', 'Pressure9am', 'Pressure3pm', 'Cloud9am', 'Cloud3pm', 'Temp9am', 'Temp3pm']\n"
          ]
        },
        {
          "output_type": "execute_result",
          "data": {
            "text/plain": [
              "   MinTemp  MaxTemp  Rainfall  Evaporation  Sunshine  WindGustSpeed  \\\n",
              "0     13.4     22.9       0.6          NaN       NaN           44.0   \n",
              "1      7.4     25.1       0.0          NaN       NaN           44.0   \n",
              "2     12.9     25.7       0.0          NaN       NaN           46.0   \n",
              "3      9.2     28.0       0.0          NaN       NaN           24.0   \n",
              "4     17.5     32.3       1.0          NaN       NaN           41.0   \n",
              "\n",
              "   WindSpeed9am  WindSpeed3pm  Humidity9am  Humidity3pm  Pressure9am  \\\n",
              "0          20.0          24.0         71.0         22.0       1007.7   \n",
              "1           4.0          22.0         44.0         25.0       1010.6   \n",
              "2          19.0          26.0         38.0         30.0       1007.6   \n",
              "3          11.0           9.0         45.0         16.0       1017.6   \n",
              "4           7.0          20.0         82.0         33.0       1010.8   \n",
              "\n",
              "   Pressure3pm  Cloud9am  Cloud3pm  Temp9am  Temp3pm  \n",
              "0       1007.1       8.0       NaN     16.9     21.8  \n",
              "1       1007.8       NaN       NaN     17.2     24.3  \n",
              "2       1008.7       NaN       2.0     21.0     23.2  \n",
              "3       1012.8       NaN       NaN     18.1     26.5  \n",
              "4       1006.0       7.0       8.0     17.8     29.7  "
            ],
            "text/html": [
              "\n",
              "  <div id=\"df-504b0099-da09-4e72-b9da-317f90c02f91\" class=\"colab-df-container\">\n",
              "    <div>\n",
              "<style scoped>\n",
              "    .dataframe tbody tr th:only-of-type {\n",
              "        vertical-align: middle;\n",
              "    }\n",
              "\n",
              "    .dataframe tbody tr th {\n",
              "        vertical-align: top;\n",
              "    }\n",
              "\n",
              "    .dataframe thead th {\n",
              "        text-align: right;\n",
              "    }\n",
              "</style>\n",
              "<table border=\"1\" class=\"dataframe\">\n",
              "  <thead>\n",
              "    <tr style=\"text-align: right;\">\n",
              "      <th></th>\n",
              "      <th>MinTemp</th>\n",
              "      <th>MaxTemp</th>\n",
              "      <th>Rainfall</th>\n",
              "      <th>Evaporation</th>\n",
              "      <th>Sunshine</th>\n",
              "      <th>WindGustSpeed</th>\n",
              "      <th>WindSpeed9am</th>\n",
              "      <th>WindSpeed3pm</th>\n",
              "      <th>Humidity9am</th>\n",
              "      <th>Humidity3pm</th>\n",
              "      <th>Pressure9am</th>\n",
              "      <th>Pressure3pm</th>\n",
              "      <th>Cloud9am</th>\n",
              "      <th>Cloud3pm</th>\n",
              "      <th>Temp9am</th>\n",
              "      <th>Temp3pm</th>\n",
              "    </tr>\n",
              "  </thead>\n",
              "  <tbody>\n",
              "    <tr>\n",
              "      <th>0</th>\n",
              "      <td>13.4</td>\n",
              "      <td>22.9</td>\n",
              "      <td>0.6</td>\n",
              "      <td>NaN</td>\n",
              "      <td>NaN</td>\n",
              "      <td>44.0</td>\n",
              "      <td>20.0</td>\n",
              "      <td>24.0</td>\n",
              "      <td>71.0</td>\n",
              "      <td>22.0</td>\n",
              "      <td>1007.7</td>\n",
              "      <td>1007.1</td>\n",
              "      <td>8.0</td>\n",
              "      <td>NaN</td>\n",
              "      <td>16.9</td>\n",
              "      <td>21.8</td>\n",
              "    </tr>\n",
              "    <tr>\n",
              "      <th>1</th>\n",
              "      <td>7.4</td>\n",
              "      <td>25.1</td>\n",
              "      <td>0.0</td>\n",
              "      <td>NaN</td>\n",
              "      <td>NaN</td>\n",
              "      <td>44.0</td>\n",
              "      <td>4.0</td>\n",
              "      <td>22.0</td>\n",
              "      <td>44.0</td>\n",
              "      <td>25.0</td>\n",
              "      <td>1010.6</td>\n",
              "      <td>1007.8</td>\n",
              "      <td>NaN</td>\n",
              "      <td>NaN</td>\n",
              "      <td>17.2</td>\n",
              "      <td>24.3</td>\n",
              "    </tr>\n",
              "    <tr>\n",
              "      <th>2</th>\n",
              "      <td>12.9</td>\n",
              "      <td>25.7</td>\n",
              "      <td>0.0</td>\n",
              "      <td>NaN</td>\n",
              "      <td>NaN</td>\n",
              "      <td>46.0</td>\n",
              "      <td>19.0</td>\n",
              "      <td>26.0</td>\n",
              "      <td>38.0</td>\n",
              "      <td>30.0</td>\n",
              "      <td>1007.6</td>\n",
              "      <td>1008.7</td>\n",
              "      <td>NaN</td>\n",
              "      <td>2.0</td>\n",
              "      <td>21.0</td>\n",
              "      <td>23.2</td>\n",
              "    </tr>\n",
              "    <tr>\n",
              "      <th>3</th>\n",
              "      <td>9.2</td>\n",
              "      <td>28.0</td>\n",
              "      <td>0.0</td>\n",
              "      <td>NaN</td>\n",
              "      <td>NaN</td>\n",
              "      <td>24.0</td>\n",
              "      <td>11.0</td>\n",
              "      <td>9.0</td>\n",
              "      <td>45.0</td>\n",
              "      <td>16.0</td>\n",
              "      <td>1017.6</td>\n",
              "      <td>1012.8</td>\n",
              "      <td>NaN</td>\n",
              "      <td>NaN</td>\n",
              "      <td>18.1</td>\n",
              "      <td>26.5</td>\n",
              "    </tr>\n",
              "    <tr>\n",
              "      <th>4</th>\n",
              "      <td>17.5</td>\n",
              "      <td>32.3</td>\n",
              "      <td>1.0</td>\n",
              "      <td>NaN</td>\n",
              "      <td>NaN</td>\n",
              "      <td>41.0</td>\n",
              "      <td>7.0</td>\n",
              "      <td>20.0</td>\n",
              "      <td>82.0</td>\n",
              "      <td>33.0</td>\n",
              "      <td>1010.8</td>\n",
              "      <td>1006.0</td>\n",
              "      <td>7.0</td>\n",
              "      <td>8.0</td>\n",
              "      <td>17.8</td>\n",
              "      <td>29.7</td>\n",
              "    </tr>\n",
              "  </tbody>\n",
              "</table>\n",
              "</div>\n",
              "    <div class=\"colab-df-buttons\">\n",
              "\n",
              "  <div class=\"colab-df-container\">\n",
              "    <button class=\"colab-df-convert\" onclick=\"convertToInteractive('df-504b0099-da09-4e72-b9da-317f90c02f91')\"\n",
              "            title=\"Convert this dataframe to an interactive table.\"\n",
              "            style=\"display:none;\">\n",
              "\n",
              "  <svg xmlns=\"http://www.w3.org/2000/svg\" height=\"24px\" viewBox=\"0 -960 960 960\">\n",
              "    <path d=\"M120-120v-720h720v720H120Zm60-500h600v-160H180v160Zm220 220h160v-160H400v160Zm0 220h160v-160H400v160ZM180-400h160v-160H180v160Zm440 0h160v-160H620v160ZM180-180h160v-160H180v160Zm440 0h160v-160H620v160Z\"/>\n",
              "  </svg>\n",
              "    </button>\n",
              "\n",
              "  <style>\n",
              "    .colab-df-container {\n",
              "      display:flex;\n",
              "      gap: 12px;\n",
              "    }\n",
              "\n",
              "    .colab-df-convert {\n",
              "      background-color: #E8F0FE;\n",
              "      border: none;\n",
              "      border-radius: 50%;\n",
              "      cursor: pointer;\n",
              "      display: none;\n",
              "      fill: #1967D2;\n",
              "      height: 32px;\n",
              "      padding: 0 0 0 0;\n",
              "      width: 32px;\n",
              "    }\n",
              "\n",
              "    .colab-df-convert:hover {\n",
              "      background-color: #E2EBFA;\n",
              "      box-shadow: 0px 1px 2px rgba(60, 64, 67, 0.3), 0px 1px 3px 1px rgba(60, 64, 67, 0.15);\n",
              "      fill: #174EA6;\n",
              "    }\n",
              "\n",
              "    .colab-df-buttons div {\n",
              "      margin-bottom: 4px;\n",
              "    }\n",
              "\n",
              "    [theme=dark] .colab-df-convert {\n",
              "      background-color: #3B4455;\n",
              "      fill: #D2E3FC;\n",
              "    }\n",
              "\n",
              "    [theme=dark] .colab-df-convert:hover {\n",
              "      background-color: #434B5C;\n",
              "      box-shadow: 0px 1px 3px 1px rgba(0, 0, 0, 0.15);\n",
              "      filter: drop-shadow(0px 1px 2px rgba(0, 0, 0, 0.3));\n",
              "      fill: #FFFFFF;\n",
              "    }\n",
              "  </style>\n",
              "\n",
              "    <script>\n",
              "      const buttonEl =\n",
              "        document.querySelector('#df-504b0099-da09-4e72-b9da-317f90c02f91 button.colab-df-convert');\n",
              "      buttonEl.style.display =\n",
              "        google.colab.kernel.accessAllowed ? 'block' : 'none';\n",
              "\n",
              "      async function convertToInteractive(key) {\n",
              "        const element = document.querySelector('#df-504b0099-da09-4e72-b9da-317f90c02f91');\n",
              "        const dataTable =\n",
              "          await google.colab.kernel.invokeFunction('convertToInteractive',\n",
              "                                                    [key], {});\n",
              "        if (!dataTable) return;\n",
              "\n",
              "        const docLinkHtml = 'Like what you see? Visit the ' +\n",
              "          '<a target=\"_blank\" href=https://colab.research.google.com/notebooks/data_table.ipynb>data table notebook</a>'\n",
              "          + ' to learn more about interactive tables.';\n",
              "        element.innerHTML = '';\n",
              "        dataTable['output_type'] = 'display_data';\n",
              "        await google.colab.output.renderOutput(dataTable, element);\n",
              "        const docLink = document.createElement('div');\n",
              "        docLink.innerHTML = docLinkHtml;\n",
              "        element.appendChild(docLink);\n",
              "      }\n",
              "    </script>\n",
              "  </div>\n",
              "\n",
              "\n",
              "<div id=\"df-97a8b175-b009-431a-a624-f00db15c8f24\">\n",
              "  <button class=\"colab-df-quickchart\" onclick=\"quickchart('df-97a8b175-b009-431a-a624-f00db15c8f24')\"\n",
              "            title=\"Suggest charts\"\n",
              "            style=\"display:none;\">\n",
              "\n",
              "<svg xmlns=\"http://www.w3.org/2000/svg\" height=\"24px\"viewBox=\"0 0 24 24\"\n",
              "     width=\"24px\">\n",
              "    <g>\n",
              "        <path d=\"M19 3H5c-1.1 0-2 .9-2 2v14c0 1.1.9 2 2 2h14c1.1 0 2-.9 2-2V5c0-1.1-.9-2-2-2zM9 17H7v-7h2v7zm4 0h-2V7h2v10zm4 0h-2v-4h2v4z\"/>\n",
              "    </g>\n",
              "</svg>\n",
              "  </button>\n",
              "\n",
              "<style>\n",
              "  .colab-df-quickchart {\n",
              "      --bg-color: #E8F0FE;\n",
              "      --fill-color: #1967D2;\n",
              "      --hover-bg-color: #E2EBFA;\n",
              "      --hover-fill-color: #174EA6;\n",
              "      --disabled-fill-color: #AAA;\n",
              "      --disabled-bg-color: #DDD;\n",
              "  }\n",
              "\n",
              "  [theme=dark] .colab-df-quickchart {\n",
              "      --bg-color: #3B4455;\n",
              "      --fill-color: #D2E3FC;\n",
              "      --hover-bg-color: #434B5C;\n",
              "      --hover-fill-color: #FFFFFF;\n",
              "      --disabled-bg-color: #3B4455;\n",
              "      --disabled-fill-color: #666;\n",
              "  }\n",
              "\n",
              "  .colab-df-quickchart {\n",
              "    background-color: var(--bg-color);\n",
              "    border: none;\n",
              "    border-radius: 50%;\n",
              "    cursor: pointer;\n",
              "    display: none;\n",
              "    fill: var(--fill-color);\n",
              "    height: 32px;\n",
              "    padding: 0;\n",
              "    width: 32px;\n",
              "  }\n",
              "\n",
              "  .colab-df-quickchart:hover {\n",
              "    background-color: var(--hover-bg-color);\n",
              "    box-shadow: 0 1px 2px rgba(60, 64, 67, 0.3), 0 1px 3px 1px rgba(60, 64, 67, 0.15);\n",
              "    fill: var(--button-hover-fill-color);\n",
              "  }\n",
              "\n",
              "  .colab-df-quickchart-complete:disabled,\n",
              "  .colab-df-quickchart-complete:disabled:hover {\n",
              "    background-color: var(--disabled-bg-color);\n",
              "    fill: var(--disabled-fill-color);\n",
              "    box-shadow: none;\n",
              "  }\n",
              "\n",
              "  .colab-df-spinner {\n",
              "    border: 2px solid var(--fill-color);\n",
              "    border-color: transparent;\n",
              "    border-bottom-color: var(--fill-color);\n",
              "    animation:\n",
              "      spin 1s steps(1) infinite;\n",
              "  }\n",
              "\n",
              "  @keyframes spin {\n",
              "    0% {\n",
              "      border-color: transparent;\n",
              "      border-bottom-color: var(--fill-color);\n",
              "      border-left-color: var(--fill-color);\n",
              "    }\n",
              "    20% {\n",
              "      border-color: transparent;\n",
              "      border-left-color: var(--fill-color);\n",
              "      border-top-color: var(--fill-color);\n",
              "    }\n",
              "    30% {\n",
              "      border-color: transparent;\n",
              "      border-left-color: var(--fill-color);\n",
              "      border-top-color: var(--fill-color);\n",
              "      border-right-color: var(--fill-color);\n",
              "    }\n",
              "    40% {\n",
              "      border-color: transparent;\n",
              "      border-right-color: var(--fill-color);\n",
              "      border-top-color: var(--fill-color);\n",
              "    }\n",
              "    60% {\n",
              "      border-color: transparent;\n",
              "      border-right-color: var(--fill-color);\n",
              "    }\n",
              "    80% {\n",
              "      border-color: transparent;\n",
              "      border-right-color: var(--fill-color);\n",
              "      border-bottom-color: var(--fill-color);\n",
              "    }\n",
              "    90% {\n",
              "      border-color: transparent;\n",
              "      border-bottom-color: var(--fill-color);\n",
              "    }\n",
              "  }\n",
              "</style>\n",
              "\n",
              "  <script>\n",
              "    async function quickchart(key) {\n",
              "      const quickchartButtonEl =\n",
              "        document.querySelector('#' + key + ' button');\n",
              "      quickchartButtonEl.disabled = true;  // To prevent multiple clicks.\n",
              "      quickchartButtonEl.classList.add('colab-df-spinner');\n",
              "      try {\n",
              "        const charts = await google.colab.kernel.invokeFunction(\n",
              "            'suggestCharts', [key], {});\n",
              "      } catch (error) {\n",
              "        console.error('Error during call to suggestCharts:', error);\n",
              "      }\n",
              "      quickchartButtonEl.classList.remove('colab-df-spinner');\n",
              "      quickchartButtonEl.classList.add('colab-df-quickchart-complete');\n",
              "    }\n",
              "    (() => {\n",
              "      let quickchartButtonEl =\n",
              "        document.querySelector('#df-97a8b175-b009-431a-a624-f00db15c8f24 button');\n",
              "      quickchartButtonEl.style.display =\n",
              "        google.colab.kernel.accessAllowed ? 'block' : 'none';\n",
              "    })();\n",
              "  </script>\n",
              "</div>\n",
              "    </div>\n",
              "  </div>\n"
            ]
          },
          "metadata": {},
          "execution_count": 28
        }
      ],
      "source": [
        "# non-categorical variables are numerical variables\n",
        "numerical = [var for var in df.columns if var not in categorical]\n",
        "\n",
        "# Exclude specific columns from the list\n",
        "columns_to_exclude = ['Year', 'Month', 'Day', 'RainTomorrow']\n",
        "numerical = [col for col in numerical if col not in columns_to_exclude]\n",
        "\n",
        "print('The {} numerical variables are:\\n'.format(len(numerical)), numerical)\n",
        "df[numerical].head()"
      ]
    },
    {
      "cell_type": "markdown",
      "metadata": {
        "id": "rHc4FdGkjJWh"
      },
      "source": [
        "#### Numerical Feature Summary  <a class=\"anchor\" id=\"6.2.1\"></a>\n",
        "\n",
        "\n",
        "- There are 16 numerical features.\n",
        "\n",
        "\n",
        "- These are given by `MinTemp`, `MaxTemp`, `Rainfall`, `Evaporation`, `Sunshine`, `WindGustSpeed`, `WindSpeed9am`, `WindSpeed3pm`, `Humidity9am`, `Humidity3pm`, `Pressure9am`, `Pressure3pm`, `Cloud9am`, `Cloud3pm`, `Temp9am` and `Temp3pm`.\n",
        "\n",
        "\n",
        "- All of the numerical variables are of continuous type.\n",
        "- There are some outliers (refer to Initial Overview) and missing values we must handle."
      ]
    },
    {
      "cell_type": "markdown",
      "metadata": {
        "id": "6KhsxwEgjJWh"
      },
      "source": [
        "#### Handling Missing Values <a class=\"anchor\" id=\"6.2.2\"></a>"
      ]
    },
    {
      "cell_type": "code",
      "execution_count": 29,
      "metadata": {
        "execution": {
          "iopub.execute_input": "2023-12-07T09:36:26.414475Z",
          "iopub.status.busy": "2023-12-07T09:36:26.413599Z",
          "iopub.status.idle": "2023-12-07T09:36:26.435761Z",
          "shell.execute_reply": "2023-12-07T09:36:26.434566Z",
          "shell.execute_reply.started": "2023-12-07T09:36:26.414436Z"
        },
        "colab": {
          "base_uri": "https://localhost:8080/"
        },
        "id": "IsugKw-ZjJWi",
        "outputId": "43ad7017-5eed-47d7-f4b1-918663eea91e"
      },
      "outputs": [
        {
          "output_type": "execute_result",
          "data": {
            "text/plain": [
              "MinTemp            637\n",
              "MaxTemp            322\n",
              "Rainfall          1406\n",
              "Evaporation      60843\n",
              "Sunshine         67816\n",
              "WindGustSpeed     9270\n",
              "WindSpeed9am      1348\n",
              "WindSpeed3pm      2630\n",
              "Humidity9am       1774\n",
              "Humidity3pm       3610\n",
              "Pressure9am      14014\n",
              "Pressure3pm      13981\n",
              "Cloud9am         53657\n",
              "Cloud3pm         57094\n",
              "Temp9am            904\n",
              "Temp3pm           2726\n",
              "dtype: int64"
            ]
          },
          "metadata": {},
          "execution_count": 29
        }
      ],
      "source": [
        "# check missing values in numerical variables\n",
        "df[numerical].isnull().sum()"
      ]
    },
    {
      "cell_type": "markdown",
      "metadata": {
        "id": "MtAoZwuRjJWi"
      },
      "source": [
        "Looks like all of the numerical features have missing values. Two ways to handle these are to median inputation or random sample imputation. Since there are outliers in our data, we can use median imputation to replace the missing values with the feature medians which are robust to outliers:"
      ]
    },
    {
      "cell_type": "code",
      "execution_count": 30,
      "metadata": {
        "execution": {
          "iopub.execute_input": "2023-12-07T09:36:26.438015Z",
          "iopub.status.busy": "2023-12-07T09:36:26.437485Z",
          "iopub.status.idle": "2023-12-07T09:36:26.514918Z",
          "shell.execute_reply": "2023-12-07T09:36:26.513452Z",
          "shell.execute_reply.started": "2023-12-07T09:36:26.437980Z"
        },
        "colab": {
          "base_uri": "https://localhost:8080/"
        },
        "id": "KnF0QOqljJWi",
        "outputId": "291209ba-c2ca-4a12-fbe6-920841c9117a"
      },
      "outputs": [
        {
          "output_type": "execute_result",
          "data": {
            "text/plain": [
              "MinTemp          0\n",
              "MaxTemp          0\n",
              "Rainfall         0\n",
              "Evaporation      0\n",
              "Sunshine         0\n",
              "WindGustSpeed    0\n",
              "WindSpeed9am     0\n",
              "WindSpeed3pm     0\n",
              "Humidity9am      0\n",
              "Humidity3pm      0\n",
              "Pressure9am      0\n",
              "Pressure3pm      0\n",
              "Cloud9am         0\n",
              "Cloud3pm         0\n",
              "Temp9am          0\n",
              "Temp3pm          0\n",
              "dtype: int64"
            ]
          },
          "metadata": {},
          "execution_count": 30
        }
      ],
      "source": [
        "# for each feature, replace missing values with median\n",
        "for feature in numerical:\n",
        "    df[feature].fillna(df[feature].median(), inplace=True)\n",
        "\n",
        "# verify that there are no missing values\n",
        "df[numerical].isnull().sum()"
      ]
    },
    {
      "cell_type": "markdown",
      "metadata": {
        "id": "9ZpFI2qTjJWi"
      },
      "source": [
        "#### Scaling Features <a class=\"anchor\" id=\"6.2.3\"></a>"
      ]
    },
    {
      "cell_type": "code",
      "execution_count": 31,
      "metadata": {
        "execution": {
          "iopub.execute_input": "2023-12-07T09:36:26.516630Z",
          "iopub.status.busy": "2023-12-07T09:36:26.516239Z",
          "iopub.status.idle": "2023-12-07T09:36:26.837911Z",
          "shell.execute_reply": "2023-12-07T09:36:26.836560Z",
          "shell.execute_reply.started": "2023-12-07T09:36:26.516597Z"
        },
        "colab": {
          "base_uri": "https://localhost:8080/"
        },
        "id": "gqcMNIRrjJWj",
        "outputId": "2d0818bc-c852-4941-9768-d6377561e32a"
      },
      "outputs": [
        {
          "output_type": "stream",
          "name": "stdout",
          "text": [
            "                  count          mean       std       min       25%       50%  \\\n",
            "Location       142193.0  2.398575e-17  1.000004 -1.667479 -0.894869  0.018216   \n",
            "MinTemp        142193.0  3.166118e-16  1.000004 -3.237728 -0.717738 -0.029045   \n",
            "MaxTemp        142193.0  3.421966e-16  1.000004 -3.941909 -0.749039 -0.087961   \n",
            "Rainfall       142193.0  8.594892e-17  1.000004 -0.276125 -0.276125 -0.276125   \n",
            "Evaporation    142193.0 -1.071363e-16  1.000004 -1.627183 -0.371450 -0.120303   \n",
            "Sunshine       142193.0  7.259686e-16  1.000004 -2.903725  0.056962  0.165280   \n",
            "WindGustDir    142193.0 -1.471126e-16  1.000004 -1.716789 -0.864683  0.200450   \n",
            "WindGustSpeed  142193.0  1.778943e-16  1.000004 -2.581325 -0.678822 -0.070021   \n",
            "WindDir9am     142193.0 -5.756579e-17  1.000004 -1.550574 -0.886072 -0.000070   \n",
            "WindDir3pm     142193.0  3.837719e-17  1.000004 -1.713146 -0.833311  0.046525   \n",
            "WindSpeed9am   142193.0 -7.915296e-17  1.000004 -1.580789 -0.789970 -0.112126   \n",
            "WindSpeed3pm   142193.0  1.087354e-16  1.000004 -2.137699 -0.647157  0.040786   \n",
            "Humidity9am    142193.0  7.355629e-17  1.000004 -3.637049 -0.626345  0.060307   \n",
            "Humidity3pm    142193.0 -8.315058e-17  1.000004 -2.508053 -0.706002  0.024559   \n",
            "Pressure9am    142193.0 -4.470943e-15  1.000004 -5.506540 -0.614929 -0.007183   \n",
            "Pressure3pm    142193.0 -9.199333e-15  1.000004 -5.709922 -0.636429 -0.007854   \n",
            "Cloud9am       142193.0  1.495111e-16  1.000004 -2.026530 -0.718970  0.152737   \n",
            "Cloud3pm       142193.0 -1.850900e-16  1.000004 -2.219548 -0.331638  0.140339   \n",
            "Temp9am        142193.0 -2.398575e-16  1.000004 -3.736866 -0.723972 -0.044140   \n",
            "Temp3pm        142193.0  4.797149e-17  1.000004 -3.940491 -0.724177 -0.083825   \n",
            "RainToday      142193.0 -1.207283e-16  1.000004 -0.532962 -0.532962 -0.532962   \n",
            "RainTomorrow   142193.0  2.241812e-01  0.417043  0.000000  0.000000  0.000000   \n",
            "Year           142193.0 -3.597222e-14  1.000004 -2.266181 -0.692151  0.094864   \n",
            "Month          142193.0  8.145159e-17  1.000004 -1.576698 -0.993011 -0.117480   \n",
            "Day            142193.0  7.718538e-17  1.000004 -1.672526 -0.876902  0.032384   \n",
            "\n",
            "                    75%        max  \n",
            "Location       0.861063   1.703910  \n",
            "MinTemp        0.722257   3.398768  \n",
            "MaxTemp        0.699708   3.498743  \n",
            "Rainfall      -0.204920  43.752188  \n",
            "Evaporation    0.068057  43.893144  \n",
            "Sunshine       0.237492   2.331636  \n",
            "WindGustDir    1.052556   1.478609  \n",
            "WindGustSpeed  0.462679   7.235589  \n",
            "WindDir9am     0.885932   1.771934  \n",
            "WindDir3pm     0.926360   1.586236  \n",
            "WindSpeed9am   0.565719  13.105849  \n",
            "WindSpeed3pm   0.614071   7.837469  \n",
            "Humidity9am    0.746959   1.644889  \n",
            "Humidity3pm    0.657713   2.362356  \n",
            "Pressure9am    0.615385   3.461414  \n",
            "Pressure3pm    0.620720   3.643864  \n",
            "Cloud9am       0.588591   1.896151  \n",
            "Cloud3pm       0.612316   2.028248  \n",
            "Temp9am        0.697496   3.586783  \n",
            "Temp3pm        0.672955   3.641861  \n",
            "RainToday     -0.532962   1.876305  \n",
            "RainTomorrow   0.000000   1.000000  \n",
            "Year           0.881880   1.668895  \n",
            "Month          0.758051   1.633581  \n",
            "Day            0.828008   1.737293  \n"
          ]
        }
      ],
      "source": [
        "target = df['RainTomorrow']\n",
        "\n",
        "# Select only the columns to be scaled (excluding 'RainTomorrow')\n",
        "cols_to_scale = df.columns[df.columns != 'RainTomorrow']\n",
        "\n",
        "# Set up a standard scaler for the selected columns\n",
        "std_scaler = preprocessing.StandardScaler()\n",
        "\n",
        "# Scale the selected columns and create a DataFrame with the scaled values\n",
        "scaled_features = std_scaler.fit_transform(df[cols_to_scale])\n",
        "df[cols_to_scale] = scaled_features\n",
        "\n",
        "# Verify the changes\n",
        "print(df.describe().T)"
      ]
    },
    {
      "cell_type": "markdown",
      "metadata": {
        "id": "BRjkk2yqjJWj"
      },
      "source": [
        "#### Handling Outliers <a class=\"anchor\" id=\"6.2.4\"></a>\n",
        "Using a boxplot to visualize outliers:"
      ]
    },
    {
      "cell_type": "code",
      "execution_count": 32,
      "metadata": {
        "execution": {
          "iopub.execute_input": "2023-12-07T09:36:26.840294Z",
          "iopub.status.busy": "2023-12-07T09:36:26.839726Z",
          "iopub.status.idle": "2023-12-07T09:36:28.508087Z",
          "shell.execute_reply": "2023-12-07T09:36:28.506948Z",
          "shell.execute_reply.started": "2023-12-07T09:36:26.840259Z"
        },
        "colab": {
          "base_uri": "https://localhost:8080/",
          "height": 787
        },
        "id": "gssqYXdtjJWj",
        "outputId": "03c5b7e2-1ff8-4476-cfcc-a5b989120659"
      },
      "outputs": [
        {
          "output_type": "display_data",
          "data": {
            "text/plain": [
              "<Figure size 2000x1200 with 1 Axes>"
            ],
            "image/png": "[encoded data removed]"
          },
          "metadata": {}
        }
      ],
      "source": [
        "#looking at the scaled features\n",
        "colors = [\"#ff6666\", \"#ffbd55\", \"#ffff66\", \"#9de24f\", \"#87cefa\", '#C8A8CB']\n",
        "plt.figure(figsize=(20,12))\n",
        "sns.boxenplot(data = df,palette = colors)\n",
        "plt.xticks(rotation=90)\n",
        "plt.show()"
      ]
    },
    {
      "cell_type": "markdown",
      "metadata": {
        "id": "eFclGO5tjJWj"
      },
      "source": [
        "Let's drop outliers based on the IQR (Inter Quartile Range):"
      ]
    },
    {
      "cell_type": "code",
      "execution_count": 33,
      "metadata": {
        "execution": {
          "iopub.execute_input": "2023-12-07T09:36:28.509616Z",
          "iopub.status.busy": "2023-12-07T09:36:28.509198Z",
          "iopub.status.idle": "2023-12-07T09:36:28.780163Z",
          "shell.execute_reply": "2023-12-07T09:36:28.778824Z",
          "shell.execute_reply.started": "2023-12-07T09:36:28.509581Z"
        },
        "id": "8KwWUaAAjJWk"
      },
      "outputs": [],
      "source": [
        "for col in ['WindSpeed9am', 'WindSpeed3pm', \"Pressure9am\", \"Pressure3pm\", \"Temp9am\",\n",
        "            \"Temp3pm\", \"WindGustSpeed\", \"MaxTemp\", \"MinTemp\", \"Humidity3pm\", \"Humidity9am\"]:\n",
        "    q1=np.quantile(df[col],0.25)\n",
        "    q3=np.quantile(df[col],0.75)\n",
        "    iqr=q3-q1\n",
        "\n",
        "    lower=round(q1-1.5*iqr,2)\n",
        "    upper=round(q3+1.5*iqr,2)\n",
        "    df=df[(df[col]<upper)&(df[col]>lower)]\n",
        "\n",
        "# removing the single-sided outliers manually\n",
        "df = df[(df[\"Rainfall\"]<4)]\n",
        "df = df[(df[\"Evaporation\"]<6)]\n",
        "df = df[(df[\"Sunshine\"]<2.1)]\n",
        "df = df[(df[\"Humidity9am\"]>-3)]\n",
        "df = df[(df[\"Humidity3pm\"]>-2.2)]\n",
        "df = df[(df[\"Cloud9am\"]<1.8)]\n",
        "df = df[(df[\"Cloud3pm\"]<2)]"
      ]
    },
    {
      "cell_type": "code",
      "execution_count": 34,
      "metadata": {
        "execution": {
          "iopub.execute_input": "2023-12-07T09:36:28.782490Z",
          "iopub.status.busy": "2023-12-07T09:36:28.781939Z",
          "iopub.status.idle": "2023-12-07T09:36:30.150376Z",
          "shell.execute_reply": "2023-12-07T09:36:30.149191Z",
          "shell.execute_reply.started": "2023-12-07T09:36:28.782449Z"
        },
        "colab": {
          "base_uri": "https://localhost:8080/",
          "height": 675
        },
        "id": "QpA4wUV_jJWk",
        "outputId": "d9586967-b988-41c1-a3fd-88da7c4cf8b8"
      },
      "outputs": [
        {
          "output_type": "display_data",
          "data": {
            "text/plain": [
              "<Figure size 2000x1000 with 1 Axes>"
            ],
            "image/png": "[encoded data removed]"
          },
          "metadata": {}
        }
      ],
      "source": [
        "#looking at the scaled features without outliers\n",
        "\n",
        "colors = [\"#ff6666\", \"#ffbd55\", \"#ffff66\", \"#9de24f\", \"#87cefa\", '#C8A8CB']\n",
        "plt.figure(figsize=(20,10))\n",
        "sns.boxenplot(data = df,palette = colors)\n",
        "plt.xticks(rotation=90)\n",
        "plt.show()"
      ]
    },
    {
      "cell_type": "markdown",
      "metadata": {
        "id": "uINH7mamjJWk"
      },
      "source": [
        "Looks good. Now we can split the data in training and testing sets.\n",
        "\n",
        "### Splitting the Dataset <a class=\"anchor\" id=\"7.2\"></a>"
      ]
    },
    {
      "cell_type": "code",
      "execution_count": 35,
      "metadata": {
        "execution": {
          "iopub.execute_input": "2023-12-07T09:36:30.152140Z",
          "iopub.status.busy": "2023-12-07T09:36:30.151783Z",
          "iopub.status.idle": "2023-12-07T09:36:30.194391Z",
          "shell.execute_reply": "2023-12-07T09:36:30.192886Z",
          "shell.execute_reply.started": "2023-12-07T09:36:30.152110Z"
        },
        "id": "PPau-PWkjJWk"
      },
      "outputs": [],
      "source": [
        "X = df.drop(['RainTomorrow'], axis=1)\n",
        "y = df[\"RainTomorrow\"]\n",
        "\n",
        "# Splitting the test and training sets\n",
        "X_train, X_test, y_train, y_test = train_test_split(X, y, test_size = 0.2, random_state = 42)"
      ]
    },
    {
      "cell_type": "markdown",
      "metadata": {
        "id": "mD2Eo0kOjJWl"
      },
      "source": [
        "## 7. Feature Analysis (Multivariate Analysis)<a class=\"anchor\" id=\"7\"></a>\n",
        "To see what features are most relevant to predicting whether it will rain tomorrow, we can use a heatmap to visualize the correlation matrix between the features and target variable."
      ]
    },
    {
      "cell_type": "markdown",
      "metadata": {
        "id": "NwFgwXB9jJWl"
      },
      "source": [
        "### Heatmap <a class=\"anchor\" id=\"7.1\"></a>"
      ]
    },
    {
      "cell_type": "code",
      "execution_count": 36,
      "metadata": {
        "execution": {
          "iopub.execute_input": "2023-12-07T09:36:30.196293Z",
          "iopub.status.busy": "2023-12-07T09:36:30.195923Z",
          "iopub.status.idle": "2023-12-07T09:36:31.166483Z",
          "shell.execute_reply": "2023-12-07T09:36:31.165159Z",
          "shell.execute_reply.started": "2023-12-07T09:36:30.196261Z"
        },
        "colab": {
          "base_uri": "https://localhost:8080/",
          "height": 1000
        },
        "id": "sWtqz1U3jJWl",
        "outputId": "47a52aae-90ab-4c99-efaf-3836a45daff3"
      },
      "outputs": [
        {
          "output_type": "display_data",
          "data": {
            "text/plain": [
              "<Figure size 1200x1200 with 2 Axes>"
            ],
            "image/png": "[encoded data removed]"
          },
          "metadata": {}
        }
      ],
      "source": [
        "train=pd.concat([X_train,y_train],axis=1,join=\"inner\")\n",
        "test=pd.concat([X_test,y_test],axis=1,join=\"inner\")\n",
        "col=['MinTemp', 'MaxTemp', 'WindSpeed9am','WindSpeed3pm',\n",
        "     'Humidity9am','Humidity3pm', 'Pressure9am', 'Pressure3pm',\n",
        "     'Cloud9am', 'Cloud3pm','Temp9am', 'Temp3pm','RainTomorrow']\n",
        "\n",
        "plt.figure(figsize=(12,12))\n",
        "ax= sns.heatmap(train[col].corr(),annot=True);\n",
        "plt.show()"
      ]
    },
    {
      "cell_type": "markdown",
      "metadata": {
        "id": "jy7ckzZijJWl"
      },
      "source": [
        "#### Heapmap Interpretation <a class=\"anchor\" id=\"7.1.1\"></a>\n",
        "\n",
        "\n",
        "From the above correlation heat map, we can conclude that :-\n",
        "- The variables related to temperature, pressure, and clouds are strongly correlated with one another.\n",
        "- The variables that seem most correlated with the target are `MaxTemp`, `Temp3pm`, and `Humidity 3pm` as their absolute value is higher.\n",
        "- It's hard to say that any feature should be excluded from our data because there may be hidden relationships that are relevant to our prediction for the target."
      ]
    },
    {
      "cell_type": "markdown",
      "metadata": {
        "id": "GYHvdlgrjJWm"
      },
      "source": [
        "## Deep Neural Network Concepts <a class=\"anchor\" id=\"8\">\n",
        "    \n",
        "In the following section I will summarize key concepts of deep neural networks, focusing on model architectures relevant to time-series data. I will also explain the advantages of using deep neural networks when making sense of complex patterns that exist within in data, including the dataset at hand.\n",
        "    \n",
        "### Concepts Overview <a class=\"anchor\" id=\"8.1\">\n",
        "   \n",
        "To understand a deep neural network, it may be useful to go over neural networks in general. **Neural Networks** are composed of **layers of neurons** that take after biological neurons like in our brains. Each **neuron** applies an activation function to its input, determining the output response. The **layers** consist of the input layer, hidden layers, and output layers. The input layer is the first layer that takes the data, the hidden layers process the output of the first layer, and the output layer produces the predictions. The term 'hidden' refers to how the output of the layers are not directly observed in the training data. Neural networks also have **weights and biases**. The weights are parameters that the network learns during training, which determines how connected the neurons are. The biases are additional parameters that can allow neurons to activate even when the input is negligible. To update these parameters, a technique called backpropagation is used, which involves a **gradient descent** algorithm using partial differentiation. This is to compute the gradients of the **loss function** with respect to the weights and biases. The **loss function** is used to measure the difference between the predictions and actual target values.\n",
        "\n",
        "To give a basic description of **deep neural networks**, they are neural netowrks with multiple hidden layers. There are several types of deep neural networks, and one that is useful for processing time-series data is a **recurrent neural network (RNN)**. Some types of RNNs are Gated Reccurent Unit (GRU) or Long Short-Term Memory (LSTM). The one we will implement in this notebook is an LSTM, which uses memory cells that store and retrieve information over long sequences, and is particularly useful for addressing the **vanishing gradient problem**. This problem exists for other models where the gradients involved become too small to work with. The **LSTM** is particularly useful for capturing long-term relationships, which is relevant for time-series data (i.e. the Rain in Australia dataset).\n",
        "    \n",
        "### Concepts Overview <a class=\"anchor\" id=\"8.2\">\n",
        "    \n",
        "Alongside that advantage, deep neural networks have several advantages for processing data with complex relationships:\n",
        "- Feature learning: automatically extracts relevant features in the data, reducing the need for manual data processing and feature engineering.\n",
        "- Non-linearity: they can capture non-linear relationships in the data.\n",
        "- Adaptibility: effective in adapting to varying patterns and trends over time."
      ]
    },
    {
      "cell_type": "markdown",
      "metadata": {
        "id": "LxvZM1eRjJWn"
      },
      "source": [
        "## Model Development <a class=\"anchor\" id=\"9\"></a>\n",
        "    \n",
        "Let's use pytorch to build a LSTM model that will be trained using our scaled and processed dataset. First, we need to convert our split dataset into tensors so that the model can use them. Tensors are multi-dimensional matrices that represent data of different types."
      ]
    },
    {
      "cell_type": "code",
      "execution_count": 37,
      "metadata": {
        "id": "rY9vgSObjJWn"
      },
      "outputs": [],
      "source": [
        "X_train = torch.from_numpy(X_train.to_numpy()).float()\n",
        "y_train = torch.squeeze(torch.from_numpy(y_train.to_numpy()).float())\n",
        "X_test = torch.from_numpy(X_test.to_numpy()).float()\n",
        "y_test = torch.squeeze(torch.from_numpy(y_test.to_numpy()).float())"
      ]
    },
    {
      "cell_type": "markdown",
      "metadata": {
        "id": "RXDRt5q1jJWn"
      },
      "source": [
        "### Model Architecture <a class=\"anchor\" id=\"9.1\"></a>\n",
        "Now let us define a function to build a LSTM deep learning neural network using pytorch. The LSTM will have the following architecture:\n",
        "- Input Layer: LSTM layer with input shape that matches the number of features (22) and has `hidden_size` hidden units. This layer has a dropout rate of `dropout_rate`\n",
        "- Second layer: LSTM layer with input size `hidden_size` and output size of half that of `hidden_size`. This layer has a dropout rate of `dropout_rate`\n",
        "- Third layer: Fully connected layer with input size half of `hidden_size` and an output size of a fourth of `hidden_size`. This layer's activation function is recified linear units, which is standard for fully connected layers.\n",
        "- Fourth layer: Fully connnected layer with an input size that is a fourth of the `hidden_size`, and an output size of 1. This layer's activation function is a sigmoid function that turns the output value into the final binary prediction."
      ]
    },
    {
      "cell_type": "code",
      "execution_count": 38,
      "metadata": {
        "execution": {
          "iopub.execute_input": "2023-12-07T09:46:21.489122Z",
          "iopub.status.busy": "2023-12-07T09:46:21.485979Z",
          "iopub.status.idle": "2023-12-07T09:46:21.503292Z",
          "shell.execute_reply": "2023-12-07T09:46:21.501954Z",
          "shell.execute_reply.started": "2023-12-07T09:46:21.489016Z"
        },
        "id": "UwBO96AXjJWn"
      },
      "outputs": [],
      "source": [
        "# class to make an lstm with the arguments for number of features, hidden unit size, and dropout rate\n",
        "class LSTM(nn.Module):\n",
        "    def __init__(self, n_features, hidden_size, dropout_rate, num_layers):\n",
        "        super(LSTM, self).__init__()\n",
        "        self.lstm1 = nn.LSTM(input_size=n_features, hidden_size=hidden_size, num_layers=num_layers, batch_first=True, dropout=dropout_rate)\n",
        "        self.fc1 = nn.Linear(hidden_size, hidden_size//2)\n",
        "        self.fc2 = nn.Linear(hidden_size//2, 1)\n",
        "    def forward(self, x):\n",
        "        x, _ = self.lstm1(x)\n",
        "        x = func.relu(self.fc1(x))\n",
        "        return torch.sigmoid(self.fc2(x))"
      ]
    },
    {
      "cell_type": "code",
      "execution_count": 39,
      "metadata": {
        "execution": {
          "iopub.execute_input": "2023-12-07T09:46:21.655420Z",
          "iopub.status.busy": "2023-12-07T09:46:21.654946Z",
          "iopub.status.idle": "2023-12-07T09:46:21.666221Z",
          "shell.execute_reply": "2023-12-07T09:46:21.664884Z",
          "shell.execute_reply.started": "2023-12-07T09:46:21.655384Z"
        },
        "id": "r1_GrbAgjJWn"
      },
      "outputs": [],
      "source": [
        "# getting number of features in training set\n",
        "num_samples, num_features = X_train.size()\n",
        "\n",
        "# example of creating a LSTM model with training data shape, 100 hidden_units, a dropout rate of 0.3, and one layer\n",
        "model = LSTM(num_features, 100, 0.3, 1)"
      ]
    },
    {
      "cell_type": "code",
      "execution_count": 40,
      "metadata": {
        "execution": {
          "iopub.execute_input": "2023-12-07T09:46:21.823382Z",
          "iopub.status.busy": "2023-12-07T09:46:21.822954Z",
          "iopub.status.idle": "2023-12-07T09:46:21.830951Z",
          "shell.execute_reply": "2023-12-07T09:46:21.829711Z",
          "shell.execute_reply.started": "2023-12-07T09:46:21.823350Z"
        },
        "id": "UY6RSJJGjJWn"
      },
      "outputs": [],
      "source": [
        "# our loss criteria is Binary Cross-Entropy, as it's appropriate for binary classification tasks.\n",
        "criterion = nn.BCELoss()\n",
        "\n",
        "# we use Adam as our optimization algorithm with a learning rate of 0.01\n",
        "optimiser = optim.Adam(model.parameters(), lr = 0.01)\n",
        "\n",
        "# checking for gpu\n",
        "device = torch.device('cuda:0' if torch.cuda.is_available() else 'cpu')\n",
        "X_train = X_train.to(device)\n",
        "y_train = y_train.to(device)\n",
        "\n",
        "X_test = X_test.to(device)\n",
        "y_test = y_test.to(device)\n",
        "\n",
        "model = model.to(device)\n",
        "\n",
        "# define the loss function to compare the output with the target\n",
        "criterion = criterion.to(device)"
      ]
    },
    {
      "cell_type": "code",
      "execution_count": 41,
      "metadata": {
        "execution": {
          "iopub.execute_input": "2023-12-07T09:46:21.963428Z",
          "iopub.status.busy": "2023-12-07T09:46:21.962978Z",
          "iopub.status.idle": "2023-12-07T09:46:21.970458Z",
          "shell.execute_reply": "2023-12-07T09:46:21.968973Z",
          "shell.execute_reply.started": "2023-12-07T09:46:21.963394Z"
        },
        "id": "3hGRyugojJWo"
      },
      "outputs": [],
      "source": [
        "# defining a function to calculate the accuracy for predictions\n",
        "def calculate_accuracy(y_true, y_pred):\n",
        "    # take values >= 0.5 to be 1, which means it will rain tomorrow\n",
        "    predicted = y_pred.ge(.5).view(-1)\n",
        "    # return the accuracy as a percentage\n",
        "    return (y_true == predicted).sum().float() / len(y_true)"
      ]
    },
    {
      "cell_type": "code",
      "execution_count": 42,
      "metadata": {
        "execution": {
          "iopub.execute_input": "2023-12-07T09:46:22.279935Z",
          "iopub.status.busy": "2023-12-07T09:46:22.279461Z",
          "iopub.status.idle": "2023-12-07T09:46:22.286025Z",
          "shell.execute_reply": "2023-12-07T09:46:22.285028Z",
          "shell.execute_reply.started": "2023-12-07T09:46:22.279900Z"
        },
        "id": "g2ssr6KyjJWo"
      },
      "outputs": [],
      "source": [
        "# round tensor for readability\n",
        "def round_tensor(t, decimal_places = 3):\n",
        "    return round(t.item(), decimal_places)"
      ]
    },
    {
      "cell_type": "markdown",
      "metadata": {
        "id": "sns0FUhxjJWo"
      },
      "source": [
        "### Model Training and Validation <a class=\"anchor\" id=\"9.2\">\n",
        "    \n",
        "Let's train our model above on our training data, and see its accuracy using the validation set:"
      ]
    },
    {
      "cell_type": "code",
      "execution_count": 43,
      "metadata": {
        "execution": {
          "iopub.execute_input": "2023-12-07T09:46:23.174866Z",
          "iopub.status.busy": "2023-12-07T09:46:23.174437Z",
          "iopub.status.idle": "2023-12-07T09:48:14.615173Z",
          "shell.execute_reply": "2023-12-07T09:48:14.613144Z",
          "shell.execute_reply.started": "2023-12-07T09:46:23.174833Z"
        },
        "colab": {
          "base_uri": "https://localhost:8080/"
        },
        "id": "NyJncdb-jJWo",
        "outputId": "d03394f9-1bed-4479-83e4-f4500fb0f3da"
      },
      "outputs": [
        {
          "output_type": "stream",
          "name": "stdout",
          "text": [
            "epoch 0 - loss: 0.658, accuracy: 0.793\n",
            "epoch 5 - loss: 0.472, accuracy: 0.793\n",
            "epoch 10 - loss: 0.414, accuracy: 0.808\n",
            "epoch 15 - loss: 0.384, accuracy: 0.832\n",
            "epoch 20 - loss: 0.38, accuracy: 0.829\n",
            "epoch 25 - loss: 0.367, accuracy: 0.842\n",
            "epoch 30 - loss: 0.361, accuracy: 0.844\n",
            "epoch 35 - loss: 0.358, accuracy: 0.847\n",
            "epoch 40 - loss: 0.356, accuracy: 0.848\n",
            "epoch 45 - loss: 0.353, accuracy: 0.85\n",
            "epoch 50 - loss: 0.349, accuracy: 0.85\n",
            "epoch 55 - loss: 0.347, accuracy: 0.851\n",
            "epoch 60 - loss: 0.346, accuracy: 0.852\n",
            "epoch 65 - loss: 0.344, accuracy: 0.852\n",
            "epoch 70 - loss: 0.343, accuracy: 0.852\n",
            "epoch 75 - loss: 0.342, accuracy: 0.852\n"
          ]
        }
      ],
      "source": [
        "for epoch in range(76):\n",
        "    y_pred = model(X_train)\n",
        "    y_pred = torch.squeeze(y_pred)\n",
        "    train_loss = criterion(y_pred, y_train)\n",
        "    if epoch % 5 == 0:\n",
        "        y_test_pred = model(X_test)\n",
        "        y_test_pred = torch.squeeze(y_test_pred)\n",
        "        test_loss = criterion(y_test_pred, y_test)\n",
        "        test_acc = calculate_accuracy(y_test, y_test_pred)\n",
        "        print (str('epoch ') + str(epoch) + \" - loss: \"+ str(round_tensor(test_loss)) + str(', accuracy: ') + str(round_tensor(test_acc)))\n",
        "    optimiser.zero_grad()\n",
        "    train_loss.backward()\n",
        "    optimiser.step()"
      ]
    },
    {
      "cell_type": "markdown",
      "source": [
        "Looks like this LSTM did a decent job of predicting the target, having around $85\\%$ accuracy. Now we should find which hyperparameters yield the best model, to see if we can get any kind of improvement."
      ],
      "metadata": {
        "id": "sKkmZF433CuD"
      }
    },
    {
      "cell_type": "markdown",
      "metadata": {
        "id": "rCX0_C69jJWo"
      },
      "source": [
        "## Hyperparameter Tuning  <a class=\"anchor\" id=\"10\"></a>\n",
        "    \n",
        "It's important to tune the hyperparameters of the neural network because we can get a better performance, with respect to both accuracy and speed, with different hidden layer sizes, activation functions, optimization algorithms, batch sizes, etc. This is because we can help the model generalize to unseen data and avoid overfitting or underfitting.]\n",
        "\n",
        "Here, we use a range of values for the hidden unit size, dropout rate, and learning rate to evaluate which combination yields the best model:"
      ]
    },
    {
      "cell_type": "code",
      "execution_count": 46,
      "metadata": {
        "colab": {
          "base_uri": "https://localhost:8080/"
        },
        "id": "ooI8K-exjJWp",
        "outputId": "04af3112-5bbd-4c9e-c42e-d9258bec1a35"
      },
      "outputs": [
        {
          "output_type": "stream",
          "name": "stdout",
          "text": [
            "hidden_size: 50, dropout_rate: 0.8, lr: 0.1, layers: 1, test_accuracy: 0.8423038125038147\n",
            "hidden_size: 50, dropout_rate: 0.8, lr: 0.1, layers: 2, test_accuracy: 0.8393871188163757\n",
            "hidden_size: 50, dropout_rate: 0.8, lr: 0.01, layers: 1, test_accuracy: 0.8542428016662598\n",
            "hidden_size: 50, dropout_rate: 0.8, lr: 0.01, layers: 2, test_accuracy: 0.8482149839401245\n",
            "hidden_size: 50, dropout_rate: 0.5, lr: 0.1, layers: 1, test_accuracy: 0.8338648080825806\n",
            "hidden_size: 50, dropout_rate: 0.5, lr: 0.1, layers: 2, test_accuracy: 0.8460760712623596\n",
            "hidden_size: 50, dropout_rate: 0.5, lr: 0.01, layers: 1, test_accuracy: 0.8546317219734192\n",
            "hidden_size: 50, dropout_rate: 0.5, lr: 0.01, layers: 2, test_accuracy: 0.8517538905143738\n",
            "hidden_size: 50, dropout_rate: 0.3, lr: 0.1, layers: 1, test_accuracy: 0.8525705933570862\n",
            "hidden_size: 50, dropout_rate: 0.3, lr: 0.1, layers: 2, test_accuracy: 0.8510149717330933\n",
            "hidden_size: 50, dropout_rate: 0.3, lr: 0.01, layers: 1, test_accuracy: 0.8527650237083435\n",
            "hidden_size: 50, dropout_rate: 0.3, lr: 0.01, layers: 2, test_accuracy: 0.8534650206565857\n",
            "hidden_size: 75, dropout_rate: 0.8, lr: 0.1, layers: 1, test_accuracy: 0.8439371585845947\n",
            "hidden_size: 75, dropout_rate: 0.8, lr: 0.1, layers: 2, test_accuracy: 0.8423426747322083\n",
            "hidden_size: 75, dropout_rate: 0.8, lr: 0.01, layers: 1, test_accuracy: 0.8545928001403809\n",
            "hidden_size: 75, dropout_rate: 0.8, lr: 0.01, layers: 2, test_accuracy: 0.8473594188690186\n",
            "hidden_size: 75, dropout_rate: 0.5, lr: 0.1, layers: 1, test_accuracy: 0.8410982489585876\n",
            "hidden_size: 75, dropout_rate: 0.5, lr: 0.1, layers: 2, test_accuracy: 0.8141868114471436\n",
            "hidden_size: 75, dropout_rate: 0.5, lr: 0.01, layers: 1, test_accuracy: 0.8538539409637451\n",
            "hidden_size: 75, dropout_rate: 0.5, lr: 0.01, layers: 2, test_accuracy: 0.8538928031921387\n",
            "hidden_size: 75, dropout_rate: 0.3, lr: 0.1, layers: 1, test_accuracy: 0.8459205031394958\n",
            "hidden_size: 75, dropout_rate: 0.3, lr: 0.1, layers: 2, test_accuracy: 0.8461538553237915\n",
            "hidden_size: 75, dropout_rate: 0.3, lr: 0.01, layers: 1, test_accuracy: 0.8544761538505554\n",
            "hidden_size: 75, dropout_rate: 0.3, lr: 0.01, layers: 2, test_accuracy: 0.8494983315467834\n",
            "Best model accuracy: tensor(0.8546, device='cuda:0')\n"
          ]
        }
      ],
      "source": [
        "import itertools\n",
        "\n",
        "# Define the hyperparameters\n",
        "hidden_size_list = [50, 75]\n",
        "dropout_rate_list = [0.8, 0.5, 0.3]\n",
        "lr_list = [0.1, 0.01]\n",
        "layer_count_list = [1, 2]\n",
        "\n",
        "best_accuracy = 0.0\n",
        "best_model = None\n",
        "\n",
        "# Iterate over all combinations of hyperparameters\n",
        "for hidden_size, dropout_rate, lr, layer_count in itertools.product(hidden_size_list, dropout_rate_list, lr_list, layer_count_list):\n",
        "    # Create the model\n",
        "    model = LSTM(num_features, hidden_size, dropout_rate, layer_count)\n",
        "    model = model.to(device)\n",
        "\n",
        "    # Define the loss criterion\n",
        "    criterion = nn.BCELoss()\n",
        "    criterion = criterion.to(device)\n",
        "\n",
        "    # Define the optimizer\n",
        "    optimizer = optim.Adam(model.parameters(), lr=lr)\n",
        "\n",
        "    # Train the model\n",
        "    for epoch in range(100):\n",
        "        y_pred = model(X_train)\n",
        "        y_pred = torch.squeeze(y_pred)\n",
        "        train_loss = criterion(y_pred, y_train)\n",
        "        optimizer.zero_grad()\n",
        "        train_loss.backward()\n",
        "        optimizer.step()\n",
        "\n",
        "    # Evaluate the model on the test set\n",
        "    y_test_pred = model(X_test)\n",
        "    y_test_pred = torch.squeeze(y_test_pred)\n",
        "    test_loss = criterion(y_test_pred, y_test)\n",
        "    test_acc = calculate_accuracy(y_test, y_test_pred)\n",
        "\n",
        "    # Print and store the results\n",
        "    print(f\"hidden_size: {hidden_size}, dropout_rate: {dropout_rate}, lr: {lr}, layers: {layer_count}, test_accuracy: {test_acc}\")\n",
        "\n",
        "    if test_acc > best_accuracy:\n",
        "        best_accuracy = test_acc\n",
        "        best_model = model\n",
        "\n",
        "print(\"Best model accuracy:\", best_accuracy)"
      ]
    },
    {
      "cell_type": "code",
      "execution_count": 47,
      "metadata": {
        "id": "kyJfE3SojJWp"
      },
      "outputs": [],
      "source": [
        "# Assuming X_test is your input tensor\n",
        "X_test = X_test.to('cuda:0')  # Move the input tensor to GPU\n",
        "\n",
        "# Make predictions\n",
        "y_pred = best_model(X_test)\n",
        "\n",
        "# Threshold the predictions (any value > 0.5 is taken as 1, for it should rain tomorrow)\n",
        "y_pred = (y_pred > 0.5)"
      ]
    },
    {
      "cell_type": "markdown",
      "metadata": {
        "id": "Hoh2nu7BjJWp"
      },
      "source": [
        "## Model Evaluation and Analysis <a class=\"anchor\" id=\"11\"></a>\n",
        "    \n",
        "Taking at the confusion matrix and then metrics like recall, f1-score, accuracy:"
      ]
    },
    {
      "cell_type": "code",
      "execution_count": 48,
      "metadata": {
        "colab": {
          "base_uri": "https://localhost:8080/",
          "height": 447
        },
        "id": "caqpE2hsjJWq",
        "outputId": "431cb3ad-8dc0-48b2-eb49-a9f71437c30e"
      },
      "outputs": [
        {
          "output_type": "execute_result",
          "data": {
            "text/plain": [
              "<Axes: >"
            ]
          },
          "metadata": {},
          "execution_count": 48
        },
        {
          "output_type": "display_data",
          "data": {
            "text/plain": [
              "<Figure size 640x480 with 2 Axes>"
            ],
            "image/png": "[encoded data removed]"
          },
          "metadata": {}
        }
      ],
      "source": [
        "# move tensors to cpu\n",
        "y_test = y_test.cpu()\n",
        "y_pred = y_pred.cpu()\n",
        "\n",
        "# Calculate confusion matrix\n",
        "cf_matrix = confusion_matrix(y_test, y_pred)\n",
        "\n",
        "# Plot the confusion matrix\n",
        "sns.heatmap(cf_matrix / np.sum(cf_matrix), cmap=\"Blues\", annot=True, annot_kws={'size': 15})"
      ]
    },
    {
      "cell_type": "code",
      "execution_count": 50,
      "metadata": {
        "colab": {
          "base_uri": "https://localhost:8080/"
        },
        "id": "PC0J5SntjJWq",
        "outputId": "f645a64a-96f9-49ed-fe75-286e7b6c37b6"
      },
      "outputs": [
        {
          "output_type": "stream",
          "name": "stdout",
          "text": [
            "              precision    recall  f1-score   support\n",
            "\n",
            "         0.0       0.88      0.95      0.91     20399\n",
            "         1.0       0.72      0.48      0.58      5315\n",
            "\n",
            "    accuracy                           0.85     25714\n",
            "   macro avg       0.80      0.72      0.75     25714\n",
            "weighted avg       0.84      0.85      0.84     25714\n",
            "\n"
          ]
        }
      ],
      "source": [
        "print(classification_report(y_test,y_pred))"
      ]
    },
    {
      "cell_type": "markdown",
      "metadata": {
        "id": "-tFml2MfjJWq"
      },
      "source": [
        "## Comparative Analysis and Reporting  <a class=\"anchor\" id=\"11\"></a>"
      ]
    },
    {
      "cell_type": "markdown",
      "metadata": {
        "id": "tI-vWj3rjJWq"
      },
      "source": [
        "To summarize, I used pytorch to create a deep learning neural network, specifically an LSTM. This LSTM was then used to predict if it would rain tomorrow in Australia using the provided dataset from kaggle. Previously, I used tensorflow to create a multilayer fully connected neural network model for the same purpose.\n",
        "\n",
        "Previously, we generally did well for predicting that it was not going to rain. That is, we had  74%\n",
        "  true negatives,  4%\n",
        "  false positives,  12%\n",
        "  false negatives, and  10%\n",
        "  true positives. We could have had a better rate for predicting if it would rain because we got it correct  55%\n",
        "  of the time. However, getting the prediction for no rain right  90%\n",
        "  of the time is not bad. Also, our accuracy was around $84\\%$. So overall, we had good results.\n",
        "  \n",
        "In terms of performance, the best LSTM beat our previous neural network having an accuracy of around $85\\%$. However, it is not certain that this improvement came from the model or if it was a result reversing some feature engineering we did (previously we removed some features and replaced them with differences between feautres, which may have been removing too much information). Either way, I was able to get a model with  highest f1 score (and scores for positive and negative predictions) and accuracy through hyperparameter tuning.\n",
        "\n",
        "As for the experience, I definitely learned that pytorch is similar to the previously used tensorflow, but there are still major differences. They both have the customizability of layers, but i would argue that tensorflow has more customizability, at least in my experience. But pytorch seemed more simple and user-friendly because it was relatively easy to pickup.\n",
        "\n",
        "Perhaps the most important thing I learned was that thinking about computing resources when doing any deep learning or even machine learning for that matter is extremely important. This is due to how I was running this notebook on my own computer, kaggle's vm, and finally on Google Colab. The free GPU provided definitely helped with speeding up the hyperparameter tuning process, and helped me get results. Although the point of this notebook was not to optimize the speed of the LSTM or finding the best one, one could find it useful to explore ways for accomplishing that.\n",
        "\n",
        "For further exploration, different LSTM architectures could be explored. For example, what would happen if I used more or less fully connected layers? What about LSTM layers? We also did not incorporate batch size in this notebook, but doing so may lead to an imrpovement. Thus, different hyperparameters could also be manipulated such as batch size, the choice of optimization algorithm used, or just different ranges of values that we did tune."
      ]
    }
  ],
  "metadata": {
    "kaggle": {
      "accelerator": "none",
      "dataSources": [
        {
          "datasetId": 6012,
          "sourceId": 1733506,
          "sourceType": "datasetVersion"
        }
      ],
      "dockerImageVersionId": 30587,
      "isGpuEnabled": false,
      "isInternetEnabled": false,
      "language": "python",
      "sourceType": "notebook"
    },
    "kernelspec": {
      "display_name": "Python 3",
      "name": "python3"
    },
    "language_info": {
      "codemirror_mode": {
        "name": "ipython",
        "version": 3
      },
      "file_extension": ".py",
      "mimetype": "text/x-python",
      "name": "python",
      "nbconvert_exporter": "python",
      "pygments_lexer": "ipython3",
      "version": "3.10.9"
    },
    "colab": {
      "provenance": [],
      "gpuType": "T4"
    },
    "accelerator": "GPU"
  },
  "nbformat": 4,
  "nbformat_minor": 0
}